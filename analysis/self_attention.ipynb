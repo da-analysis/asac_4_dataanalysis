{
 "cells": [
  {
   "cell_type": "code",
   "execution_count": 0,
   "metadata": {
    "application/vnd.databricks.v1+cell": {
     "cellMetadata": {},
     "inputWidgets": {},
     "nuid": "c7e6d744-eb29-44d3-83f3-6feb718851fc",
     "showTitle": false,
     "title": ""
    },
    "colab": {
     "base_uri": "https://localhost:8080/"
    },
    "id": "QIIxrt4oGJSt",
    "outputId": "ccd36ef3-0bba-45cc-d8b3-339acd787a73"
   },
   "outputs": [],
   "source": [
    "torch.randn(768)"
   ]
  },
  {
   "cell_type": "code",
   "execution_count": 0,
   "metadata": {
    "application/vnd.databricks.v1+cell": {
     "cellMetadata": {},
     "inputWidgets": {},
     "nuid": "e46d94da-7266-4a4b-9520-930fd0ddde2b",
     "showTitle": false,
     "title": ""
    },
    "colab": {
     "base_uri": "https://localhost:8080/"
    },
    "id": "0ZuTNtyxFZ7G",
    "outputId": "3258fcda-5266-4d47-fbda-d328fa93d4b5"
   },
   "outputs": [],
   "source": [
    "import torch\n",
    "import torch.nn as nn\n",
    "\n",
    "# 리뷰 임베딩 준비\n",
    "review_embeddings = [\n",
    "    torch.randn(768),\n",
    "    torch.randn(768),\n",
    "    torch.randn(768),]\n",
    "\n",
    "# 임베딩 차원\n",
    "d_emb = 768\n",
    "\n",
    "# 모델 차원\n",
    "d_model = 512\n",
    "\n",
    "class SelfAttention(nn.Module):\n",
    "    def __init__(self):\n",
    "        super().__init__()\n",
    "        self.W_q = nn.Linear(d_emb, d_model)\n",
    "        self.W_k = nn.Linear(d_emb, d_model)\n",
    "        self.W_v = nn.Linear(d_emb, d_model)\n",
    "\n",
    "    def forward(self, embeddings):\n",
    "        queries = self.W_q(embeddings)  # (n, d_model)\n",
    "        keys = self.W_k(embeddings)  # (n, d_model)\n",
    "        values = self.W_v(embeddings)  # (n, d_model)\n",
    "\n",
    "        # 어텐션 스코어 계산\n",
    "        scores = queries @ keys.transpose(-2, -1)  # (n, n)\n",
    "\n",
    "        # 어텐션 가중치 계산\n",
    "        weights = nn.functional.softmax(scores, dim=-1)  # (n, n)\n",
    "\n",
    "        # 가중합 계산\n",
    "        weighted_sum = weights @ values  # (n, d_model)\n",
    "\n",
    "        # 특징 벡터 반환\n",
    "        feature_vector = weighted_sum.mean(dim=0)  # (d_model)\n",
    "        return feature_vector\n",
    "\n",
    "# 모델 생성 및 실행\n",
    "attention = SelfAttention()\n",
    "product_feature = attention(torch.stack(review_embeddings))\n",
    "print(product_feature.shape)  # 출력: torch.Size([512])"
   ]
  },
  {
   "cell_type": "code",
   "execution_count": 0,
   "metadata": {
    "application/vnd.databricks.v1+cell": {
     "cellMetadata": {},
     "inputWidgets": {},
     "nuid": "dd622aee-4604-4b2f-aee3-47a473c1fe76",
     "showTitle": false,
     "title": ""
    },
    "colab": {
     "base_uri": "https://localhost:8080/"
    },
    "id": "Dl60XB-8FmQv",
    "outputId": "9d9c7359-6439-4ba9-d826-cbd2c09e054a"
   },
   "outputs": [],
   "source": [
    "print(product_feature)"
   ]
  },
  {
   "cell_type": "code",
   "execution_count": 0,
   "metadata": {
    "application/vnd.databricks.v1+cell": {
     "cellMetadata": {},
     "inputWidgets": {},
     "nuid": "61874304-126e-47aa-a55f-f94f77ab7f0c",
     "showTitle": false,
     "title": ""
    },
    "id": "4ZMn8nVuFqoU"
   },
   "outputs": [],
   "source": []
  }
 ],
 "metadata": {
  "application/vnd.databricks.v1+notebook": {
   "dashboards": [],
   "environmentMetadata": null,
   "language": "python",
   "notebookMetadata": {
    "pythonIndentUnit": 4
   },
   "notebookName": "self_attention",
   "widgets": {}
  },
  "colab": {
   "provenance": []
  },
  "kernelspec": {
   "display_name": "Python 3",
   "name": "python3"
  },
  "language_info": {
   "name": "python"
  }
 },
 "nbformat": 4,
 "nbformat_minor": 0
}
