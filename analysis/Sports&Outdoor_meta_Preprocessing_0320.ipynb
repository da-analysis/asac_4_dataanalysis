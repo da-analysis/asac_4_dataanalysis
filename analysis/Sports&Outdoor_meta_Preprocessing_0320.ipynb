{
 "cells": [
  {
   "cell_type": "code",
   "execution_count": 1,
   "id": "28291da6",
   "metadata": {},
   "outputs": [],
   "source": [
    "import pandas as pd\n",
    "import json\n",
    "import re"
   ]
  },
  {
   "cell_type": "code",
   "execution_count": 2,
   "id": "1272dde8",
   "metadata": {},
   "outputs": [],
   "source": [
    "pd.options.display.max_colwidth = 200\n",
    "pd.set_option('display.max_columns', 30)"
   ]
  },
  {
   "cell_type": "code",
   "execution_count": 3,
   "id": "462cbd8b",
   "metadata": {},
   "outputs": [],
   "source": [
    "path = r\"C:\\Users\\kycar\\AMAZON\\meta_Sports_and_Outdoors.json\\meta_Sports_and_Outdoors.json\"\n",
    "df = pd.read_json(path, lines=True, nrows=100000)"
   ]
  },
  {
   "cell_type": "code",
   "execution_count": 4,
   "id": "0ebb2f42",
   "metadata": {},
   "outputs": [
    {
     "name": "stdout",
     "output_type": "stream",
     "text": [
      "<class 'pandas.core.frame.DataFrame'>\n",
      "RangeIndex: 100000 entries, 0 to 99999\n",
      "Data columns (total 19 columns):\n",
      " #   Column           Non-Null Count   Dtype \n",
      "---  ------           --------------   ----- \n",
      " 0   category         100000 non-null  object\n",
      " 1   tech1            100000 non-null  object\n",
      " 2   description      100000 non-null  object\n",
      " 3   fit              100000 non-null  object\n",
      " 4   title            100000 non-null  object\n",
      " 5   also_buy         100000 non-null  object\n",
      " 6   tech2            100000 non-null  object\n",
      " 7   brand            100000 non-null  object\n",
      " 8   feature          100000 non-null  object\n",
      " 9   rank             100000 non-null  object\n",
      " 10  also_view        100000 non-null  object\n",
      " 11  main_cat         100000 non-null  object\n",
      " 12  similar_item     100000 non-null  object\n",
      " 13  date             100000 non-null  object\n",
      " 14  price            100000 non-null  object\n",
      " 15  asin             100000 non-null  object\n",
      " 16  imageURL         100000 non-null  object\n",
      " 17  imageURLHighRes  100000 non-null  object\n",
      " 18  details          99862 non-null   object\n",
      "dtypes: object(19)\n",
      "memory usage: 14.5+ MB\n"
     ]
    }
   ],
   "source": [
    "df.info()"
   ]
  },
  {
   "cell_type": "code",
   "execution_count": 5,
   "id": "1e5cae6b",
   "metadata": {
    "scrolled": true
   },
   "outputs": [
    {
     "data": {
      "text/html": [
       "<div>\n",
       "<style scoped>\n",
       "    .dataframe tbody tr th:only-of-type {\n",
       "        vertical-align: middle;\n",
       "    }\n",
       "\n",
       "    .dataframe tbody tr th {\n",
       "        vertical-align: top;\n",
       "    }\n",
       "\n",
       "    .dataframe thead th {\n",
       "        text-align: right;\n",
       "    }\n",
       "</style>\n",
       "<table border=\"1\" class=\"dataframe\">\n",
       "  <thead>\n",
       "    <tr style=\"text-align: right;\">\n",
       "      <th></th>\n",
       "      <th>category</th>\n",
       "      <th>tech1</th>\n",
       "      <th>description</th>\n",
       "      <th>fit</th>\n",
       "      <th>title</th>\n",
       "      <th>also_buy</th>\n",
       "      <th>tech2</th>\n",
       "      <th>brand</th>\n",
       "      <th>feature</th>\n",
       "      <th>rank</th>\n",
       "      <th>also_view</th>\n",
       "      <th>main_cat</th>\n",
       "      <th>similar_item</th>\n",
       "      <th>date</th>\n",
       "      <th>price</th>\n",
       "      <th>asin</th>\n",
       "      <th>imageURL</th>\n",
       "      <th>imageURLHighRes</th>\n",
       "      <th>details</th>\n",
       "    </tr>\n",
       "  </thead>\n",
       "  <tbody>\n",
       "    <tr>\n",
       "      <th>0</th>\n",
       "      <td>[Sports &amp; Outdoors, Sports &amp; Fitness, Other Sports, Dance, Clothing]</td>\n",
       "      <td></td>\n",
       "      <td>[3 layers of super-soft polyester tulle can be cut to length. Satin covered stretch elastic waist gives a one size fits all most.]</td>\n",
       "      <td></td>\n",
       "      <td>Adult Tutu Assorted Colors (Turquoise)</td>\n",
       "      <td>[]</td>\n",
       "      <td></td>\n",
       "      <td>BubuBibi</td>\n",
       "      <td>[3 Layers - 100% Polyester Tulle, Hand Wash Lay FLat to Dry, 100% Polyester, FIT: most Kids. Teens . Adults *Please Check Measurements for Proper Fit, WAIST: Satin Covered Elastic 18\" relaxed to 3...</td>\n",
       "      <td>712,899 in Clothing, Shoes &amp; Jewelry (</td>\n",
       "      <td>[B071LQWQBQ, B00M14DG0O, B076GTTY9W, B07BSZ4GYZ, B07CJWWMQW, B074DQJMYT, B002BZX8Z6, B07CPV7P5B, B01M0BIP9H, B07C9T6L8D, B07FQ3QG5G, B0717BCCGP, B01M0N9TCF, B01B8L258E, B06XBG5JZP, B0764FVL5D, B06...</td>\n",
       "      <td>&lt;img src=\"https://images-na.ssl-images-amazon.com/images/G/01/nav2/images/gui/amazon-fashion-store-new._CB520838675_.png\" class=\"nav-categ-image\" alt=\"AMAZON FASHION\"/&gt;</td>\n",
       "      <td></td>\n",
       "      <td>&lt;div class=\"a-fixed-left-grid a-spacing-none\"&gt;&lt;div class=\"a-fixed-left-grid-inner\" style=\"padding-left:280px\"&gt;&lt;div class=\"a-fixed-left-grid-col a-col-left\" style=\"width:280px;margin-left:-280px;fl...</td>\n",
       "      <td>$11.80</td>\n",
       "      <td>0000032042</td>\n",
       "      <td>[]</td>\n",
       "      <td>[]</td>\n",
       "      <td>NaN</td>\n",
       "    </tr>\n",
       "    <tr>\n",
       "      <th>1</th>\n",
       "      <td>[Sports &amp; Outdoors, Sports &amp; Fitness, Other Sports, Dance, Clothing, 3 Layers - 100% Polyester Tulle, Hand Wash Lay FLat to Dry, 100% Polyester, FIT: most Kids. Teens . Adults *Please Check Measur...</td>\n",
       "      <td></td>\n",
       "      <td>[3 layers of super-soft polyester tulle can be cut to length. Satin covered stretch elastic waist gives a one size fits all most]</td>\n",
       "      <td></td>\n",
       "      <td>Bububibi Adult Ballet Tutu Cheetah Pink</td>\n",
       "      <td>[]</td>\n",
       "      <td></td>\n",
       "      <td>BubuBibi</td>\n",
       "      <td>[3 Layers - 100% Polyester Tulle, Hand Wash Lay FLat to Dry, 100% Polyester, FIT: most Kids. Teens . Adults *Please Check Measurements for Proper Fit, WAIST: Satin Covered Elastic 18\" relaxed to 3...</td>\n",
       "      <td>712,899 in Clothing, Shoes &amp; Jewelry (</td>\n",
       "      <td>[]</td>\n",
       "      <td>&lt;img src=\"https://images-na.ssl-images-amazon.com/images/G/01/nav2/images/gui/amazon-fashion-store-new._CB520838675_.png\" class=\"nav-categ-image\" alt=\"AMAZON FASHION\"/&gt;</td>\n",
       "      <td></td>\n",
       "      <td>&lt;div class=\"a-fixed-left-grid a-spacing-none\"&gt;&lt;div class=\"a-fixed-left-grid-inner\" style=\"padding-left:280px\"&gt;&lt;div class=\"a-fixed-left-grid-col a-col-left\" style=\"width:280px;margin-left:-280px;fl...</td>\n",
       "      <td>$11.97</td>\n",
       "      <td>0000032069</td>\n",
       "      <td>[]</td>\n",
       "      <td>[]</td>\n",
       "      <td>NaN</td>\n",
       "    </tr>\n",
       "    <tr>\n",
       "      <th>2</th>\n",
       "      <td>[Sports &amp; Outdoors, Sports &amp; Fitness, Other Sports, Dance, Clothing, Girls, Skirts]</td>\n",
       "      <td></td>\n",
       "      <td>[3 layers of super-soft polyester tulle can be cut to length. Satin covered stretch elastic waist gives a one size fits all most.]</td>\n",
       "      <td></td>\n",
       "      <td>Girls Ballet Tutu Neon Orange</td>\n",
       "      <td>[B01MYHD3LV]</td>\n",
       "      <td></td>\n",
       "      <td>Unknown</td>\n",
       "      <td>[3 Layers - 100% Polyester Tulle, Hand Wash Lay FLat to Dry, 100% Polyester, WAIST: Satin Covered Elastic 16\" relaxed to 32\" fully stretched, LENGTH: 11\" to 12\" *can easily be cut to desired lengt...</td>\n",
       "      <td>[&gt;#924,198 in Toys &amp; Games (See Top 100 in Toys &amp; Games), &gt;#182 in Sports &amp; Outdoors &gt; Sports &amp; Fitness &gt; Other Sports &gt; Dance &gt; Clothing &gt; Girls &gt; Skirts]</td>\n",
       "      <td>[B0152HBC52, B07C29WWV1, B01M0BIP9H, B00VXJHFRS, B01M0N9TCF, B07CXMGJBC, B007XAI53E, B07CRBSC85, B06XWWSJJ8, B07DHKXYD2, B01G1EUNLY, B01LZO2637, B01CHB9NSY, B076377YSY, B00YAA2OIM, B06XWVQM2D, B07...</td>\n",
       "      <td>Toys &amp; Games</td>\n",
       "      <td></td>\n",
       "      <td></td>\n",
       "      <td>$5.70</td>\n",
       "      <td>0000031860</td>\n",
       "      <td>[]</td>\n",
       "      <td>[]</td>\n",
       "      <td>NaN</td>\n",
       "    </tr>\n",
       "    <tr>\n",
       "      <th>3</th>\n",
       "      <td>[Sports &amp; Outdoors, Sports &amp; Fitness, Other Sports, Dance, Clothing, Girls, Skirts]</td>\n",
       "      <td></td>\n",
       "      <td>[TUtu]</td>\n",
       "      <td></td>\n",
       "      <td>Girls Ballet Tutu Zebra Hot Pink</td>\n",
       "      <td>[]</td>\n",
       "      <td></td>\n",
       "      <td>Tutu</td>\n",
       "      <td>[Tutu]</td>\n",
       "      <td>1,314,199 in Sports &amp; Outdoors (</td>\n",
       "      <td>[0000013714]</td>\n",
       "      <td>Sports &amp; Outdoors</td>\n",
       "      <td></td>\n",
       "      <td></td>\n",
       "      <td>$7.50</td>\n",
       "      <td>0000031852</td>\n",
       "      <td>[]</td>\n",
       "      <td>[]</td>\n",
       "      <td>NaN</td>\n",
       "    </tr>\n",
       "    <tr>\n",
       "      <th>4</th>\n",
       "      <td>[Sports &amp; Outdoors, Sports &amp; Fitness, Other Sports, Dance, Clothing, Girls, Skirts]</td>\n",
       "      <td></td>\n",
       "      <td>[Dance tutu for girls ages 2-8 years. Perfect for dance practice, recitals and performances, costumes or just for fun!]</td>\n",
       "      <td></td>\n",
       "      <td>Girls Ballet Tutu Neon Blue</td>\n",
       "      <td>[B009THXHPA, B00BEU1ZBI, B079PYLZTM, B00BEU1ZRC, B079PQPLT3, B00UP6A3R4, B01AKG0G1G, B00CP4VATE, B00BEU1Q8U, B00UP6AG6W, B0148RUEWY, B004UUDZ08, B00865TGQU, B07KWG6875, B00329AC90, B00UP69X84, B07...</td>\n",
       "      <td></td>\n",
       "      <td>Bububibi</td>\n",
       "      <td>[3 Layers - 100% Polyester Tulle, Hand Wash Lay FLat to Dry, 100% Polyester, WAIST: Satin Covered Elastic 16\" relaxed to 32\" fully stretched, LENGTH: 11\" to 12\" *can easily be cut to desired lengt...</td>\n",
       "      <td>[&gt;#393,597 in Toys &amp; Games (See Top 100 in Toys &amp; Games), &gt;#62 in Sports &amp; Outdoors &gt; Sports &amp; Fitness &gt; Other Sports &gt; Dance &gt; Clothing &gt; Girls &gt; Skirts]</td>\n",
       "      <td>[B009THXHPA, B079PYLZTM, B079PQPLT3, B00UP6A3R4, B00BEU1HFM, B0148RB6O4, B00BEU1PB8, B00CP4VATE, B07BS6BB44, B01FR954TU, B07BYRDR5M, B00UP69X84, B00VXJHFRS, B07CXMGJBC, B07CJWWMQW, B07BSRNM8J, B07...</td>\n",
       "      <td>Toys &amp; Games</td>\n",
       "      <td></td>\n",
       "      <td></td>\n",
       "      <td>$6.54</td>\n",
       "      <td>0000031895</td>\n",
       "      <td>[]</td>\n",
       "      <td>[]</td>\n",
       "      <td>NaN</td>\n",
       "    </tr>\n",
       "    <tr>\n",
       "      <th>...</th>\n",
       "      <td>...</td>\n",
       "      <td>...</td>\n",
       "      <td>...</td>\n",
       "      <td>...</td>\n",
       "      <td>...</td>\n",
       "      <td>...</td>\n",
       "      <td>...</td>\n",
       "      <td>...</td>\n",
       "      <td>...</td>\n",
       "      <td>...</td>\n",
       "      <td>...</td>\n",
       "      <td>...</td>\n",
       "      <td>...</td>\n",
       "      <td>...</td>\n",
       "      <td>...</td>\n",
       "      <td>...</td>\n",
       "      <td>...</td>\n",
       "      <td>...</td>\n",
       "      <td>...</td>\n",
       "    </tr>\n",
       "    <tr>\n",
       "      <th>99995</th>\n",
       "      <td>[Sports &amp; Outdoors, Outdoor Recreation, Water Sports, Kayaking]</td>\n",
       "      <td></td>\n",
       "      <td>[This deck bag holds all the necessities for a day of fishing. Designed for anglers, our streamlined Crossfire features a roomy top pocket and multiple organizer pockets sized to fit standard fly ...</td>\n",
       "      <td></td>\n",
       "      <td>Seattle Sports Crossfire Deck Bag</td>\n",
       "      <td>[]</td>\n",
       "      <td></td>\n",
       "      <td>Seattle Sports</td>\n",
       "      <td>[Anglers deck bag; holds all necessities for a day of fishing, Roomy top pocket; easy totability with adjustable, detachable shoulder strap, Streamlined design with roomy top pocket and multiple o...</td>\n",
       "      <td>1,425,438 in Sports &amp; Outdoors (</td>\n",
       "      <td>[]</td>\n",
       "      <td>Sports &amp; Outdoors</td>\n",
       "      <td></td>\n",
       "      <td></td>\n",
       "      <td></td>\n",
       "      <td>B001HYKE2W</td>\n",
       "      <td>[]</td>\n",
       "      <td>[]</td>\n",
       "      <td>{'Shipping Weight:': '1.4 pounds', 'ASIN: ': 'B001HYKE2W', 'Item model number:': '056417'}</td>\n",
       "    </tr>\n",
       "    <tr>\n",
       "      <th>99996</th>\n",
       "      <td>[Sports &amp; Outdoors, Sports &amp; Fitness, Hunting &amp; Fishing, Fishing, Lures, Baits &amp; Attractants, Hard Lures, Topwater Lures]</td>\n",
       "      <td></td>\n",
       "      <td>[Rapala J05GFR Jointed, Slight exaggeration of Rapala's unique baitfish in distress action. Can be fished like the Original Floating, top to bottom. It is the perfect choice after a cold front, wh...</td>\n",
       "      <td></td>\n",
       "      <td>Rapala Jointed 05 Fishing lure, 2-Inch, Gold Fluorescent Red</td>\n",
       "      <td>[B002FBENRI, B003H3I6LC, B00019NKZM, B003HLPLOE, B003NRMHV2, B00019NJSU]</td>\n",
       "      <td></td>\n",
       "      <td>Rapala</td>\n",
       "      <td>[Suspending/Neutral Buoyancy Tested, Long-Casting, Loud Rattles, Runs Straight and True, Jointed body]</td>\n",
       "      <td>1,026,668 in Sports &amp; Outdoors (</td>\n",
       "      <td>[]</td>\n",
       "      <td>Sports &amp; Outdoors</td>\n",
       "      <td></td>\n",
       "      <td></td>\n",
       "      <td>$9.99</td>\n",
       "      <td>B001HZ07KK</td>\n",
       "      <td>[]</td>\n",
       "      <td>[]</td>\n",
       "      <td>{'\n",
       "    Product Dimensions: \n",
       "    ': '2 x 0.4 x 0.4 inches ; 0.64 ounces', 'Shipping Weight:': '0.8 ounces (', 'Domestic Shipping: ': 'Currently, item can be shipped only within the U.S. and to APO/...</td>\n",
       "    </tr>\n",
       "    <tr>\n",
       "      <th>99997</th>\n",
       "      <td>[Sports &amp; Outdoors, Sports &amp; Fitness, Accessories, Coach &amp; Referee Gear, Scoreboards &amp; Timers]</td>\n",
       "      <td></td>\n",
       "      <td>[Use the SSG / BSN SK999 Indoor/Outdoor Tabletop Scoreboard for a wide variety of sporting events and enjoy its functional versatility. This scoreboard is designed to offer maximum portability and...</td>\n",
       "      <td></td>\n",
       "      <td>BSN Sports SK999 Indoor/Outdoor Tabletop Scoreboard</td>\n",
       "      <td>[B000YPMZ40, B004082MX6, B003SFP4CI, B001EX7GM2, B01CF7TXFI, B06XVCVQ4G, B01KZA8WT0, B0000BYRS2, 1119430240, B00MHY2T4M, B000GE3SYA, B00N3LAC7O, B004TAQF42, B0009VELDW, B000J5YWZA, B00OZUAUKQ, B00...</td>\n",
       "      <td></td>\n",
       "      <td>BSN Sports</td>\n",
       "      <td>[Dimensions: 16\"H x 24\"W x 10\"D - 24 lbs., Dual LED setting for indoor and outdoor brightness, AC/DC, with built-in rechargeable battery (up to 6 hour battery life depending on brightness setting)...</td>\n",
       "      <td>214,489 in Sports &amp; Outdoors (</td>\n",
       "      <td>[]</td>\n",
       "      <td>Sports &amp; Outdoors</td>\n",
       "      <td></td>\n",
       "      <td></td>\n",
       "      <td>$420.95</td>\n",
       "      <td>B001HYYC4S</td>\n",
       "      <td>[https://images-na.ssl-images-amazon.com/images/I/51kZsOvOBSL._SS40_.jpg]</td>\n",
       "      <td>[https://images-na.ssl-images-amazon.com/images/I/51kZsOvOBSL.jpg]</td>\n",
       "      <td>{}</td>\n",
       "    </tr>\n",
       "    <tr>\n",
       "      <th>99998</th>\n",
       "      <td>[Sports &amp; Outdoors, Outdoor Recreation, Climbing, Mountaineering &amp; Ice Equipment]</td>\n",
       "      <td></td>\n",
       "      <td>[Keep track of your most important hardware with the Grivel Long Ice Axe Leash. A rubber tip protector covers the pick for safety and functionality. Use with any length ice axe.]</td>\n",
       "      <td></td>\n",
       "      <td>Grivel Long Ice Axe Leash</td>\n",
       "      <td>[B004R1O2PM, B0012E884I, B00RNJKCUO, B001V9HENU, B002F36TU0, B000E59HXC]</td>\n",
       "      <td></td>\n",
       "      <td>Grivel</td>\n",
       "      <td>[Material: nylon, Recommended Use: ice climbing, Manufacturer Warranty: lifetime]</td>\n",
       "      <td>260,394 in Sports &amp; Outdoors (</td>\n",
       "      <td>[B07CJQS9ZR, B07C44MVNL, B006GN0KJQ, B002YPBHWY, B07CQDJPM8, B00FFHH60U, B00W5P1WCS, B004JSI4Q6, B002IAJ2YU]</td>\n",
       "      <td>Sports &amp; Outdoors</td>\n",
       "      <td></td>\n",
       "      <td></td>\n",
       "      <td>$15.00</td>\n",
       "      <td>B001HYOBPI</td>\n",
       "      <td>[]</td>\n",
       "      <td>[]</td>\n",
       "      <td>{'\n",
       "    Product Dimensions: \n",
       "    ': '8 x 5 x 2 inches', 'Shipping Weight:': '0.3 ounces (', 'ASIN: ': 'B001HYOBPI', 'Item model number:': 'Grivel'}</td>\n",
       "    </tr>\n",
       "    <tr>\n",
       "      <th>99999</th>\n",
       "      <td>[Sports &amp; Outdoors, Sports &amp; Fitness, Hunting &amp; Fishing, Fishing, Accessories, Nets]</td>\n",
       "      <td></td>\n",
       "      <td>[A great net for all around use and will easily handle fish to 2. Specs: 2 overall length 9 by 13 hoop Soft nylon net bag.]</td>\n",
       "      <td></td>\n",
       "      <td>Brodin Landing Nets Streambase Trout Net</td>\n",
       "      <td>[]</td>\n",
       "      <td></td>\n",
       "      <td>Brodin Landing Nets</td>\n",
       "      <td>[]</td>\n",
       "      <td>4,231,375 in Sports &amp; Outdoors (</td>\n",
       "      <td>[]</td>\n",
       "      <td>Sports &amp; Outdoors</td>\n",
       "      <td></td>\n",
       "      <td></td>\n",
       "      <td>$60.00</td>\n",
       "      <td>B001HZ0CIM</td>\n",
       "      <td>[]</td>\n",
       "      <td>[]</td>\n",
       "      <td>{'\n",
       "    Product Dimensions: \n",
       "    ': '24 x 9 x 3 inches ; 6.7 ounces', 'Shipping Weight:': '9.1 ounces (', 'ASIN: ': 'B001HZ0CIM', 'Item model number:': 'Brodin'}</td>\n",
       "    </tr>\n",
       "  </tbody>\n",
       "</table>\n",
       "<p>100000 rows × 19 columns</p>\n",
       "</div>"
      ],
      "text/plain": [
       "                                                                                                                                                                                                      category  \\\n",
       "0                                                                                                                                         [Sports & Outdoors, Sports & Fitness, Other Sports, Dance, Clothing]   \n",
       "1      [Sports & Outdoors, Sports & Fitness, Other Sports, Dance, Clothing, 3 Layers - 100% Polyester Tulle, Hand Wash Lay FLat to Dry, 100% Polyester, FIT: most Kids. Teens . Adults *Please Check Measur...   \n",
       "2                                                                                                                          [Sports & Outdoors, Sports & Fitness, Other Sports, Dance, Clothing, Girls, Skirts]   \n",
       "3                                                                                                                          [Sports & Outdoors, Sports & Fitness, Other Sports, Dance, Clothing, Girls, Skirts]   \n",
       "4                                                                                                                          [Sports & Outdoors, Sports & Fitness, Other Sports, Dance, Clothing, Girls, Skirts]   \n",
       "...                                                                                                                                                                                                        ...   \n",
       "99995                                                                                                                                          [Sports & Outdoors, Outdoor Recreation, Water Sports, Kayaking]   \n",
       "99996                                                                                [Sports & Outdoors, Sports & Fitness, Hunting & Fishing, Fishing, Lures, Baits & Attractants, Hard Lures, Topwater Lures]   \n",
       "99997                                                                                                           [Sports & Outdoors, Sports & Fitness, Accessories, Coach & Referee Gear, Scoreboards & Timers]   \n",
       "99998                                                                                                                        [Sports & Outdoors, Outdoor Recreation, Climbing, Mountaineering & Ice Equipment]   \n",
       "99999                                                                                                                     [Sports & Outdoors, Sports & Fitness, Hunting & Fishing, Fishing, Accessories, Nets]   \n",
       "\n",
       "      tech1  \\\n",
       "0             \n",
       "1             \n",
       "2             \n",
       "3             \n",
       "4             \n",
       "...     ...   \n",
       "99995         \n",
       "99996         \n",
       "99997         \n",
       "99998         \n",
       "99999         \n",
       "\n",
       "                                                                                                                                                                                                   description  \\\n",
       "0                                                                           [3 layers of super-soft polyester tulle can be cut to length. Satin covered stretch elastic waist gives a one size fits all most.]   \n",
       "1                                                                            [3 layers of super-soft polyester tulle can be cut to length. Satin covered stretch elastic waist gives a one size fits all most]   \n",
       "2                                                                           [3 layers of super-soft polyester tulle can be cut to length. Satin covered stretch elastic waist gives a one size fits all most.]   \n",
       "3                                                                                                                                                                                                       [TUtu]   \n",
       "4                                                                                      [Dance tutu for girls ages 2-8 years. Perfect for dance practice, recitals and performances, costumes or just for fun!]   \n",
       "...                                                                                                                                                                                                        ...   \n",
       "99995  [This deck bag holds all the necessities for a day of fishing. Designed for anglers, our streamlined Crossfire features a roomy top pocket and multiple organizer pockets sized to fit standard fly ...   \n",
       "99996  [Rapala J05GFR Jointed, Slight exaggeration of Rapala's unique baitfish in distress action. Can be fished like the Original Floating, top to bottom. It is the perfect choice after a cold front, wh...   \n",
       "99997  [Use the SSG / BSN SK999 Indoor/Outdoor Tabletop Scoreboard for a wide variety of sporting events and enjoy its functional versatility. This scoreboard is designed to offer maximum portability and...   \n",
       "99998                       [Keep track of your most important hardware with the Grivel Long Ice Axe Leash. A rubber tip protector covers the pick for safety and functionality. Use with any length ice axe.]   \n",
       "99999                                                                              [A great net for all around use and will easily handle fish to 2. Specs: 2 overall length 9 by 13 hoop Soft nylon net bag.]   \n",
       "\n",
       "      fit                                                         title  \\\n",
       "0                                Adult Tutu Assorted Colors (Turquoise)   \n",
       "1                               Bububibi Adult Ballet Tutu Cheetah Pink   \n",
       "2                                         Girls Ballet Tutu Neon Orange   \n",
       "3                                      Girls Ballet Tutu Zebra Hot Pink   \n",
       "4                                           Girls Ballet Tutu Neon Blue   \n",
       "...    ..                                                           ...   \n",
       "99995                                Seattle Sports Crossfire Deck Bag    \n",
       "99996      Rapala Jointed 05 Fishing lure, 2-Inch, Gold Fluorescent Red   \n",
       "99997               BSN Sports SK999 Indoor/Outdoor Tabletop Scoreboard   \n",
       "99998                                         Grivel Long Ice Axe Leash   \n",
       "99999                          Brodin Landing Nets Streambase Trout Net   \n",
       "\n",
       "                                                                                                                                                                                                      also_buy  \\\n",
       "0                                                                                                                                                                                                           []   \n",
       "1                                                                                                                                                                                                           []   \n",
       "2                                                                                                                                                                                                 [B01MYHD3LV]   \n",
       "3                                                                                                                                                                                                           []   \n",
       "4      [B009THXHPA, B00BEU1ZBI, B079PYLZTM, B00BEU1ZRC, B079PQPLT3, B00UP6A3R4, B01AKG0G1G, B00CP4VATE, B00BEU1Q8U, B00UP6AG6W, B0148RUEWY, B004UUDZ08, B00865TGQU, B07KWG6875, B00329AC90, B00UP69X84, B07...   \n",
       "...                                                                                                                                                                                                        ...   \n",
       "99995                                                                                                                                                                                                       []   \n",
       "99996                                                                                                                                 [B002FBENRI, B003H3I6LC, B00019NKZM, B003HLPLOE, B003NRMHV2, B00019NJSU]   \n",
       "99997  [B000YPMZ40, B004082MX6, B003SFP4CI, B001EX7GM2, B01CF7TXFI, B06XVCVQ4G, B01KZA8WT0, B0000BYRS2, 1119430240, B00MHY2T4M, B000GE3SYA, B00N3LAC7O, B004TAQF42, B0009VELDW, B000J5YWZA, B00OZUAUKQ, B00...   \n",
       "99998                                                                                                                                 [B004R1O2PM, B0012E884I, B00RNJKCUO, B001V9HENU, B002F36TU0, B000E59HXC]   \n",
       "99999                                                                                                                                                                                                       []   \n",
       "\n",
       "      tech2                brand  \\\n",
       "0                       BubuBibi   \n",
       "1                       BubuBibi   \n",
       "2                        Unknown   \n",
       "3                           Tutu   \n",
       "4                       Bububibi   \n",
       "...     ...                  ...   \n",
       "99995             Seattle Sports   \n",
       "99996                     Rapala   \n",
       "99997                 BSN Sports   \n",
       "99998                     Grivel   \n",
       "99999        Brodin Landing Nets   \n",
       "\n",
       "                                                                                                                                                                                                       feature  \\\n",
       "0      [3 Layers - 100% Polyester Tulle, Hand Wash Lay FLat to Dry, 100% Polyester, FIT: most Kids. Teens . Adults *Please Check Measurements for Proper Fit, WAIST: Satin Covered Elastic 18\" relaxed to 3...   \n",
       "1      [3 Layers - 100% Polyester Tulle, Hand Wash Lay FLat to Dry, 100% Polyester, FIT: most Kids. Teens . Adults *Please Check Measurements for Proper Fit, WAIST: Satin Covered Elastic 18\" relaxed to 3...   \n",
       "2      [3 Layers - 100% Polyester Tulle, Hand Wash Lay FLat to Dry, 100% Polyester, WAIST: Satin Covered Elastic 16\" relaxed to 32\" fully stretched, LENGTH: 11\" to 12\" *can easily be cut to desired lengt...   \n",
       "3                                                                                                                                                                                                       [Tutu]   \n",
       "4      [3 Layers - 100% Polyester Tulle, Hand Wash Lay FLat to Dry, 100% Polyester, WAIST: Satin Covered Elastic 16\" relaxed to 32\" fully stretched, LENGTH: 11\" to 12\" *can easily be cut to desired lengt...   \n",
       "...                                                                                                                                                                                                        ...   \n",
       "99995  [Anglers deck bag; holds all necessities for a day of fishing, Roomy top pocket; easy totability with adjustable, detachable shoulder strap, Streamlined design with roomy top pocket and multiple o...   \n",
       "99996                                                                                                   [Suspending/Neutral Buoyancy Tested, Long-Casting, Loud Rattles, Runs Straight and True, Jointed body]   \n",
       "99997  [Dimensions: 16\"H x 24\"W x 10\"D - 24 lbs., Dual LED setting for indoor and outdoor brightness, AC/DC, with built-in rechargeable battery (up to 6 hour battery life depending on brightness setting)...   \n",
       "99998                                                                                                                        [Material: nylon, Recommended Use: ice climbing, Manufacturer Warranty: lifetime]   \n",
       "99999                                                                                                                                                                                                       []   \n",
       "\n",
       "                                                                                                                                                              rank  \\\n",
       "0                                                                                                                           712,899 in Clothing, Shoes & Jewelry (   \n",
       "1                                                                                                                           712,899 in Clothing, Shoes & Jewelry (   \n",
       "2      [>#924,198 in Toys & Games (See Top 100 in Toys & Games), >#182 in Sports & Outdoors > Sports & Fitness > Other Sports > Dance > Clothing > Girls > Skirts]   \n",
       "3                                                                                                                                 1,314,199 in Sports & Outdoors (   \n",
       "4       [>#393,597 in Toys & Games (See Top 100 in Toys & Games), >#62 in Sports & Outdoors > Sports & Fitness > Other Sports > Dance > Clothing > Girls > Skirts]   \n",
       "...                                                                                                                                                            ...   \n",
       "99995                                                                                                                             1,425,438 in Sports & Outdoors (   \n",
       "99996                                                                                                                             1,026,668 in Sports & Outdoors (   \n",
       "99997                                                                                                                               214,489 in Sports & Outdoors (   \n",
       "99998                                                                                                                               260,394 in Sports & Outdoors (   \n",
       "99999                                                                                                                             4,231,375 in Sports & Outdoors (   \n",
       "\n",
       "                                                                                                                                                                                                     also_view  \\\n",
       "0      [B071LQWQBQ, B00M14DG0O, B076GTTY9W, B07BSZ4GYZ, B07CJWWMQW, B074DQJMYT, B002BZX8Z6, B07CPV7P5B, B01M0BIP9H, B07C9T6L8D, B07FQ3QG5G, B0717BCCGP, B01M0N9TCF, B01B8L258E, B06XBG5JZP, B0764FVL5D, B06...   \n",
       "1                                                                                                                                                                                                           []   \n",
       "2      [B0152HBC52, B07C29WWV1, B01M0BIP9H, B00VXJHFRS, B01M0N9TCF, B07CXMGJBC, B007XAI53E, B07CRBSC85, B06XWWSJJ8, B07DHKXYD2, B01G1EUNLY, B01LZO2637, B01CHB9NSY, B076377YSY, B00YAA2OIM, B06XWVQM2D, B07...   \n",
       "3                                                                                                                                                                                                 [0000013714]   \n",
       "4      [B009THXHPA, B079PYLZTM, B079PQPLT3, B00UP6A3R4, B00BEU1HFM, B0148RB6O4, B00BEU1PB8, B00CP4VATE, B07BS6BB44, B01FR954TU, B07BYRDR5M, B00UP69X84, B00VXJHFRS, B07CXMGJBC, B07CJWWMQW, B07BSRNM8J, B07...   \n",
       "...                                                                                                                                                                                                        ...   \n",
       "99995                                                                                                                                                                                                       []   \n",
       "99996                                                                                                                                                                                                       []   \n",
       "99997                                                                                                                                                                                                       []   \n",
       "99998                                                                                             [B07CJQS9ZR, B07C44MVNL, B006GN0KJQ, B002YPBHWY, B07CQDJPM8, B00FFHH60U, B00W5P1WCS, B004JSI4Q6, B002IAJ2YU]   \n",
       "99999                                                                                                                                                                                                       []   \n",
       "\n",
       "                                                                                                                                                                       main_cat  \\\n",
       "0      <img src=\"https://images-na.ssl-images-amazon.com/images/G/01/nav2/images/gui/amazon-fashion-store-new._CB520838675_.png\" class=\"nav-categ-image\" alt=\"AMAZON FASHION\"/>   \n",
       "1      <img src=\"https://images-na.ssl-images-amazon.com/images/G/01/nav2/images/gui/amazon-fashion-store-new._CB520838675_.png\" class=\"nav-categ-image\" alt=\"AMAZON FASHION\"/>   \n",
       "2                                                                                                                                                                  Toys & Games   \n",
       "3                                                                                                                                                             Sports & Outdoors   \n",
       "4                                                                                                                                                                  Toys & Games   \n",
       "...                                                                                                                                                                         ...   \n",
       "99995                                                                                                                                                         Sports & Outdoors   \n",
       "99996                                                                                                                                                         Sports & Outdoors   \n",
       "99997                                                                                                                                                         Sports & Outdoors   \n",
       "99998                                                                                                                                                         Sports & Outdoors   \n",
       "99999                                                                                                                                                         Sports & Outdoors   \n",
       "\n",
       "      similar_item  \\\n",
       "0                    \n",
       "1                    \n",
       "2                    \n",
       "3                    \n",
       "4                    \n",
       "...            ...   \n",
       "99995                \n",
       "99996                \n",
       "99997                \n",
       "99998                \n",
       "99999                \n",
       "\n",
       "                                                                                                                                                                                                          date  \\\n",
       "0      <div class=\"a-fixed-left-grid a-spacing-none\"><div class=\"a-fixed-left-grid-inner\" style=\"padding-left:280px\"><div class=\"a-fixed-left-grid-col a-col-left\" style=\"width:280px;margin-left:-280px;fl...   \n",
       "1      <div class=\"a-fixed-left-grid a-spacing-none\"><div class=\"a-fixed-left-grid-inner\" style=\"padding-left:280px\"><div class=\"a-fixed-left-grid-col a-col-left\" style=\"width:280px;margin-left:-280px;fl...   \n",
       "2                                                                                                                                                                                                                \n",
       "3                                                                                                                                                                                                                \n",
       "4                                                                                                                                                                                                                \n",
       "...                                                                                                                                                                                                        ...   \n",
       "99995                                                                                                                                                                                                            \n",
       "99996                                                                                                                                                                                                            \n",
       "99997                                                                                                                                                                                                            \n",
       "99998                                                                                                                                                                                                            \n",
       "99999                                                                                                                                                                                                            \n",
       "\n",
       "         price        asin  \\\n",
       "0       $11.80  0000032042   \n",
       "1       $11.97  0000032069   \n",
       "2        $5.70  0000031860   \n",
       "3        $7.50  0000031852   \n",
       "4        $6.54  0000031895   \n",
       "...        ...         ...   \n",
       "99995           B001HYKE2W   \n",
       "99996    $9.99  B001HZ07KK   \n",
       "99997  $420.95  B001HYYC4S   \n",
       "99998   $15.00  B001HYOBPI   \n",
       "99999   $60.00  B001HZ0CIM   \n",
       "\n",
       "                                                                        imageURL  \\\n",
       "0                                                                             []   \n",
       "1                                                                             []   \n",
       "2                                                                             []   \n",
       "3                                                                             []   \n",
       "4                                                                             []   \n",
       "...                                                                          ...   \n",
       "99995                                                                         []   \n",
       "99996                                                                         []   \n",
       "99997  [https://images-na.ssl-images-amazon.com/images/I/51kZsOvOBSL._SS40_.jpg]   \n",
       "99998                                                                         []   \n",
       "99999                                                                         []   \n",
       "\n",
       "                                                          imageURLHighRes  \\\n",
       "0                                                                      []   \n",
       "1                                                                      []   \n",
       "2                                                                      []   \n",
       "3                                                                      []   \n",
       "4                                                                      []   \n",
       "...                                                                   ...   \n",
       "99995                                                                  []   \n",
       "99996                                                                  []   \n",
       "99997  [https://images-na.ssl-images-amazon.com/images/I/51kZsOvOBSL.jpg]   \n",
       "99998                                                                  []   \n",
       "99999                                                                  []   \n",
       "\n",
       "                                                                                                                                                                                                       details  \n",
       "0                                                                                                                                                                                                          NaN  \n",
       "1                                                                                                                                                                                                          NaN  \n",
       "2                                                                                                                                                                                                          NaN  \n",
       "3                                                                                                                                                                                                          NaN  \n",
       "4                                                                                                                                                                                                          NaN  \n",
       "...                                                                                                                                                                                                        ...  \n",
       "99995                                                                                                               {'Shipping Weight:': '1.4 pounds', 'ASIN: ': 'B001HYKE2W', 'Item model number:': '056417'}  \n",
       "99996  {'\n",
       "    Product Dimensions: \n",
       "    ': '2 x 0.4 x 0.4 inches ; 0.64 ounces', 'Shipping Weight:': '0.8 ounces (', 'Domestic Shipping: ': 'Currently, item can be shipped only within the U.S. and to APO/...  \n",
       "99997                                                                                                                                                                                                       {}  \n",
       "99998                                                       {'\n",
       "    Product Dimensions: \n",
       "    ': '8 x 5 x 2 inches', 'Shipping Weight:': '0.3 ounces (', 'ASIN: ': 'B001HYOBPI', 'Item model number:': 'Grivel'}  \n",
       "99999                                         {'\n",
       "    Product Dimensions: \n",
       "    ': '24 x 9 x 3 inches ; 6.7 ounces', 'Shipping Weight:': '9.1 ounces (', 'ASIN: ': 'B001HZ0CIM', 'Item model number:': 'Brodin'}  \n",
       "\n",
       "[100000 rows x 19 columns]"
      ]
     },
     "execution_count": 5,
     "metadata": {},
     "output_type": "execute_result"
    }
   ],
   "source": [
    "df"
   ]
  },
  {
   "cell_type": "markdown",
   "id": "fb34b10c",
   "metadata": {},
   "source": [
    "# * Category "
   ]
  },
  {
   "cell_type": "code",
   "execution_count": 6,
   "id": "841e02bf",
   "metadata": {
    "scrolled": true
   },
   "outputs": [
    {
     "data": {
      "text/plain": [
       "category\n",
       "[]                                                                                                                                                                                                                                                                                                                                                                                                                                                                             5631\n",
       "[Sports & Outdoors, Sports & Fitness, Hunting & Fishing, Shooting, Gun Accessories, Maintenance & Storage, Gun Holsters, Cases & Bags, Gun Holsters]                                                                                                                                                                                                                                                                                                                           1647\n",
       "[Sports & Outdoors, Sports & Fitness, Hunting & Fishing, Shooting, Gun Accessories, Maintenance & Storage, Gun Maintenance, Gunsmithing Tools]                                                                                                                                                                                                                                                                                                                                 1281\n",
       "[Sports & Outdoors, Sports & Fitness, Boating & Sailing, Boating]                                                                                                                                                                                                                                                                                                                                                                                                              1071\n",
       "[Sports & Outdoors, Sports & Fitness, Hunting & Fishing, Hunting, Knives & Tools, Hunting Knives]                                                                                                                                                                                                                                                                                                                                                                              1029\n",
       "                                                                                                                                                                                                                                                                                                                                                                                                                                                                               ... \n",
       "[Sports & Outdoors, Sports & Fitness, Exercise & Fitness, Fitness Technology, Heart Rate Monitors, Sports timing watch with heart rate monitoring; sized for both men and women, Chest strap heart rate monitor works with watch to provide target zones and time in zone, Recovery heart rate timer; displays calories burned, 100-hour chronograph; 27-lap memory; 100-hour countdown timer, Watch is water resistant to 50 meters (165 feet); up to 2-year battery life]       1\n",
       "[Sports & Outdoors, Sports & Fitness, Boating & Sailing, Boating, Safety & Flotation Devices, Life Jackets & Vests, nylon, 500 dnier cordura shell & 200 denier oxford liner., High-back flotation rides above back rest., Neoprene padded shoulders and lower back waistband and open sides for ventilation., Hand wash soap and water., Made in China]                                                                                                                          1\n",
       "[Sports & Outdoors, Fan Shop, Clothing, Jerseys, polyester, spandex, NFL womens jersey, 85% polyester, 15% spandex, Player's number sewn on the chest, on the back and shoulder. Decorated in the team colors, Player's name sewn on the back, NFL Equipment patch sewn at the point in the front, Made by Reebok, officially licensed]                                                                                                                                           1\n",
       "[Sports & Outdoors, Sports & Fitness, Boating & Sailing, Boating, Safety & Flotation Devices, Life Jackets & Vests, nylon, 420 denier shell & 210 denier oxford liner., Hand wash soap and water, China]                                                                                                                                                                                                                                                                          1\n",
       "[Sports & Outdoors, Outdoor Recreation, Outdoor Clothing, Men, Accessories, Sport Watches, Quality Japanese Automatic movement; Functions without a battery; Powers automatically with the movement of your arm, Men's Marine Star; Black dial; Unidirectional bezel, Stainless steel case, Mineral crystal protects dial, Water resistant to 330 feet (100 M): suitable for snorkeling, as well as swimming, but not diving]                                                     1\n",
       "Name: count, Length: 6971, dtype: int64"
      ]
     },
     "execution_count": 6,
     "metadata": {},
     "output_type": "execute_result"
    }
   ],
   "source": [
    "df['category'].value_counts(dropna=False)\n",
    "\n",
    "# 5631개의 빈 값 존재"
   ]
  },
  {
   "cell_type": "code",
   "execution_count": 7,
   "id": "2a42dabc",
   "metadata": {
    "scrolled": false
   },
   "outputs": [],
   "source": [
    "df['category_big'] = df['category'].apply(lambda x: x[0] if len(x)>0 else None )   # 대카테고리\n",
    "df['category_mid'] = df['category'].apply(lambda x: x[1] if len(x)>1 else None )   # 중카테고리\n",
    "df['category_small'] = df['category'].apply(lambda x: x[2] if len(x)>2 else None ) # 소카테고리 \n",
    "df.drop('category', axis=1, inplace=True)                                           # 기존 카테고리 삭제"
   ]
  },
  {
   "cell_type": "code",
   "execution_count": 8,
   "id": "d0641560",
   "metadata": {
    "scrolled": true
   },
   "outputs": [
    {
     "data": {
      "text/html": [
       "<div>\n",
       "<style scoped>\n",
       "    .dataframe tbody tr th:only-of-type {\n",
       "        vertical-align: middle;\n",
       "    }\n",
       "\n",
       "    .dataframe tbody tr th {\n",
       "        vertical-align: top;\n",
       "    }\n",
       "\n",
       "    .dataframe thead th {\n",
       "        text-align: right;\n",
       "    }\n",
       "</style>\n",
       "<table border=\"1\" class=\"dataframe\">\n",
       "  <thead>\n",
       "    <tr style=\"text-align: right;\">\n",
       "      <th></th>\n",
       "      <th>category_big</th>\n",
       "      <th>category_mid</th>\n",
       "      <th>category_small</th>\n",
       "    </tr>\n",
       "  </thead>\n",
       "  <tbody>\n",
       "    <tr>\n",
       "      <th>0</th>\n",
       "      <td>Sports &amp; Outdoors</td>\n",
       "      <td>Sports &amp; Fitness</td>\n",
       "      <td>Other Sports</td>\n",
       "    </tr>\n",
       "    <tr>\n",
       "      <th>1</th>\n",
       "      <td>Sports &amp; Outdoors</td>\n",
       "      <td>Sports &amp; Fitness</td>\n",
       "      <td>Other Sports</td>\n",
       "    </tr>\n",
       "    <tr>\n",
       "      <th>2</th>\n",
       "      <td>Sports &amp; Outdoors</td>\n",
       "      <td>Sports &amp; Fitness</td>\n",
       "      <td>Other Sports</td>\n",
       "    </tr>\n",
       "    <tr>\n",
       "      <th>3</th>\n",
       "      <td>Sports &amp; Outdoors</td>\n",
       "      <td>Sports &amp; Fitness</td>\n",
       "      <td>Other Sports</td>\n",
       "    </tr>\n",
       "    <tr>\n",
       "      <th>4</th>\n",
       "      <td>Sports &amp; Outdoors</td>\n",
       "      <td>Sports &amp; Fitness</td>\n",
       "      <td>Other Sports</td>\n",
       "    </tr>\n",
       "    <tr>\n",
       "      <th>...</th>\n",
       "      <td>...</td>\n",
       "      <td>...</td>\n",
       "      <td>...</td>\n",
       "    </tr>\n",
       "    <tr>\n",
       "      <th>99995</th>\n",
       "      <td>Sports &amp; Outdoors</td>\n",
       "      <td>Outdoor Recreation</td>\n",
       "      <td>Water Sports</td>\n",
       "    </tr>\n",
       "    <tr>\n",
       "      <th>99996</th>\n",
       "      <td>Sports &amp; Outdoors</td>\n",
       "      <td>Sports &amp; Fitness</td>\n",
       "      <td>Hunting &amp; Fishing</td>\n",
       "    </tr>\n",
       "    <tr>\n",
       "      <th>99997</th>\n",
       "      <td>Sports &amp; Outdoors</td>\n",
       "      <td>Sports &amp; Fitness</td>\n",
       "      <td>Accessories</td>\n",
       "    </tr>\n",
       "    <tr>\n",
       "      <th>99998</th>\n",
       "      <td>Sports &amp; Outdoors</td>\n",
       "      <td>Outdoor Recreation</td>\n",
       "      <td>Climbing</td>\n",
       "    </tr>\n",
       "    <tr>\n",
       "      <th>99999</th>\n",
       "      <td>Sports &amp; Outdoors</td>\n",
       "      <td>Sports &amp; Fitness</td>\n",
       "      <td>Hunting &amp; Fishing</td>\n",
       "    </tr>\n",
       "  </tbody>\n",
       "</table>\n",
       "<p>100000 rows × 3 columns</p>\n",
       "</div>"
      ],
      "text/plain": [
       "            category_big        category_mid     category_small\n",
       "0      Sports & Outdoors    Sports & Fitness       Other Sports\n",
       "1      Sports & Outdoors    Sports & Fitness       Other Sports\n",
       "2      Sports & Outdoors    Sports & Fitness       Other Sports\n",
       "3      Sports & Outdoors    Sports & Fitness       Other Sports\n",
       "4      Sports & Outdoors    Sports & Fitness       Other Sports\n",
       "...                  ...                 ...                ...\n",
       "99995  Sports & Outdoors  Outdoor Recreation       Water Sports\n",
       "99996  Sports & Outdoors    Sports & Fitness  Hunting & Fishing\n",
       "99997  Sports & Outdoors    Sports & Fitness        Accessories\n",
       "99998  Sports & Outdoors  Outdoor Recreation           Climbing\n",
       "99999  Sports & Outdoors    Sports & Fitness  Hunting & Fishing\n",
       "\n",
       "[100000 rows x 3 columns]"
      ]
     },
     "execution_count": 8,
     "metadata": {},
     "output_type": "execute_result"
    }
   ],
   "source": [
    "df[['category_big','category_mid','category_small']]"
   ]
  },
  {
   "cell_type": "code",
   "execution_count": 9,
   "id": "2a20b5a4",
   "metadata": {},
   "outputs": [
    {
     "data": {
      "text/plain": [
       "category_big\n",
       "Sports & Outdoors    94.369\n",
       "None                  5.631\n",
       "Name: count, dtype: float64"
      ]
     },
     "execution_count": 9,
     "metadata": {},
     "output_type": "execute_result"
    }
   ],
   "source": [
    "df['category_big'].value_counts(dropna=False)/ len(df) * 100 "
   ]
  },
  {
   "cell_type": "code",
   "execution_count": 10,
   "id": "a8a058b7",
   "metadata": {},
   "outputs": [
    {
     "data": {
      "text/plain": [
       "category_mid\n",
       "Sports & Fitness      52.333\n",
       "Outdoor Recreation    26.047\n",
       "Fan Shop              15.989\n",
       "None                   5.631\n",
       "Name: count, dtype: float64"
      ]
     },
     "execution_count": 10,
     "metadata": {},
     "output_type": "execute_result"
    }
   ],
   "source": [
    "df['category_mid'].value_counts(dropna=False) / len(df) * 100"
   ]
  },
  {
   "cell_type": "code",
   "execution_count": 11,
   "id": "32bece9d",
   "metadata": {
    "scrolled": true
   },
   "outputs": [
    {
     "name": "stdout",
     "output_type": "stream",
     "text": [
      "category_small\n",
      "Hunting & Fishing                                    19.706\n",
      "Cycling                                               9.304\n",
      "Camping & Hiking                                      7.777\n",
      "Exercise & Fitness                                    6.734\n",
      "None                                                  6.139\n",
      "Boating & Sailing                                     5.081\n",
      "Clothing                                              4.172\n",
      "Team Sports                                           4.046\n",
      "Other Sports                                          4.036\n",
      "Home & Kitchen                                        3.605\n",
      "Leisure Sports & Game Room                            3.126\n",
      "Outdoor Clothing                                      3.099\n",
      "Accessories                                           3.075\n",
      "Airsoft & Paintball                                   2.414\n",
      "Water Sports                                          2.170\n",
      "Golf                                                  2.099\n",
      "Clothing Accessories                                  1.365\n",
      "Winter Sports                                         1.306\n",
      "Skates, Skateboards & Scooters                        1.302\n",
      "Auto Accessories                                      1.134\n",
      "Tennis & Racquet Sports                               1.066\n",
      "Patio, Lawn & Garden                                  1.002\n",
      "Sports Souvenirs                                      0.932\n",
      "Toys & Game Room                                      0.895\n",
      "Swimming                                              0.843\n",
      "Jewelry & Watches                                     0.820\n",
      "Sports Equipment                                      0.723\n",
      "Climbing                                              0.478\n",
      "Bags, Packs & Accessories                             0.367\n",
      "Pet Gear                                              0.236\n",
      "Footwear                                              0.230\n",
      "Sports Medicine                                       0.206\n",
      "Office Products                                       0.179\n",
      "Cell Phone Accessories                                0.103\n",
      "Tools & Home Improvement                              0.097\n",
      "Gameday & Tailgating                                  0.061\n",
      "Electronics                                           0.047\n",
      "Video Games & Accessories                             0.009\n",
      "100% Wool                                             0.002\n",
      "100% Cotton                                           0.002\n",
      "100% Microterry                                       0.001\n",
      "100% Nylon                                            0.001\n",
      "Imported                                              0.001\n",
      "4\" high                                               0.001\n",
      "100% Polyester                                        0.001\n",
      "Officially licensed by the NCAA                       0.001\n",
      "Quality tested and ensured for maximum durability     0.001\n",
      "100% Synthetic                                        0.001\n",
      "Cotton/polyester/natural latex rubber/nylon           0.001\n",
      "100% Brushed Cotton Twill                             0.001\n",
      "Silk                                                  0.001\n",
      "100% Acrylic                                          0.001\n",
      "Name: count, dtype: float64\n",
      "소카테고리 갯수 51\n"
     ]
    }
   ],
   "source": [
    "print(df['category_small'].value_counts(dropna=False) / len(df) * 100)\n",
    "print('소카테고리 갯수',df['category_small'].nunique())"
   ]
  },
  {
   "cell_type": "code",
   "execution_count": 12,
   "id": "a38f0309",
   "metadata": {
    "scrolled": true
   },
   "outputs": [
    {
     "data": {
      "text/plain": [
       "category_big       category_mid        category_small                                   \n",
       "Sports & Outdoors  Sports & Fitness    Hunting & Fishing                                    19706\n",
       "                   Outdoor Recreation  Cycling                                               9304\n",
       "                                       Camping & Hiking                                      7777\n",
       "                   Sports & Fitness    Exercise & Fitness                                    6734\n",
       "NaN                NaN                 NaN                                                   5631\n",
       "Sports & Outdoors  Sports & Fitness    Boating & Sailing                                     5081\n",
       "                                       Team Sports                                           4046\n",
       "                                       Other Sports                                          4036\n",
       "                   Fan Shop            Clothing                                              3787\n",
       "                                       Home & Kitchen                                        3605\n",
       "                   Sports & Fitness    Leisure Sports & Game Room                            3126\n",
       "                   Outdoor Recreation  Outdoor Clothing                                      3099\n",
       "                   Sports & Fitness    Accessories                                           2541\n",
       "                                       Airsoft & Paintball                                   2414\n",
       "                   Outdoor Recreation  Water Sports                                          2170\n",
       "                   Sports & Fitness    Golf                                                  2099\n",
       "                   Fan Shop            Clothing Accessories                                  1365\n",
       "                   Outdoor Recreation  Winter Sports                                         1306\n",
       "                                       Skates, Skateboards & Scooters                        1302\n",
       "                   Fan Shop            Auto Accessories                                      1134\n",
       "                   Sports & Fitness    Tennis & Racquet Sports                               1066\n",
       "                   Fan Shop            Patio, Lawn & Garden                                  1002\n",
       "                                       Sports Souvenirs                                       932\n",
       "                                       Toys & Game Room                                       895\n",
       "                   Sports & Fitness    Swimming                                               843\n",
       "                   Fan Shop            Jewelry & Watches                                      820\n",
       "                                       Sports Equipment                                       723\n",
       "                   Outdoor Recreation  Accessories                                            534\n",
       "                                       Climbing                                               478\n",
       "                   Fan Shop            NaN                                                    391\n",
       "                   Sports & Fitness    Clothing                                               385\n",
       "                   Fan Shop            Bags, Packs & Accessories                              367\n",
       "                                       Pet Gear                                               236\n",
       "                                       Footwear                                               230\n",
       "                   Sports & Fitness    Sports Medicine                                        206\n",
       "                   Fan Shop            Office Products                                        179\n",
       "                                       Cell Phone Accessories                                 103\n",
       "                                       Tools & Home Improvement                                97\n",
       "                   Outdoor Recreation  NaN                                                     68\n",
       "                   Fan Shop            Gameday & Tailgating                                    61\n",
       "                   Sports & Fitness    NaN                                                     49\n",
       "                   Fan Shop            Electronics                                             47\n",
       "                                       Video Games & Accessories                                9\n",
       "                   Outdoor Recreation  100% Wool                                                2\n",
       "                                       100% Cotton                                              2\n",
       "                   Sports & Fitness    Quality tested and ensured for maximum durability        1\n",
       "                   Fan Shop            100% Microterry                                          1\n",
       "                   Outdoor Recreation  Cotton/polyester/natural latex rubber/nylon              1\n",
       "                                       4\" high                                                  1\n",
       "                   Fan Shop            100% Nylon                                               1\n",
       "                   Outdoor Recreation  100% Brushed Cotton Twill                                1\n",
       "                                       100% Acrylic                                             1\n",
       "                   Fan Shop            Silk                                                     1\n",
       "                                       Officially licensed by the NCAA                          1\n",
       "                                       Imported                                                 1\n",
       "                                       100% Synthetic                                           1\n",
       "                   Outdoor Recreation  100% Polyester                                           1\n",
       "Name: count, dtype: int64"
      ]
     },
     "execution_count": 12,
     "metadata": {},
     "output_type": "execute_result"
    }
   ],
   "source": [
    "df[['category_big','category_mid','category_small']].value_counts(dropna=False)"
   ]
  },
  {
   "cell_type": "markdown",
   "id": "c4e6fcde",
   "metadata": {},
   "source": [
    "# 칼럼별 특징 확인 및 기본 전처리"
   ]
  },
  {
   "cell_type": "markdown",
   "id": "1b4b1265",
   "metadata": {},
   "source": [
    "## tech1"
   ]
  },
  {
   "cell_type": "code",
   "execution_count": 13,
   "id": "b4c2877b",
   "metadata": {},
   "outputs": [],
   "source": [
    "df['tech1'].value_counts(dropna=False)\n",
    "\n",
    "# '' 값이 96985개\n",
    "# 필요 없는 칼럼이라고 판단\n",
    "\n",
    "df.drop('tech1', axis=1, inplace=True)"
   ]
  },
  {
   "cell_type": "markdown",
   "id": "524deec5",
   "metadata": {},
   "source": [
    "## Description"
   ]
  },
  {
   "cell_type": "code",
   "execution_count": 14,
   "id": "4519d183",
   "metadata": {
    "scrolled": true
   },
   "outputs": [
    {
     "data": {
      "text/plain": [
       "0                                                                             [3 layers of super-soft polyester tulle can be cut to length. Satin covered stretch elastic waist gives a one size fits all most.]\n",
       "1                                                                              [3 layers of super-soft polyester tulle can be cut to length. Satin covered stretch elastic waist gives a one size fits all most]\n",
       "2                                                                             [3 layers of super-soft polyester tulle can be cut to length. Satin covered stretch elastic waist gives a one size fits all most.]\n",
       "3                                                                                                                                                                                                         [TUtu]\n",
       "4                                                                                        [Dance tutu for girls ages 2-8 years. Perfect for dance practice, recitals and performances, costumes or just for fun!]\n",
       "                                                                                                          ...                                                                                                   \n",
       "99995    [This deck bag holds all the necessities for a day of fishing. Designed for anglers, our streamlined Crossfire features a roomy top pocket and multiple organizer pockets sized to fit standard fly ...\n",
       "99996    [Rapala J05GFR Jointed, Slight exaggeration of Rapala's unique baitfish in distress action. Can be fished like the Original Floating, top to bottom. It is the perfect choice after a cold front, wh...\n",
       "99997    [Use the SSG / BSN SK999 Indoor/Outdoor Tabletop Scoreboard for a wide variety of sporting events and enjoy its functional versatility. This scoreboard is designed to offer maximum portability and...\n",
       "99998                         [Keep track of your most important hardware with the Grivel Long Ice Axe Leash. A rubber tip protector covers the pick for safety and functionality. Use with any length ice axe.]\n",
       "99999                                                                                [A great net for all around use and will easily handle fish to 2. Specs: 2 overall length 9 by 13 hoop Soft nylon net bag.]\n",
       "Name: description, Length: 100000, dtype: object"
      ]
     },
     "execution_count": 14,
     "metadata": {},
     "output_type": "execute_result"
    }
   ],
   "source": [
    "df['description']"
   ]
  },
  {
   "cell_type": "code",
   "execution_count": 15,
   "id": "30e8e5be",
   "metadata": {},
   "outputs": [
    {
     "data": {
      "text/plain": [
       "10353"
      ]
     },
     "execution_count": 15,
     "metadata": {},
     "output_type": "execute_result"
    }
   ],
   "source": [
    "# []로 채워져있는 행 10353개 존재\n",
    "len(df[df['description'].apply(lambda x: x == [])])"
   ]
  },
  {
   "cell_type": "code",
   "execution_count": 16,
   "id": "298e69df",
   "metadata": {},
   "outputs": [],
   "source": [
    "# 나중에 확인하기 쉽게 만들기 위해,\n",
    "# []로 채워져 있는 행들 null값으로 바꿔놓자!\n",
    "df['description'] = df['description'].apply(lambda x: None if x==[] else x)"
   ]
  },
  {
   "cell_type": "code",
   "execution_count": 17,
   "id": "d41019be",
   "metadata": {},
   "outputs": [
    {
     "data": {
      "text/plain": [
       "10353"
      ]
     },
     "execution_count": 17,
     "metadata": {},
     "output_type": "execute_result"
    }
   ],
   "source": [
    "df['description'].isnull().sum()"
   ]
  },
  {
   "cell_type": "markdown",
   "id": "58e66c03",
   "metadata": {},
   "source": [
    "# fit"
   ]
  },
  {
   "cell_type": "code",
   "execution_count": 18,
   "id": "d13bd134",
   "metadata": {
    "scrolled": true
   },
   "outputs": [],
   "source": [
    "df['fit'].value_counts(dropna=False)\n",
    "# 98,000개가 ''로 채워져있고,\n",
    "# 나머지 100개의 값들도쓸모 없어 보임 \n",
    "\n",
    "df.drop('fit', axis=1, inplace=True)"
   ]
  },
  {
   "cell_type": "markdown",
   "id": "e534d43e",
   "metadata": {},
   "source": [
    "# title"
   ]
  },
  {
   "cell_type": "code",
   "execution_count": 19,
   "id": "22ce7cba",
   "metadata": {
    "scrolled": true
   },
   "outputs": [
    {
     "data": {
      "text/plain": [
       "99950                                                                                                                                                     TICA G209 Fly Reel\n",
       "99951                                                                                            FUJI-TOKI Ultra-High Brightness Electrical Float FF-2 Small electric float \n",
       "99952                                                                                                                   Arkansas Razorbacks Collegiate Comforter Set (Full) \n",
       "99953                                                                                                                            New England Patriots 12in Glass Wall Clock \n",
       "99954                                                                                                           Rapala Mini Fat Rap 03 Fishing lure, 1.5-Inch, Rainbow Trout\n",
       "99955                                                                                                                  Wheeler 1&quot; Scope Mounting Kit with Storage Case \n",
       "99956                                                                                                            Scienfific Anglers Fly Line Dressing Cleaner-1 Cleaning Pad\n",
       "99957                                                                                                                           UNI Single Strand Super Floss Bright Yellow \n",
       "99958                                                                                                                   Florida (UF) Gators Reversible Comforter Set (Queen)\n",
       "99959                                                                                                         LSU Tigers - 2008 Harley Davidson Ultra Classic Electra Glide \n",
       "99960                                                                                                                                                  Grivel Spider Crampon\n",
       "99961                                                                                                            Rapala X-Rap Deep 08 Fishing lure, Olive Green, 3.125-Inch \n",
       "99962                                                                                                                                Chinook Express Organizer Pouch, Black \n",
       "99963                                                                                                                         Reel Grip 1138 Reel Handle Cover, Black Finish\n",
       "99964                                                                                                                 Rapala X-Rap Deep 08 Fishing lure, 3.125-Inch, Silver \n",
       "99965                                                                                                                                  Seattle Sports SeaRover Deck Compass \n",
       "99966                                                                                                                                          Blue Fox Rattlin' Pixee Spoon\n",
       "99967                                                                                                                                              Yamamoto 9B-10-020 Senko \n",
       "99968                                                                                                                           Seattle Sports Sportsman&#39;s Paddle Leash \n",
       "99969                                                                                                                 Rapala Countdown 01 Fishing lure, 1-Inch, Brown Trout \n",
       "99970                                                                                                         Grivel Flex Plate Long For G10/G12/G14/Air Tech Crampon Add-On\n",
       "99971                                                                                                                                 TICA USA S-Series Large Arbor Fly Reel\n",
       "99972                                                                                                                            Florida State Seminoles Brass License Plate\n",
       "99973                                                                                                    Yamamoto 9-10-197 Senko Clear Worm Bass Lure, 5-Inch, 10-Pack, Red \n",
       "99974     RAM Rail Base with&quot;&quot;Rust-Proof&quot;&quot; Stainless Steel U-Bolt &amp; 1.5&quot;&quot; Ball for Rails from 0.5&quot;&quot; to 1&quot;&quot; in Diameter\n",
       "99975                                                                                                   Rapala Husky Jerk 08 Fishing lure, 3.125-Inch, Glass Purple Sunfire \n",
       "99976                                                                                                                                             Eastaboga Tackle BogaGrip \n",
       "99977                                                                                                       Reel Grip 1148 Reel Handle Cover, Black and White Tie Dye Finish\n",
       "99978                                                                                                                                           Seattle Sports AquaKnot Pack\n",
       "99979                                                                                           Esbit Large Ultralight Folding Pocket Stove with 12/14gm Solid Fuel Tablets \n",
       "99980                                                                                                                             Lucky Craft Fishing Lure LV-500 Crank Bait\n",
       "99981                                                                                                                              Uni Waxed Thread, White, 8/0 - ONE SPOOL \n",
       "99982                                                                                                                             Chinook Santa Ana Aluminum Tent -3 Person \n",
       "99983                                                                                                           Rapala Shallow Shad Rap 09 Fishing lure, 3.5-Inch, Hot Tiger\n",
       "99984                                                                                                    Proforce Equipment Snugpak Softie 3 Merlin Sleeping Bag Desert Tan \n",
       "99985                                                                                          Cateye CC-CD100/200 Support pour cardiofr&eacute;quencem&egrave;tre Astrale 8\n",
       "99986                                                                                                                                   Grivel Crampon&#39;s Crown One Size \n",
       "99987                                                                                                                                     Sea to Summit Lightweight Dry Sack\n",
       "99988                                                                                                                                   Minnesota Twins Dual-Lit Accent Lamp\n",
       "99989                                                                                                                                            Atlas Rotary Fly Tying Vise\n",
       "99990                                                                                                                                          Grivel Candela Ice Screw Tool\n",
       "99991                                                                                                   Grivel Antiballing Plate Crampon Add On G10 New / Air Tech One Size \n",
       "99992                                                                                                                            Uncle Josh 11 W Pork Frog, 2.5-Inch, White \n",
       "99993                                                                                                      Rapala Shallow Shad Rap 09 Fishing lure, 3.5-Inch, Purpledescent \n",
       "99994                                                                                                             Chinook Timberline Stainless Steel 3 Cup Coffee Percolator\n",
       "99995                                                                                                                                     Seattle Sports Crossfire Deck Bag \n",
       "99996                                                                                                           Rapala Jointed 05 Fishing lure, 2-Inch, Gold Fluorescent Red\n",
       "99997                                                                                                                    BSN Sports SK999 Indoor/Outdoor Tabletop Scoreboard\n",
       "99998                                                                                                                                              Grivel Long Ice Axe Leash\n",
       "99999                                                                                                                               Brodin Landing Nets Streambase Trout Net\n",
       "Name: title, dtype: object"
      ]
     },
     "execution_count": 19,
     "metadata": {},
     "output_type": "execute_result"
    }
   ],
   "source": [
    "df['title'].tail(50)"
   ]
  },
  {
   "cell_type": "code",
   "execution_count": 20,
   "id": "04dfda9a",
   "metadata": {},
   "outputs": [
    {
     "data": {
      "text/plain": [
       "92832"
      ]
     },
     "execution_count": 20,
     "metadata": {},
     "output_type": "execute_result"
    }
   ],
   "source": [
    "df['title'].nunique()\n",
    "# 92832개의 상품 존재\n",
    "# 같은 상품명 내에서 여러개의 상품 파는 것임\n",
    "# ex) 나이키 볼캡 이라고 제목 붙였는데 여러가지 색상 골라서 구매할 수 있게끔 파는 방식인듯\n",
    "\n",
    "# null 값 없는 것 같음"
   ]
  },
  {
   "cell_type": "code",
   "execution_count": 21,
   "id": "ed64a882",
   "metadata": {},
   "outputs": [
    {
     "data": {
      "text/plain": [
       "title\n",
       "Top of the World NCAA Mens Adjustable Cap                                 33\n",
       "NCAA mens Adjustable Cap                                                  28\n",
       "Majestic MLB Mens T-Shirt                                                 27\n",
       "WinCraft NFL New York Giants Logo Crystal Mirror License Plate, 6 x 12    22\n",
       "Brute Men's Lycra&reg; High Cut Wrestling Singlet                         20\n",
       "                                                                          ..\n",
       "Lyman Shell Holder X-26                                                    1\n",
       "Bianchi 59 Special Agent Hip Holster - Glock 17/22 Auto - Tan              1\n",
       "RCBS Shell Holder, No.39                                                   1\n",
       "Hornady Trimmer Pilot #4 .257                                              1\n",
       "Brodin Landing Nets Streambase Trout Net                                   1\n",
       "Name: count, Length: 92832, dtype: int64"
      ]
     },
     "execution_count": 21,
     "metadata": {},
     "output_type": "execute_result"
    }
   ],
   "source": [
    "df['title'].value_counts(dropna=False)"
   ]
  },
  {
   "cell_type": "markdown",
   "id": "07aac059",
   "metadata": {},
   "source": [
    "## also_buy"
   ]
  },
  {
   "cell_type": "code",
   "execution_count": 22,
   "id": "ee2b1a7c",
   "metadata": {
    "scrolled": true
   },
   "outputs": [
    {
     "data": {
      "text/html": [
       "<div>\n",
       "<style scoped>\n",
       "    .dataframe tbody tr th:only-of-type {\n",
       "        vertical-align: middle;\n",
       "    }\n",
       "\n",
       "    .dataframe tbody tr th {\n",
       "        vertical-align: top;\n",
       "    }\n",
       "\n",
       "    .dataframe thead th {\n",
       "        text-align: right;\n",
       "    }\n",
       "</style>\n",
       "<table border=\"1\" class=\"dataframe\">\n",
       "  <thead>\n",
       "    <tr style=\"text-align: right;\">\n",
       "      <th></th>\n",
       "      <th>description</th>\n",
       "      <th>title</th>\n",
       "      <th>also_buy</th>\n",
       "      <th>tech2</th>\n",
       "      <th>brand</th>\n",
       "      <th>feature</th>\n",
       "      <th>rank</th>\n",
       "      <th>also_view</th>\n",
       "      <th>main_cat</th>\n",
       "      <th>similar_item</th>\n",
       "      <th>date</th>\n",
       "      <th>price</th>\n",
       "      <th>asin</th>\n",
       "      <th>imageURL</th>\n",
       "      <th>imageURLHighRes</th>\n",
       "      <th>details</th>\n",
       "      <th>category_big</th>\n",
       "      <th>category_mid</th>\n",
       "      <th>category_small</th>\n",
       "    </tr>\n",
       "  </thead>\n",
       "  <tbody>\n",
       "    <tr>\n",
       "      <th>0</th>\n",
       "      <td>[3 layers of super-soft polyester tulle can be cut to length. Satin covered stretch elastic waist gives a one size fits all most.]</td>\n",
       "      <td>Adult Tutu Assorted Colors (Turquoise)</td>\n",
       "      <td>[]</td>\n",
       "      <td></td>\n",
       "      <td>BubuBibi</td>\n",
       "      <td>[3 Layers - 100% Polyester Tulle, Hand Wash Lay FLat to Dry, 100% Polyester, FIT: most Kids. Teens . Adults *Please Check Measurements for Proper Fit, WAIST: Satin Covered Elastic 18\" relaxed to 3...</td>\n",
       "      <td>712,899 in Clothing, Shoes &amp; Jewelry (</td>\n",
       "      <td>[B071LQWQBQ, B00M14DG0O, B076GTTY9W, B07BSZ4GYZ, B07CJWWMQW, B074DQJMYT, B002BZX8Z6, B07CPV7P5B, B01M0BIP9H, B07C9T6L8D, B07FQ3QG5G, B0717BCCGP, B01M0N9TCF, B01B8L258E, B06XBG5JZP, B0764FVL5D, B06...</td>\n",
       "      <td>&lt;img src=\"https://images-na.ssl-images-amazon.com/images/G/01/nav2/images/gui/amazon-fashion-store-new._CB520838675_.png\" class=\"nav-categ-image\" alt=\"AMAZON FASHION\"/&gt;</td>\n",
       "      <td></td>\n",
       "      <td>&lt;div class=\"a-fixed-left-grid a-spacing-none\"&gt;&lt;div class=\"a-fixed-left-grid-inner\" style=\"padding-left:280px\"&gt;&lt;div class=\"a-fixed-left-grid-col a-col-left\" style=\"width:280px;margin-left:-280px;fl...</td>\n",
       "      <td>$11.80</td>\n",
       "      <td>0000032042</td>\n",
       "      <td>[]</td>\n",
       "      <td>[]</td>\n",
       "      <td>NaN</td>\n",
       "      <td>Sports &amp; Outdoors</td>\n",
       "      <td>Sports &amp; Fitness</td>\n",
       "      <td>Other Sports</td>\n",
       "    </tr>\n",
       "    <tr>\n",
       "      <th>1</th>\n",
       "      <td>[3 layers of super-soft polyester tulle can be cut to length. Satin covered stretch elastic waist gives a one size fits all most]</td>\n",
       "      <td>Bububibi Adult Ballet Tutu Cheetah Pink</td>\n",
       "      <td>[]</td>\n",
       "      <td></td>\n",
       "      <td>BubuBibi</td>\n",
       "      <td>[3 Layers - 100% Polyester Tulle, Hand Wash Lay FLat to Dry, 100% Polyester, FIT: most Kids. Teens . Adults *Please Check Measurements for Proper Fit, WAIST: Satin Covered Elastic 18\" relaxed to 3...</td>\n",
       "      <td>712,899 in Clothing, Shoes &amp; Jewelry (</td>\n",
       "      <td>[]</td>\n",
       "      <td>&lt;img src=\"https://images-na.ssl-images-amazon.com/images/G/01/nav2/images/gui/amazon-fashion-store-new._CB520838675_.png\" class=\"nav-categ-image\" alt=\"AMAZON FASHION\"/&gt;</td>\n",
       "      <td></td>\n",
       "      <td>&lt;div class=\"a-fixed-left-grid a-spacing-none\"&gt;&lt;div class=\"a-fixed-left-grid-inner\" style=\"padding-left:280px\"&gt;&lt;div class=\"a-fixed-left-grid-col a-col-left\" style=\"width:280px;margin-left:-280px;fl...</td>\n",
       "      <td>$11.97</td>\n",
       "      <td>0000032069</td>\n",
       "      <td>[]</td>\n",
       "      <td>[]</td>\n",
       "      <td>NaN</td>\n",
       "      <td>Sports &amp; Outdoors</td>\n",
       "      <td>Sports &amp; Fitness</td>\n",
       "      <td>Other Sports</td>\n",
       "    </tr>\n",
       "    <tr>\n",
       "      <th>3</th>\n",
       "      <td>[TUtu]</td>\n",
       "      <td>Girls Ballet Tutu Zebra Hot Pink</td>\n",
       "      <td>[]</td>\n",
       "      <td></td>\n",
       "      <td>Tutu</td>\n",
       "      <td>[Tutu]</td>\n",
       "      <td>1,314,199 in Sports &amp; Outdoors (</td>\n",
       "      <td>[0000013714]</td>\n",
       "      <td>Sports &amp; Outdoors</td>\n",
       "      <td></td>\n",
       "      <td></td>\n",
       "      <td>$7.50</td>\n",
       "      <td>0000031852</td>\n",
       "      <td>[]</td>\n",
       "      <td>[]</td>\n",
       "      <td>NaN</td>\n",
       "      <td>Sports &amp; Outdoors</td>\n",
       "      <td>Sports &amp; Fitness</td>\n",
       "      <td>Other Sports</td>\n",
       "    </tr>\n",
       "    <tr>\n",
       "      <th>6</th>\n",
       "      <td>[Deluxe Duffel Bag with full length zipper design; Made of extra heavy cotton canvas and reinforced at all stress points; Will last for decades; Full length zipper for easy packing and unpacking o...</td>\n",
       "      <td>6ft of Acid Free Linen Tape for Bookbinding</td>\n",
       "      <td>[]</td>\n",
       "      <td></td>\n",
       "      <td>Stansport</td>\n",
       "      <td>[Cotton Canvas, Acid Free]</td>\n",
       "      <td>2,077,567 in Sports &amp; Outdoors (</td>\n",
       "      <td>[B003W5YN9Y, B077FXJTTS]</td>\n",
       "      <td>Sports &amp; Outdoors</td>\n",
       "      <td></td>\n",
       "      <td></td>\n",
       "      <td>$4.00</td>\n",
       "      <td>0000012300</td>\n",
       "      <td>[https://images-na.ssl-images-amazon.com/images/I/41mxTGc1tML._SS40_.jpg, https://images-na.ssl-images-amazon.com/images/I/41sHOSFCHqL._SS40_.jpg]</td>\n",
       "      <td>[https://images-na.ssl-images-amazon.com/images/I/41mxTGc1tML.jpg, https://images-na.ssl-images-amazon.com/images/I/41sHOSFCHqL.jpg]</td>\n",
       "      <td>NaN</td>\n",
       "      <td>Sports &amp; Outdoors</td>\n",
       "      <td>Outdoor Recreation</td>\n",
       "      <td>Camping &amp; Hiking</td>\n",
       "    </tr>\n",
       "    <tr>\n",
       "      <th>7</th>\n",
       "      <td>[High quality 3 layer ballet tutu. 12 inches in length]</td>\n",
       "      <td>Mystiqueshapes Girls Ballet Tutu Neon Pink</td>\n",
       "      <td>[]</td>\n",
       "      <td></td>\n",
       "      <td>Mystiqueshapes</td>\n",
       "      <td>[Hot pink Tutu, Fits ages 2-12 (Waist stretches to 31 inhces around the waist)]</td>\n",
       "      <td>1,114,132 in Sports &amp; Outdoors (</td>\n",
       "      <td>[]</td>\n",
       "      <td>Sports &amp; Outdoors</td>\n",
       "      <td></td>\n",
       "      <td></td>\n",
       "      <td>$6.94</td>\n",
       "      <td>0000031909</td>\n",
       "      <td>[]</td>\n",
       "      <td>[]</td>\n",
       "      <td>NaN</td>\n",
       "      <td>Sports &amp; Outdoors</td>\n",
       "      <td>Sports &amp; Fitness</td>\n",
       "      <td>Other Sports</td>\n",
       "    </tr>\n",
       "    <tr>\n",
       "      <th>...</th>\n",
       "      <td>...</td>\n",
       "      <td>...</td>\n",
       "      <td>...</td>\n",
       "      <td>...</td>\n",
       "      <td>...</td>\n",
       "      <td>...</td>\n",
       "      <td>...</td>\n",
       "      <td>...</td>\n",
       "      <td>...</td>\n",
       "      <td>...</td>\n",
       "      <td>...</td>\n",
       "      <td>...</td>\n",
       "      <td>...</td>\n",
       "      <td>...</td>\n",
       "      <td>...</td>\n",
       "      <td>...</td>\n",
       "      <td>...</td>\n",
       "      <td>...</td>\n",
       "      <td>...</td>\n",
       "    </tr>\n",
       "    <tr>\n",
       "      <th>99991</th>\n",
       "      <td>[The Antiballing Plate by Grivel, with its patented \"active\" anti-bott is the most effective device made to prevent snow from balling-up underfoot. The injection-molded plate features an egg-shape...</td>\n",
       "      <td>Grivel Antiballing Plate Crampon Add On G10 New / Air Tech One Size</td>\n",
       "      <td>[]</td>\n",
       "      <td></td>\n",
       "      <td>Grivel</td>\n",
       "      <td>[Material: rubber, Recommended Use: mountaineering, Manufacturer Warranty: lifetime]</td>\n",
       "      <td>[]</td>\n",
       "      <td>[]</td>\n",
       "      <td>Sports &amp; Outdoors</td>\n",
       "      <td></td>\n",
       "      <td></td>\n",
       "      <td>$3.98</td>\n",
       "      <td>B001HYM4JI</td>\n",
       "      <td>[]</td>\n",
       "      <td>[]</td>\n",
       "      <td>{'\n",
       "    Product Dimensions: \n",
       "    ': '9 x 5 x 3 inches ; 13.4 ounces', 'Shipping Weight:': '1 pounds (', 'ASIN: ': 'B001DGXC8W', 'Item model number:': 'Grivel'}</td>\n",
       "      <td>Sports &amp; Outdoors</td>\n",
       "      <td>Outdoor Recreation</td>\n",
       "      <td>Climbing</td>\n",
       "    </tr>\n",
       "    <tr>\n",
       "      <th>99992</th>\n",
       "      <td>[The Uncle Josh 11 W 2-1/2-Inch Pork Frog is the world's most popular rind pattern. Chunky, fleshy body with a beveled face and thin, flexible legs. In lighter colors, it looks like a frog...in da...</td>\n",
       "      <td>Uncle Josh 11 W Pork Frog, 2.5-Inch, White</td>\n",
       "      <td>[]</td>\n",
       "      <td></td>\n",
       "      <td>Uncle Josh Bait</td>\n",
       "      <td>[The world's most popular rind pattern, Chunky, fleshy body with a beveled face, Quality craftsmanship and materials make this product a must have for any fisherman]</td>\n",
       "      <td>1,640,938 in Sports &amp; Outdoors (</td>\n",
       "      <td>[]</td>\n",
       "      <td>Sports &amp; Outdoors</td>\n",
       "      <td></td>\n",
       "      <td></td>\n",
       "      <td></td>\n",
       "      <td>B001HYKRPG</td>\n",
       "      <td>[https://images-na.ssl-images-amazon.com/images/I/41OduJHHc-L._SS40_.jpg]</td>\n",
       "      <td>[https://images-na.ssl-images-amazon.com/images/I/41OduJHHc-L.jpg]</td>\n",
       "      <td>{'Shipping Weight:': '3.5 ounces', 'Domestic Shipping: ': 'Currently, item can be shipped only within the U.S. and to APO/FPO addresses. For APO/FPO shipments, please check with the manufacturer r...</td>\n",
       "      <td>Sports &amp; Outdoors</td>\n",
       "      <td>Sports &amp; Fitness</td>\n",
       "      <td>Hunting &amp; Fishing</td>\n",
       "    </tr>\n",
       "    <tr>\n",
       "      <th>99994</th>\n",
       "      <td>[18/8 Stainless Steel 3 Cup Coffee Percolator, Volume: 710mL, Weight: 13 ounces]</td>\n",
       "      <td>Chinook Timberline Stainless Steel 3 Cup Coffee Percolator</td>\n",
       "      <td>[]</td>\n",
       "      <td></td>\n",
       "      <td>Chinook</td>\n",
       "      <td>[Stainless Steel Coffee percolator 3-cup (710mL), 18/8 polished Stainless Steel construction, Heat insulating permawood handle, Has precision-fitting, seamless parts, Dishwasher-safe]</td>\n",
       "      <td>[&gt;#149,338 in Kitchen &amp; Dining (See Top 100 in Kitchen &amp; Dining), &gt;#70 in Sports &amp; Outdoors &gt; Outdoor Recreation &gt; Camping &amp; Hiking &gt; Camp Kitchen &gt; Coffee &amp; Tea Pots]</td>\n",
       "      <td>[B00005NCWQ, B000QOM6P2, B078HC2D7M, B001J2HFX8, B000BI8EJK, B0018BLHES, B01HZYPQVG, B0018EA7AA, B000LNRP3G, B001LF3I2K, B01EOOHEAQ, B0009PUQSM, B000P9GZNM, B001DC5HG6, B000VP7HQ4, B07LG4TCN9, B00...</td>\n",
       "      <td>Amazon Home</td>\n",
       "      <td></td>\n",
       "      <td>October 15, 2009</td>\n",
       "      <td>$5.94</td>\n",
       "      <td>B001HYTPSQ</td>\n",
       "      <td>[https://images-na.ssl-images-amazon.com/images/I/41338t1vVSL._SS40_.jpg, https://images-na.ssl-images-amazon.com/images/I/51pcfT1OKeL._SS40_.jpg]</td>\n",
       "      <td>[https://images-na.ssl-images-amazon.com/images/I/41338t1vVSL.jpg, https://images-na.ssl-images-amazon.com/images/I/51pcfT1OKeL.jpg]</td>\n",
       "      <td>{}</td>\n",
       "      <td>Sports &amp; Outdoors</td>\n",
       "      <td>Outdoor Recreation</td>\n",
       "      <td>Camping &amp; Hiking</td>\n",
       "    </tr>\n",
       "    <tr>\n",
       "      <th>99995</th>\n",
       "      <td>[This deck bag holds all the necessities for a day of fishing. Designed for anglers, our streamlined Crossfire features a roomy top pocket and multiple organizer pockets sized to fit standard fly ...</td>\n",
       "      <td>Seattle Sports Crossfire Deck Bag</td>\n",
       "      <td>[]</td>\n",
       "      <td></td>\n",
       "      <td>Seattle Sports</td>\n",
       "      <td>[Anglers deck bag; holds all necessities for a day of fishing, Roomy top pocket; easy totability with adjustable, detachable shoulder strap, Streamlined design with roomy top pocket and multiple o...</td>\n",
       "      <td>1,425,438 in Sports &amp; Outdoors (</td>\n",
       "      <td>[]</td>\n",
       "      <td>Sports &amp; Outdoors</td>\n",
       "      <td></td>\n",
       "      <td></td>\n",
       "      <td></td>\n",
       "      <td>B001HYKE2W</td>\n",
       "      <td>[]</td>\n",
       "      <td>[]</td>\n",
       "      <td>{'Shipping Weight:': '1.4 pounds', 'ASIN: ': 'B001HYKE2W', 'Item model number:': '056417'}</td>\n",
       "      <td>Sports &amp; Outdoors</td>\n",
       "      <td>Outdoor Recreation</td>\n",
       "      <td>Water Sports</td>\n",
       "    </tr>\n",
       "    <tr>\n",
       "      <th>99999</th>\n",
       "      <td>[A great net for all around use and will easily handle fish to 2. Specs: 2 overall length 9 by 13 hoop Soft nylon net bag.]</td>\n",
       "      <td>Brodin Landing Nets Streambase Trout Net</td>\n",
       "      <td>[]</td>\n",
       "      <td></td>\n",
       "      <td>Brodin Landing Nets</td>\n",
       "      <td>[]</td>\n",
       "      <td>4,231,375 in Sports &amp; Outdoors (</td>\n",
       "      <td>[]</td>\n",
       "      <td>Sports &amp; Outdoors</td>\n",
       "      <td></td>\n",
       "      <td></td>\n",
       "      <td>$60.00</td>\n",
       "      <td>B001HZ0CIM</td>\n",
       "      <td>[]</td>\n",
       "      <td>[]</td>\n",
       "      <td>{'\n",
       "    Product Dimensions: \n",
       "    ': '24 x 9 x 3 inches ; 6.7 ounces', 'Shipping Weight:': '9.1 ounces (', 'ASIN: ': 'B001HZ0CIM', 'Item model number:': 'Brodin'}</td>\n",
       "      <td>Sports &amp; Outdoors</td>\n",
       "      <td>Sports &amp; Fitness</td>\n",
       "      <td>Hunting &amp; Fishing</td>\n",
       "    </tr>\n",
       "  </tbody>\n",
       "</table>\n",
       "<p>70632 rows × 19 columns</p>\n",
       "</div>"
      ],
      "text/plain": [
       "                                                                                                                                                                                                   description  \\\n",
       "0                                                                           [3 layers of super-soft polyester tulle can be cut to length. Satin covered stretch elastic waist gives a one size fits all most.]   \n",
       "1                                                                            [3 layers of super-soft polyester tulle can be cut to length. Satin covered stretch elastic waist gives a one size fits all most]   \n",
       "3                                                                                                                                                                                                       [TUtu]   \n",
       "6      [Deluxe Duffel Bag with full length zipper design; Made of extra heavy cotton canvas and reinforced at all stress points; Will last for decades; Full length zipper for easy packing and unpacking o...   \n",
       "7                                                                                                                                                      [High quality 3 layer ballet tutu. 12 inches in length]   \n",
       "...                                                                                                                                                                                                        ...   \n",
       "99991  [The Antiballing Plate by Grivel, with its patented \"active\" anti-bott is the most effective device made to prevent snow from balling-up underfoot. The injection-molded plate features an egg-shape...   \n",
       "99992  [The Uncle Josh 11 W 2-1/2-Inch Pork Frog is the world's most popular rind pattern. Chunky, fleshy body with a beveled face and thin, flexible legs. In lighter colors, it looks like a frog...in da...   \n",
       "99994                                                                                                                         [18/8 Stainless Steel 3 Cup Coffee Percolator, Volume: 710mL, Weight: 13 ounces]   \n",
       "99995  [This deck bag holds all the necessities for a day of fishing. Designed for anglers, our streamlined Crossfire features a roomy top pocket and multiple organizer pockets sized to fit standard fly ...   \n",
       "99999                                                                              [A great net for all around use and will easily handle fish to 2. Specs: 2 overall length 9 by 13 hoop Soft nylon net bag.]   \n",
       "\n",
       "                                                                       title  \\\n",
       "0                                     Adult Tutu Assorted Colors (Turquoise)   \n",
       "1                                    Bububibi Adult Ballet Tutu Cheetah Pink   \n",
       "3                                           Girls Ballet Tutu Zebra Hot Pink   \n",
       "6                                6ft of Acid Free Linen Tape for Bookbinding   \n",
       "7                                 Mystiqueshapes Girls Ballet Tutu Neon Pink   \n",
       "...                                                                      ...   \n",
       "99991   Grivel Antiballing Plate Crampon Add On G10 New / Air Tech One Size    \n",
       "99992                            Uncle Josh 11 W Pork Frog, 2.5-Inch, White    \n",
       "99994             Chinook Timberline Stainless Steel 3 Cup Coffee Percolator   \n",
       "99995                                     Seattle Sports Crossfire Deck Bag    \n",
       "99999                               Brodin Landing Nets Streambase Trout Net   \n",
       "\n",
       "      also_buy tech2                brand  \\\n",
       "0           []                   BubuBibi   \n",
       "1           []                   BubuBibi   \n",
       "3           []                       Tutu   \n",
       "6           []                  Stansport   \n",
       "7           []             Mystiqueshapes   \n",
       "...        ...   ...                  ...   \n",
       "99991       []                     Grivel   \n",
       "99992       []            Uncle Josh Bait   \n",
       "99994       []                    Chinook   \n",
       "99995       []             Seattle Sports   \n",
       "99999       []        Brodin Landing Nets   \n",
       "\n",
       "                                                                                                                                                                                                       feature  \\\n",
       "0      [3 Layers - 100% Polyester Tulle, Hand Wash Lay FLat to Dry, 100% Polyester, FIT: most Kids. Teens . Adults *Please Check Measurements for Proper Fit, WAIST: Satin Covered Elastic 18\" relaxed to 3...   \n",
       "1      [3 Layers - 100% Polyester Tulle, Hand Wash Lay FLat to Dry, 100% Polyester, FIT: most Kids. Teens . Adults *Please Check Measurements for Proper Fit, WAIST: Satin Covered Elastic 18\" relaxed to 3...   \n",
       "3                                                                                                                                                                                                       [Tutu]   \n",
       "6                                                                                                                                                                                   [Cotton Canvas, Acid Free]   \n",
       "7                                                                                                                              [Hot pink Tutu, Fits ages 2-12 (Waist stretches to 31 inhces around the waist)]   \n",
       "...                                                                                                                                                                                                        ...   \n",
       "99991                                                                                                                     [Material: rubber, Recommended Use: mountaineering, Manufacturer Warranty: lifetime]   \n",
       "99992                                    [The world's most popular rind pattern, Chunky, fleshy body with a beveled face, Quality craftsmanship and materials make this product a must have for any fisherman]   \n",
       "99994                  [Stainless Steel Coffee percolator 3-cup (710mL), 18/8 polished Stainless Steel construction, Heat insulating permawood handle, Has precision-fitting, seamless parts, Dishwasher-safe]   \n",
       "99995  [Anglers deck bag; holds all necessities for a day of fishing, Roomy top pocket; easy totability with adjustable, detachable shoulder strap, Streamlined design with roomy top pocket and multiple o...   \n",
       "99999                                                                                                                                                                                                       []   \n",
       "\n",
       "                                                                                                                                                                          rank  \\\n",
       "0                                                                                                                                       712,899 in Clothing, Shoes & Jewelry (   \n",
       "1                                                                                                                                       712,899 in Clothing, Shoes & Jewelry (   \n",
       "3                                                                                                                                             1,314,199 in Sports & Outdoors (   \n",
       "6                                                                                                                                             2,077,567 in Sports & Outdoors (   \n",
       "7                                                                                                                                             1,114,132 in Sports & Outdoors (   \n",
       "...                                                                                                                                                                        ...   \n",
       "99991                                                                                                                                                                       []   \n",
       "99992                                                                                                                                         1,640,938 in Sports & Outdoors (   \n",
       "99994  [>#149,338 in Kitchen & Dining (See Top 100 in Kitchen & Dining), >#70 in Sports & Outdoors > Outdoor Recreation > Camping & Hiking > Camp Kitchen > Coffee & Tea Pots]   \n",
       "99995                                                                                                                                         1,425,438 in Sports & Outdoors (   \n",
       "99999                                                                                                                                         4,231,375 in Sports & Outdoors (   \n",
       "\n",
       "                                                                                                                                                                                                     also_view  \\\n",
       "0      [B071LQWQBQ, B00M14DG0O, B076GTTY9W, B07BSZ4GYZ, B07CJWWMQW, B074DQJMYT, B002BZX8Z6, B07CPV7P5B, B01M0BIP9H, B07C9T6L8D, B07FQ3QG5G, B0717BCCGP, B01M0N9TCF, B01B8L258E, B06XBG5JZP, B0764FVL5D, B06...   \n",
       "1                                                                                                                                                                                                           []   \n",
       "3                                                                                                                                                                                                 [0000013714]   \n",
       "6                                                                                                                                                                                     [B003W5YN9Y, B077FXJTTS]   \n",
       "7                                                                                                                                                                                                           []   \n",
       "...                                                                                                                                                                                                        ...   \n",
       "99991                                                                                                                                                                                                       []   \n",
       "99992                                                                                                                                                                                                       []   \n",
       "99994  [B00005NCWQ, B000QOM6P2, B078HC2D7M, B001J2HFX8, B000BI8EJK, B0018BLHES, B01HZYPQVG, B0018EA7AA, B000LNRP3G, B001LF3I2K, B01EOOHEAQ, B0009PUQSM, B000P9GZNM, B001DC5HG6, B000VP7HQ4, B07LG4TCN9, B00...   \n",
       "99995                                                                                                                                                                                                       []   \n",
       "99999                                                                                                                                                                                                       []   \n",
       "\n",
       "                                                                                                                                                                       main_cat  \\\n",
       "0      <img src=\"https://images-na.ssl-images-amazon.com/images/G/01/nav2/images/gui/amazon-fashion-store-new._CB520838675_.png\" class=\"nav-categ-image\" alt=\"AMAZON FASHION\"/>   \n",
       "1      <img src=\"https://images-na.ssl-images-amazon.com/images/G/01/nav2/images/gui/amazon-fashion-store-new._CB520838675_.png\" class=\"nav-categ-image\" alt=\"AMAZON FASHION\"/>   \n",
       "3                                                                                                                                                             Sports & Outdoors   \n",
       "6                                                                                                                                                             Sports & Outdoors   \n",
       "7                                                                                                                                                             Sports & Outdoors   \n",
       "...                                                                                                                                                                         ...   \n",
       "99991                                                                                                                                                         Sports & Outdoors   \n",
       "99992                                                                                                                                                         Sports & Outdoors   \n",
       "99994                                                                                                                                                               Amazon Home   \n",
       "99995                                                                                                                                                         Sports & Outdoors   \n",
       "99999                                                                                                                                                         Sports & Outdoors   \n",
       "\n",
       "      similar_item  \\\n",
       "0                    \n",
       "1                    \n",
       "3                    \n",
       "6                    \n",
       "7                    \n",
       "...            ...   \n",
       "99991                \n",
       "99992                \n",
       "99994                \n",
       "99995                \n",
       "99999                \n",
       "\n",
       "                                                                                                                                                                                                          date  \\\n",
       "0      <div class=\"a-fixed-left-grid a-spacing-none\"><div class=\"a-fixed-left-grid-inner\" style=\"padding-left:280px\"><div class=\"a-fixed-left-grid-col a-col-left\" style=\"width:280px;margin-left:-280px;fl...   \n",
       "1      <div class=\"a-fixed-left-grid a-spacing-none\"><div class=\"a-fixed-left-grid-inner\" style=\"padding-left:280px\"><div class=\"a-fixed-left-grid-col a-col-left\" style=\"width:280px;margin-left:-280px;fl...   \n",
       "3                                                                                                                                                                                                                \n",
       "6                                                                                                                                                                                                                \n",
       "7                                                                                                                                                                                                                \n",
       "...                                                                                                                                                                                                        ...   \n",
       "99991                                                                                                                                                                                                            \n",
       "99992                                                                                                                                                                                                            \n",
       "99994                                                                                                                                                                                         October 15, 2009   \n",
       "99995                                                                                                                                                                                                            \n",
       "99999                                                                                                                                                                                                            \n",
       "\n",
       "        price        asin  \\\n",
       "0      $11.80  0000032042   \n",
       "1      $11.97  0000032069   \n",
       "3       $7.50  0000031852   \n",
       "6       $4.00  0000012300   \n",
       "7       $6.94  0000031909   \n",
       "...       ...         ...   \n",
       "99991   $3.98  B001HYM4JI   \n",
       "99992          B001HYKRPG   \n",
       "99994   $5.94  B001HYTPSQ   \n",
       "99995          B001HYKE2W   \n",
       "99999  $60.00  B001HZ0CIM   \n",
       "\n",
       "                                                                                                                                                 imageURL  \\\n",
       "0                                                                                                                                                      []   \n",
       "1                                                                                                                                                      []   \n",
       "3                                                                                                                                                      []   \n",
       "6      [https://images-na.ssl-images-amazon.com/images/I/41mxTGc1tML._SS40_.jpg, https://images-na.ssl-images-amazon.com/images/I/41sHOSFCHqL._SS40_.jpg]   \n",
       "7                                                                                                                                                      []   \n",
       "...                                                                                                                                                   ...   \n",
       "99991                                                                                                                                                  []   \n",
       "99992                                                                           [https://images-na.ssl-images-amazon.com/images/I/41OduJHHc-L._SS40_.jpg]   \n",
       "99994  [https://images-na.ssl-images-amazon.com/images/I/41338t1vVSL._SS40_.jpg, https://images-na.ssl-images-amazon.com/images/I/51pcfT1OKeL._SS40_.jpg]   \n",
       "99995                                                                                                                                                  []   \n",
       "99999                                                                                                                                                  []   \n",
       "\n",
       "                                                                                                                            imageURLHighRes  \\\n",
       "0                                                                                                                                        []   \n",
       "1                                                                                                                                        []   \n",
       "3                                                                                                                                        []   \n",
       "6      [https://images-na.ssl-images-amazon.com/images/I/41mxTGc1tML.jpg, https://images-na.ssl-images-amazon.com/images/I/41sHOSFCHqL.jpg]   \n",
       "7                                                                                                                                        []   \n",
       "...                                                                                                                                     ...   \n",
       "99991                                                                                                                                    []   \n",
       "99992                                                                    [https://images-na.ssl-images-amazon.com/images/I/41OduJHHc-L.jpg]   \n",
       "99994  [https://images-na.ssl-images-amazon.com/images/I/41338t1vVSL.jpg, https://images-na.ssl-images-amazon.com/images/I/51pcfT1OKeL.jpg]   \n",
       "99995                                                                                                                                    []   \n",
       "99999                                                                                                                                    []   \n",
       "\n",
       "                                                                                                                                                                                                       details  \\\n",
       "0                                                                                                                                                                                                          NaN   \n",
       "1                                                                                                                                                                                                          NaN   \n",
       "3                                                                                                                                                                                                          NaN   \n",
       "6                                                                                                                                                                                                          NaN   \n",
       "7                                                                                                                                                                                                          NaN   \n",
       "...                                                                                                                                                                                                        ...   \n",
       "99991                                           {'\n",
       "    Product Dimensions: \n",
       "    ': '9 x 5 x 3 inches ; 13.4 ounces', 'Shipping Weight:': '1 pounds (', 'ASIN: ': 'B001DGXC8W', 'Item model number:': 'Grivel'}   \n",
       "99992  {'Shipping Weight:': '3.5 ounces', 'Domestic Shipping: ': 'Currently, item can be shipped only within the U.S. and to APO/FPO addresses. For APO/FPO shipments, please check with the manufacturer r...   \n",
       "99994                                                                                                                                                                                                       {}   \n",
       "99995                                                                                                               {'Shipping Weight:': '1.4 pounds', 'ASIN: ': 'B001HYKE2W', 'Item model number:': '056417'}   \n",
       "99999                                         {'\n",
       "    Product Dimensions: \n",
       "    ': '24 x 9 x 3 inches ; 6.7 ounces', 'Shipping Weight:': '9.1 ounces (', 'ASIN: ': 'B001HZ0CIM', 'Item model number:': 'Brodin'}   \n",
       "\n",
       "            category_big        category_mid     category_small  \n",
       "0      Sports & Outdoors    Sports & Fitness       Other Sports  \n",
       "1      Sports & Outdoors    Sports & Fitness       Other Sports  \n",
       "3      Sports & Outdoors    Sports & Fitness       Other Sports  \n",
       "6      Sports & Outdoors  Outdoor Recreation   Camping & Hiking  \n",
       "7      Sports & Outdoors    Sports & Fitness       Other Sports  \n",
       "...                  ...                 ...                ...  \n",
       "99991  Sports & Outdoors  Outdoor Recreation           Climbing  \n",
       "99992  Sports & Outdoors    Sports & Fitness  Hunting & Fishing  \n",
       "99994  Sports & Outdoors  Outdoor Recreation   Camping & Hiking  \n",
       "99995  Sports & Outdoors  Outdoor Recreation       Water Sports  \n",
       "99999  Sports & Outdoors    Sports & Fitness  Hunting & Fishing  \n",
       "\n",
       "[70632 rows x 19 columns]"
      ]
     },
     "execution_count": 22,
     "metadata": {},
     "output_type": "execute_result"
    }
   ],
   "source": [
    "df[df['also_buy'].apply(lambda x: x == [])]"
   ]
  },
  {
   "cell_type": "code",
   "execution_count": 23,
   "id": "01ca5cef",
   "metadata": {
    "scrolled": true
   },
   "outputs": [
    {
     "data": {
      "text/plain": [
       "0.70632"
      ]
     },
     "execution_count": 23,
     "metadata": {},
     "output_type": "execute_result"
    }
   ],
   "source": [
    "len(df[df['also_buy'].apply(lambda x: x == [])]) / len(df)\n",
    "# 70%가 []로 채워져있음, 즉 전체 데이터의 30% 상품에 대해서만 also buy 항목 기재되어있음"
   ]
  },
  {
   "cell_type": "code",
   "execution_count": 24,
   "id": "fd656b9f",
   "metadata": {},
   "outputs": [
    {
     "data": {
      "text/plain": [
       "70632"
      ]
     },
     "execution_count": 24,
     "metadata": {},
     "output_type": "execute_result"
    }
   ],
   "source": [
    "# 나중 null 값 확인 용이하게 하기 위해 [] 값을 다 null 값으로 바꿔놓자!\n",
    "df['also_buy'] = df['also_buy'].apply(lambda x: None if x==[] else x)\n",
    "df['also_buy'].isnull().sum()"
   ]
  },
  {
   "cell_type": "markdown",
   "id": "302051e2",
   "metadata": {},
   "source": [
    "## tech 2"
   ]
  },
  {
   "cell_type": "code",
   "execution_count": 25,
   "id": "98e0db20",
   "metadata": {
    "scrolled": true
   },
   "outputs": [
    {
     "data": {
      "text/plain": [
       "0         \n",
       "1         \n",
       "2         \n",
       "3         \n",
       "4         \n",
       "        ..\n",
       "99995     \n",
       "99996     \n",
       "99997     \n",
       "99998     \n",
       "99999     \n",
       "Name: tech2, Length: 100000, dtype: object"
      ]
     },
     "execution_count": 25,
     "metadata": {},
     "output_type": "execute_result"
    }
   ],
   "source": [
    "df['tech2']"
   ]
  },
  {
   "cell_type": "code",
   "execution_count": 26,
   "id": "fbad35c1",
   "metadata": {
    "scrolled": true
   },
   "outputs": [
    {
     "data": {
      "text/plain": [
       "tech2\n",
       "                                                                                                                                                                                                                                                                                                                                                                                                                                                                                                                                                                                                                                                                                                                                                                                                                                                                                                                                                                                                                                                                                                                                                                                                                                                                                                                                                                                                                                                                                                                                                                                                                                                                                                                                                                                                                                                                                                                                                                                                                                                                                                                                                                                                                                                                                                                                                                                                                                                                                                                                                                                                                                                                                                                                                                                                                                                                                                                                                                                                                                                                                                                                                                                                                                                                                                                                                                                                                                                                 99996\n",
       " class=\"a-keyvalue prodDetTable\" role=\"presentation\">\\n         \\n           \\n           \\n           \\n           <tr>\\n            \\n            \\n              \\n              \\n               \\n                <th class=\"a-color-secondary a-size-base prodDetSectionEntry\">\\n                  Brand Name\\n                </th>\\n                \\n              \\n            \\n            \\n           \\n            <td class=\"a-size-base\">\\n              Wilson\\n            </td>\\n            \\n           </tr>\\n           \\n           \\n           \\n           <tr>\\n            \\n            \\n              \\n              \\n               \\n                <th class=\"a-color-secondary a-size-base prodDetSectionEntry\">\\n                  Hardware Platform\\n                </th>\\n                \\n              \\n            \\n            \\n           \\n            <td class=\"a-size-base\">\\n              PC\\n            </td>\\n            \\n           </tr>\\n           \\n           \\n           \\n           <tr>\\n            \\n            \\n              \\n              \\n               \\n                <th class=\"a-color-secondary a-size-base prodDetSectionEntry\">\\n                  Operating System\\n                </th>\\n                \\n              \\n            \\n            \\n           \\n            <td class=\"a-size-base\">\\n              All Windows Server Versions 2000\\n            </td>\\n            \\n           </tr>\\n           \\n           \\n           \\n           <tr>\\n            \\n            \\n              \\n              \\n               \\n                <th class=\"a-color-secondary a-size-base prodDetSectionEntry\">\\n                  Color\\r\\n\\n                </th>\\n                \\n              \\n            \\n            \\n           \\n            <td class=\"a-size-base\">\\n              T02\\n            </td>\\n            \\n           </tr>\\n           \\n           \\n           \\n           <tr>\\n            \\n            \\n              \\n              \\n               \\n                <th class=\"a-color-secondary a-size-base prodDetSectionEntry\">\\n                  Processor Brand\\n                </th>\\n                \\n              \\n            \\n            \\n           \\n            <td class=\"a-size-base\">\\n              Intel\\n            </td>\\n            \\n           </tr>\\n           \\n           \\n           \\n           <tr>\\n            \\n            \\n              \\n              \\n               \\n                <th class=\"a-color-secondary a-size-base prodDetSectionEntry\">\\n                  Processor Count\\n                </th>\\n                \\n              \\n            \\n            \\n           \\n            <td class=\"a-size-base\">\\n              4\\n            </td>\\n            \\n           </tr>\\n           \\n           \\n           \\n           <tr>\\n            \\n            \\n              \\n              \\n               \\n                <th class=\"a-color-secondary a-size-base prodDetSectionEntry\">\\n                  Computer Memory Type\\n                </th>\\n                \\n              \\n            \\n            \\n           \\n            <td class=\"a-size-base\">\\n              DDR3 SDRAM\\n            </td>\\n            \\n           </tr>\\n           \\n           \\n          \\n                1\n",
       " class=\"a-keyvalue prodDetTable\" role=\"presentation\">\\n         \\n           \\n           \\n           \\n           <tr>\\n            \\n            \\n              \\n              \\n               \\n                <th class=\"a-color-secondary a-size-base prodDetSectionEntry\">\\n                  Brand Name\\n                </th>\\n                \\n              \\n            \\n            \\n           \\n            <td class=\"a-size-base\">\\n              Belkin\\n            </td>\\n            \\n           </tr>\\n           \\n           \\n           \\n           <tr>\\n            \\n            \\n              \\n              \\n               \\n                <th class=\"a-color-secondary a-size-base prodDetSectionEntry\">\\n                  Item model number\\n                </th>\\n                \\n              \\n            \\n            \\n           \\n            <td class=\"a-size-base\">\\n              F8N043-GRY\\n            </td>\\n            \\n           </tr>\\n           \\n           \\n           \\n           <tr>\\n            \\n            \\n              \\n              \\n               \\n                <th class=\"a-color-secondary a-size-base prodDetSectionEntry\">\\n                  Item Weight\\n                </th>\\n                \\n              \\n            \\n            \\n           \\n            <td class=\"a-size-base\">\\n              2.7 pounds\\n            </td>\\n            \\n           </tr>\\n           \\n           \\n           \\n           <tr>\\n            \\n            \\n              \\n              \\n               \\n                <th class=\"a-color-secondary a-size-base prodDetSectionEntry\">\\n                  Product Dimensions\\n                </th>\\n                \\n              \\n            \\n            \\n           \\n            <td class=\"a-size-base\">\\n              2.8 x 16.5 x 13.9 inches\\n            </td>\\n            \\n           </tr>\\n           \\n           \\n           \\n           <tr>\\n            \\n            \\n              \\n              \\n               \\n                <th class=\"a-color-secondary a-size-base prodDetSectionEntry\">\\n                  Item Dimensions  L x W x H\\n                </th>\\n                \\n              \\n            \\n            \\n           \\n            <td class=\"a-size-base\">\\n              2.8 x 16.5 x 13.9 inches\\n            </td>\\n            \\n           </tr>\\n           \\n           \\n           \\n           <tr>\\n            \\n            \\n              \\n              \\n               \\n                <th class=\"a-color-secondary a-size-base prodDetSectionEntry\">\\n                  Color\\r\\n\\n                </th>\\n                \\n              \\n            \\n            \\n           \\n            <td class=\"a-size-base\">\\n              Gunmetal w/ Orange\\n            </td>\\n            \\n           </tr>\\n           \\n           \\n          \\n                                                                                                                                                                                                                                                                                                                                                                                                                                              1\n",
       " class=\"a-keyvalue prodDetTable\" role=\"presentation\">\\n         \\n           \\n           \\n           \\n           <tr>\\n            \\n            \\n              \\n              \\n               \\n                <th class=\"a-color-secondary a-size-base prodDetSectionEntry\">\\n                  Brand Name\\n                </th>\\n                \\n              \\n            \\n            \\n           \\n            <td class=\"a-size-base\">\\n              Pelican\\n            </td>\\n            \\n           </tr>\\n           \\n           \\n           \\n           <tr>\\n            \\n            \\n              \\n              \\n               \\n                <th class=\"a-color-secondary a-size-base prodDetSectionEntry\">\\n                  Item model number\\n                </th>\\n                \\n              \\n            \\n            \\n           \\n            <td class=\"a-size-base\">\\n              1490CC2\\n            </td>\\n            \\n           </tr>\\n           \\n           \\n           \\n           <tr>\\n            \\n            \\n              \\n              \\n               \\n                <th class=\"a-color-secondary a-size-base prodDetSectionEntry\">\\n                  Item Weight\\n                </th>\\n                \\n              \\n            \\n            \\n           \\n            <td class=\"a-size-base\">\\n              7.5 pounds\\n            </td>\\n            \\n           </tr>\\n           \\n           \\n           \\n           <tr>\\n            \\n            \\n              \\n              \\n               \\n                <th class=\"a-color-secondary a-size-base prodDetSectionEntry\">\\n                  Product Dimensions\\n                </th>\\n                \\n              \\n            \\n            \\n           \\n            <td class=\"a-size-base\">\\n              13.9 x 4.7 x 19.9 inches\\n            </td>\\n            \\n           </tr>\\n           \\n           \\n           \\n           <tr>\\n            \\n            \\n              \\n              \\n               \\n                <th class=\"a-color-secondary a-size-base prodDetSectionEntry\">\\n                  Item Dimensions  L x W x H\\n                </th>\\n                \\n              \\n            \\n            \\n           \\n            <td class=\"a-size-base\">\\n              13.93 x 4.68 x 19.87 inches\\n            </td>\\n            \\n           </tr>\\n           \\n           \\n           \\n           <tr>\\n            \\n            \\n              \\n              \\n               \\n                <th class=\"a-color-secondary a-size-base prodDetSectionEntry\">\\n                  Color\\r\\n\\n                </th>\\n                \\n              \\n            \\n            \\n           \\n            <td class=\"a-size-base\">\\n              Black\\n            </td>\\n            \\n           </tr>\\n           \\n           \\n          \\n                                                                                                                                                                                                                                                                                                                                                                                                                                                          1\n",
       " class=\"a-keyvalue prodDetTable\" role=\"presentation\">\\n         \\n           \\n           \\n           \\n           <tr>\\n            \\n            \\n              \\n              \\n               \\n                <th class=\"a-color-secondary a-size-base prodDetSectionEntry\">\\n                  Brand Name\\n                </th>\\n                \\n              \\n            \\n            \\n           \\n            <td class=\"a-size-base\">\\n              Samsung\\n            </td>\\n            \\n           </tr>\\n           \\n           \\n           \\n           <tr>\\n            \\n            \\n              \\n              \\n               \\n                <th class=\"a-color-secondary a-size-base prodDetSectionEntry\">\\n                  Item model number\\n                </th>\\n                \\n              \\n            \\n            \\n           \\n            <td class=\"a-size-base\">\\n              T220HD\\n            </td>\\n            \\n           </tr>\\n           \\n           \\n           \\n           <tr>\\n            \\n            \\n              \\n              \\n               \\n                <th class=\"a-color-secondary a-size-base prodDetSectionEntry\">\\n                  Item Weight\\n                </th>\\n                \\n              \\n            \\n            \\n           \\n            <td class=\"a-size-base\">\\n              13.58 pounds\\n            </td>\\n            \\n           </tr>\\n           \\n           \\n           \\n           <tr>\\n            \\n            \\n              \\n              \\n               \\n                <th class=\"a-color-secondary a-size-base prodDetSectionEntry\">\\n                  Product Dimensions\\n                </th>\\n                \\n              \\n            \\n            \\n           \\n            <td class=\"a-size-base\">\\n              20.5 x 3.4 x 14.7 inches\\n            </td>\\n            \\n           </tr>\\n           \\n           \\n           \\n           <tr>\\n            \\n            \\n              \\n              \\n               \\n                <th class=\"a-color-secondary a-size-base prodDetSectionEntry\">\\n                  Item Dimensions  L x W x H\\n                </th>\\n                \\n              \\n            \\n            \\n           \\n            <td class=\"a-size-base\">\\n              20.47 x 3.41 x 14.7 inches\\n            </td>\\n            \\n           </tr>\\n           \\n           \\n          \\n                                                                                                                                                                                                                                                                                                                                                                                                                                                                                                                                                                                                                                                                                                                                                                                                                                                                                                                            1\n",
       "Name: count, dtype: int64"
      ]
     },
     "execution_count": 26,
     "metadata": {},
     "output_type": "execute_result"
    }
   ],
   "source": [
    "df['tech2'].value_counts(dropna=False)"
   ]
  },
  {
   "cell_type": "code",
   "execution_count": 27,
   "id": "2210ed1a",
   "metadata": {},
   "outputs": [],
   "source": [
    "df.drop('tech2',axis=1,inplace=True)"
   ]
  },
  {
   "cell_type": "markdown",
   "id": "fe25d067",
   "metadata": {},
   "source": [
    "## brand"
   ]
  },
  {
   "cell_type": "code",
   "execution_count": 28,
   "id": "3c815f69",
   "metadata": {},
   "outputs": [
    {
     "data": {
      "text/plain": [
       "11117"
      ]
     },
     "execution_count": 28,
     "metadata": {},
     "output_type": "execute_result"
    }
   ],
   "source": [
    "df['brand'].nunique()\n",
    "# 약 1만1천개의 브랜드 존재"
   ]
  },
  {
   "cell_type": "code",
   "execution_count": 29,
   "id": "08cf7b66",
   "metadata": {
    "scrolled": true
   },
   "outputs": [
    {
     "data": {
      "text/plain": [
       "brand\n",
       "                       6348\n",
       "WinCraft               1016\n",
       "Reebok                  843\n",
       "Coleman                 713\n",
       "adidas                  674\n",
       "                       ... \n",
       "Dtitz                     1\n",
       "Zak-Tool                  1\n",
       "FOOTLOOSE                 1\n",
       "Pinarello                 1\n",
       "Brodin Landing Nets       1\n",
       "Name: count, Length: 11117, dtype: int64"
      ]
     },
     "execution_count": 29,
     "metadata": {},
     "output_type": "execute_result"
    }
   ],
   "source": [
    "df['brand'].value_counts(dropna=False)\n",
    "\n",
    "# ''로 채워져있는 값 6348개 존재"
   ]
  },
  {
   "cell_type": "code",
   "execution_count": 30,
   "id": "1a2008eb",
   "metadata": {},
   "outputs": [
    {
     "data": {
      "text/plain": [
       "6348"
      ]
     },
     "execution_count": 30,
     "metadata": {},
     "output_type": "execute_result"
    }
   ],
   "source": [
    "# 추후 null 값 확인 용이하게 하기 위해 6348개를 null 값으로 바꿔놓겠음\n",
    "df['brand'] = df['brand'].apply(lambda x: None if x=='' else x)\n",
    "df['brand'].isnull().sum()"
   ]
  },
  {
   "cell_type": "markdown",
   "id": "2901b179",
   "metadata": {},
   "source": [
    "## feature"
   ]
  },
  {
   "cell_type": "code",
   "execution_count": 31,
   "id": "1e8e3ab3",
   "metadata": {
    "scrolled": true
   },
   "outputs": [
    {
     "data": {
      "text/plain": [
       "99950    [1 precision stainless steel rust-resistant ball bearings, CNC Machined aluminum alloy frame and spool, Oversized smooth drag washers: oversized carbon drag washers, One-way clutch roller bearing,...\n",
       "99951                 [Use battery: lithium battery FB-03 or BR435 (batteries not included), Fit weights: 2B (about 0.75g), Size: Height  maximum diameter: 104mm  (diameter) 14mm, Weight:4.08g, Made in japan]\n",
       "99952                                                                                      [NCAA Full Bedding Set, Set includes reversible comforter and two pillow shams, 200 Thread count, 100% Cotton sateen]\n",
       "99953                                                                                                              [Officially Licensed, Featuring New England Patriots, Unique glass construction, 12 diameter]\n",
       "99954                                                                                            [Compact Body Design, Tight Swimming Action, FR05 Deep Diving, MFR03 Shallow Running, Hand Tuned & Tank Tested]\n",
       "99955    [Includes: F.A.T. Wrench, 10 bits, 1/2\" socket, Level-Level-Level-, Flex Driver, Lapping Bar and handle, Alignment Bars, Lapping Compound, Thread Locker, carrying case and online instructional vid...\n",
       "99956    [Contains advanced lubricants, Easy to apply streamside, Use line immediately after application, Improves floatability for easier pickup and mending, Contains advanced lubricants, Use line immedia...\n",
       "99957                                                                                                                                            [600 Denier, 100% Rayon, 50 yards, High gloss shine, Lays flat]\n",
       "99958                                                                                                                                                                                                         []\n",
       "99959                                                                                                                                                                                                         []\n",
       "99960                                                                                                                                                               [Made from Polyammide steel, Fits all sizes]\n",
       "99961                                                                                       [Deep Diving Lip, Suspending on Pause, Textured Translucent Body, Internal Long-Cast System, VMC Black Nickel Hooks]\n",
       "99962      [600D HDTEX rip stop polyester, Zippered compartment stores a passport, tickets, documents and money, Interior envelope pockets, ID and credit card slots, tote handle, Size: 6 x 10 in (15 x 25 cm)]\n",
       "99963    [Fishing reel handle cover in a black finish, The latest fishing tackle accessory, Adds comfort and grip to your existing reel handles, Made of a soft rubber composite, Easily slide over your exis...\n",
       "99964                                                                                       [Deep Diving Lip, Suspending on Pause, Textured Translucent Body, Internal Long-Cast System, VMC Black Nickel Hooks]\n",
       "99965                                                                                                           [7\" L x 4\" W x 2\" H, Easy-to-read markings, Simple base, Attaches easily, Quick-release buckles]\n",
       "99966    [The Rattlin' Pixee Spoons provide an incredible combination of sight and sound attraction, The holographic finish adds maximum flash to presentation and the Rattlin' Egg-Sac mimics natural noises...\n",
       "99967                                                                                                                                                                                  [9B-10-020, 783670066933]\n",
       "99968                 [Coil-less paddle leash with a simple, no-tangle design, 59 inches long; weighs 9 ounces, Designed for ease of use, Minimizes tangling with fishing line, Perfect for anglers or paddlers]\n",
       "99969                                                                                         [Balsa Construction, Custom Swimming Action, Controlled Depth Technique, Large Size Range, VMC Black Nickel Hooks]\n",
       "99970                                                                                [Material: stainless steel, Compatibility: Grivel crampons, Recommended Use: boot support, Manufacturer Warranty: lifetime]\n",
       "99971                                                                                                                                                                                                         []\n",
       "99972    [Solid brass cast plate with 3-D hand-painted (with long lasting epoxy colorfil) Florida State Seminoles pewter embellishment., Standard size with pre-drilled holes for easy installation., Built t...\n",
       "99973             [One of the most effective bass lures on the market, Incredible fish catching action and can be fished weightless, Measures 5-inches long, Clear with black and red spots, Comes in a 10-pack]\n",
       "99974    [A quality product by RAM Mounting Systems, A quality product by RAM Mounting Systems, A quality product by RAM Mounting Systems, A quality product by RAM Mounting Systems, A quality product by RA...\n",
       "99975                                                                                                           [Suspending/Neutral Buoyancy, Long-Casting, Loud Rattles, Runs Straight and True, Cast or Troll]\n",
       "99976    [Keeps hands at a safer distance from teeth, fins and hooks, Less likely to harm fish, Weighs fish accurately and easily, Keeps hands dry in cold weather, Stainless steel construction using ball d...\n",
       "99977    [Fishing reel handle cover in a black and white tie dye finish, The latest fishing tackle accessory, Adds comfort and grip to your existing reel handles, Made of a soft rubber composite, Easily sl...\n",
       "99978    [For the rafters & paddlers liking side closure, we offer detachable straps that cinch down to the sides of the bag, which connect to traditional top buckles (otherwise hidden in a clever buckle g...\n",
       "99979    [Includes 12 Esbit 14g solid Fuel tablets, additional fuel tablets sold separately, Select from three cooking grades; suitable for cups, pots, and pans, Total weight including fuel tablets approxi...\n",
       "99980                                                                          [Dives up to 12-15'- Deep Diver!, Heavy Sinking bait- runs in a nose down posture, Brass & Glass Rattles give off a unique sound]\n",
       "99981                                                                                                       [Waxed Thread, General fly-tying thread, Meets virtually all fly-tying needs., Fly Tying, 72 denier]\n",
       "99982    [Lightweight, free-standing and extremely easy to pitch, Two large D doors and vestibules allow for easy entry and exit, Chinook's 3-in-1Fly allows the user to customize the tent to the season and...\n",
       "99983    [Balsa wood construction under incredible finishes make this the lure big fish find irresistible., Shallow Running Lip Design, Classic Rapala \"wounded-minnow\" wobble, Built tough with hard-diving ...\n",
       "99984                                                                      [Compression stuff sack, Draft collar / snug fit hood, Anti-snag two-way zipper/zip baffle, Reinforced foot lining, Hanging Dry tabs]\n",
       "99985                                                                                                        [CatEye 169-9404N CC-CD100/200/Astrale 8 Stem Mount Kit - Black, CATEYE article number FA003526037]\n",
       "99986                                                                                                                                                                                    [Grivel Crampons Crown]\n",
       "99987    [nylon, Much lighter weight and more packable than traditional boating dry bags, A lot less expensive than other dry bags on the market, Designed for backpacking, adventure travel and water sports...\n",
       "99988                                                                                                                                                                                                         []\n",
       "99989                                                                                                                                                                           [Does not include bobbin Cradle]\n",
       "99990                                                                                                   [Material: [shaft] plastic, [spike] steel, Recommended Use: ice climbing, Manufacturer Warranty: 1 year]\n",
       "99991                                                                                                                       [Material: rubber, Recommended Use: mountaineering, Manufacturer Warranty: lifetime]\n",
       "99992                                      [The world's most popular rind pattern, Chunky, fleshy body with a beveled face, Quality craftsmanship and materials make this product a must have for any fisherman]\n",
       "99993    [Balsa wood construction under incredible finishes make this the lure big fish find irresistible., Shallow Running Lip Design, Classic Rapala \"wounded-minnow\" wobble, Built tough with hard-diving ...\n",
       "99994                    [Stainless Steel Coffee percolator 3-cup (710mL), 18/8 polished Stainless Steel construction, Heat insulating permawood handle, Has precision-fitting, seamless parts, Dishwasher-safe]\n",
       "99995    [Anglers deck bag; holds all necessities for a day of fishing, Roomy top pocket; easy totability with adjustable, detachable shoulder strap, Streamlined design with roomy top pocket and multiple o...\n",
       "99996                                                                                                     [Suspending/Neutral Buoyancy Tested, Long-Casting, Loud Rattles, Runs Straight and True, Jointed body]\n",
       "99997    [Dimensions: 16\"H x 24\"W x 10\"D - 24 lbs., Dual LED setting for indoor and outdoor brightness, AC/DC, with built-in rechargeable battery (up to 6 hour battery life depending on brightness setting)...\n",
       "99998                                                                                                                          [Material: nylon, Recommended Use: ice climbing, Manufacturer Warranty: lifetime]\n",
       "99999                                                                                                                                                                                                         []\n",
       "Name: feature, dtype: object"
      ]
     },
     "execution_count": 31,
     "metadata": {},
     "output_type": "execute_result"
    }
   ],
   "source": [
    "df['feature'].tail(50)"
   ]
  },
  {
   "cell_type": "code",
   "execution_count": 32,
   "id": "d0483bb8",
   "metadata": {},
   "outputs": [
    {
     "data": {
      "text/plain": [
       "17326"
      ]
     },
     "execution_count": 32,
     "metadata": {},
     "output_type": "execute_result"
    }
   ],
   "source": [
    "len(df[df['feature'].apply(lambda x: x==[])])\n",
    "# 17326개가 []로 채워져 있음"
   ]
  },
  {
   "cell_type": "code",
   "execution_count": 33,
   "id": "afc0f194",
   "metadata": {},
   "outputs": [
    {
     "data": {
      "text/plain": [
       "17326"
      ]
     },
     "execution_count": 33,
     "metadata": {},
     "output_type": "execute_result"
    }
   ],
   "source": [
    "# 추후 null 값 파악 용이성을 위해 null로 변경\n",
    "# 추후 null 값 확인 용이하게 하기 위해 6348개를 null 값으로 바꿔놓겠음\n",
    "df['feature'] = df['feature'].apply(lambda x: None if x==[] else x)\n",
    "df['feature'].isnull().sum()"
   ]
  },
  {
   "cell_type": "markdown",
   "id": "ba5f37f0",
   "metadata": {},
   "source": [
    "## rank"
   ]
  },
  {
   "cell_type": "code",
   "execution_count": 34,
   "id": "bc916300",
   "metadata": {
    "scrolled": true
   },
   "outputs": [
    {
     "data": {
      "text/plain": [
       "0                                                                                                                          712,899 in Clothing, Shoes & Jewelry (\n",
       "1                                                                                                                          712,899 in Clothing, Shoes & Jewelry (\n",
       "2     [>#924,198 in Toys & Games (See Top 100 in Toys & Games), >#182 in Sports & Outdoors > Sports & Fitness > Other Sports > Dance > Clothing > Girls > Skirts]\n",
       "3                                                                                                                                1,314,199 in Sports & Outdoors (\n",
       "4      [>#393,597 in Toys & Games (See Top 100 in Toys & Games), >#62 in Sports & Outdoors > Sports & Fitness > Other Sports > Dance > Clothing > Girls > Skirts]\n",
       "5                                                                                                                          736,438 in Clothing, Shoes & Jewelry (\n",
       "6                                                                                                                                2,077,567 in Sports & Outdoors (\n",
       "7                                                                                                                                1,114,132 in Sports & Outdoors (\n",
       "8     [>#789,938 in Toys & Games (See Top 100 in Toys & Games), >#156 in Sports & Outdoors > Sports & Fitness > Other Sports > Dance > Clothing > Girls > Skirts]\n",
       "9                                                                                                                                1,804,057 in Sports & Outdoors (\n",
       "10                                                                                                                               3,358,556 in Sports & Outdoors (\n",
       "11                                                                                                                               5,302,408 in Sports & Outdoors (\n",
       "12                                                                                                                               1,914,116 in Sports & Outdoors (\n",
       "13                                                                                                                                 288,369 in Sports & Outdoors (\n",
       "14                                                                                                                               2,827,860 in Sports & Outdoors (\n",
       "15                                                                                                                                       535,208 in Movies & TV (\n",
       "16                                                                                                                               2,173,024 in Sports & Outdoors (\n",
       "17                                                                                                                                 807,449 in Sports & Outdoors (\n",
       "18                                                                                                                               1,212,025 in Sports & Outdoors (\n",
       "19                                                                                                                               1,472,430 in Sports & Outdoors (\n",
       "20                                                                                                                                 945,475 in Sports & Outdoors (\n",
       "21                                                                                                                               1,462,728 in Sports & Outdoors (\n",
       "22                                                                                                                                 695,264 in Sports & Outdoors (\n",
       "23                                                                                                                               2,507,552 in Sports & Outdoors (\n",
       "24                                                                                                                               3,748,135 in Sports & Outdoors (\n",
       "25                                                                                                                                   121,074 in Office Products (\n",
       "26    [>#84,484 in Office Products (See top 100), >#8 in Sports & Outdoors > Outdoor Recreation > Camping & Hiking > Navigation & Electronics > Topographic Maps]\n",
       "27                                                                                                                                 306,009 in Sports & Outdoors (\n",
       "28                                                                                                                               1,587,410 in Sports & Outdoors (\n",
       "29                                                                                                                                 927,813 in Sports & Outdoors (\n",
       "30                                                                                                                                  74,348 in Sports & Outdoors (\n",
       "31                                                                                                                               1,736,977 in Sports & Outdoors (\n",
       "32                                                                                                                               1,222,632 in Sports & Outdoors (\n",
       "33                                                                                                                                           1,055,946 in Books (\n",
       "34                                                                                                                               4,350,499 in Sports & Outdoors (\n",
       "35                                                                                                                               2,534,094 in Sports & Outdoors (\n",
       "36                                                                                                                              1,088,825 in Health & Household (\n",
       "37                                                                                                                                 750,588 in Sports & Outdoors (\n",
       "38                                                                                                                               2,164,695 in Sports & Outdoors (\n",
       "39                                                                                                                               1,709,651 in Sports & Outdoors (\n",
       "40                                                                                                                                 803,730 in Sports & Outdoors (\n",
       "41                                                                                                                                           2,681,309 in Books (\n",
       "42                                                                                                                               2,319,573 in Sports & Outdoors (\n",
       "43                                                                                                                               2,494,504 in Sports & Outdoors (\n",
       "44                                                                                                                                765,729 in Health & Household (\n",
       "45                                                                                                                               2,051,212 in Sports & Outdoors (\n",
       "46                                                                                                                               2,068,598 in Sports & Outdoors (\n",
       "47                                                                                                                                 155,278 in Sports & Outdoors (\n",
       "48                                                                                                                                 140,427 in Sports & Outdoors (\n",
       "49                                                                                                                                 278,274 in Sports & Outdoors (\n",
       "Name: rank, dtype: object"
      ]
     },
     "execution_count": 34,
     "metadata": {},
     "output_type": "execute_result"
    }
   ],
   "source": [
    "df['rank'].head(50)"
   ]
  },
  {
   "cell_type": "code",
   "execution_count": 35,
   "id": "2e61e5c3",
   "metadata": {
    "scrolled": true
   },
   "outputs": [
    {
     "data": {
      "text/plain": [
       "2285"
      ]
     },
     "execution_count": 35,
     "metadata": {},
     "output_type": "execute_result"
    }
   ],
   "source": [
    "len(df[df['rank'].apply(lambda x: x==[])])\n",
    "# rank 칼럼 내 []로 채워져 있는 행 2285개 "
   ]
  },
  {
   "cell_type": "code",
   "execution_count": 36,
   "id": "02b94049",
   "metadata": {},
   "outputs": [],
   "source": [
    "# sport&outdoor 바로 앞에 있는 숫자 하나만 떼어와보자\n",
    "df['new_rank'] = df['rank'].str.extract(r'(\\d{2,}).*Sports & Outdoors')"
   ]
  },
  {
   "cell_type": "code",
   "execution_count": 37,
   "id": "0324c958",
   "metadata": {},
   "outputs": [
    {
     "data": {
      "text/plain": [
       "19578"
      ]
     },
     "execution_count": 37,
     "metadata": {},
     "output_type": "execute_result"
    }
   ],
   "source": [
    "df['new_rank'].isnull().sum()\n",
    "\n",
    "# 위와 같이 처리할 경우 19578개의 null 값 발생"
   ]
  },
  {
   "cell_type": "markdown",
   "id": "af573b2a",
   "metadata": {},
   "source": [
    "## also_View"
   ]
  },
  {
   "cell_type": "code",
   "execution_count": 38,
   "id": "634d8953",
   "metadata": {
    "scrolled": true
   },
   "outputs": [
    {
     "data": {
      "text/plain": [
       "0        [B071LQWQBQ, B00M14DG0O, B076GTTY9W, B07BSZ4GYZ, B07CJWWMQW, B074DQJMYT, B002BZX8Z6, B07CPV7P5B, B01M0BIP9H, B07C9T6L8D, B07FQ3QG5G, B0717BCCGP, B01M0N9TCF, B01B8L258E, B06XBG5JZP, B0764FVL5D, B06...\n",
       "1                                                                                                                                                                                                             []\n",
       "2        [B0152HBC52, B07C29WWV1, B01M0BIP9H, B00VXJHFRS, B01M0N9TCF, B07CXMGJBC, B007XAI53E, B07CRBSC85, B06XWWSJJ8, B07DHKXYD2, B01G1EUNLY, B01LZO2637, B01CHB9NSY, B076377YSY, B00YAA2OIM, B06XWVQM2D, B07...\n",
       "3                                                                                                                                                                                                   [0000013714]\n",
       "4        [B009THXHPA, B079PYLZTM, B079PQPLT3, B00UP6A3R4, B00BEU1HFM, B0148RB6O4, B00BEU1PB8, B00CP4VATE, B07BS6BB44, B01FR954TU, B07BYRDR5M, B00UP69X84, B00VXJHFRS, B07CXMGJBC, B07CJWWMQW, B07BSRNM8J, B07...\n",
       "                                                                                                          ...                                                                                                   \n",
       "99995                                                                                                                                                                                                         []\n",
       "99996                                                                                                                                                                                                         []\n",
       "99997                                                                                                                                                                                                         []\n",
       "99998                                                                                               [B07CJQS9ZR, B07C44MVNL, B006GN0KJQ, B002YPBHWY, B07CQDJPM8, B00FFHH60U, B00W5P1WCS, B004JSI4Q6, B002IAJ2YU]\n",
       "99999                                                                                                                                                                                                         []\n",
       "Name: also_view, Length: 100000, dtype: object"
      ]
     },
     "execution_count": 38,
     "metadata": {},
     "output_type": "execute_result"
    }
   ],
   "source": [
    "df['also_view']"
   ]
  },
  {
   "cell_type": "code",
   "execution_count": 39,
   "id": "b6ff1af6",
   "metadata": {},
   "outputs": [
    {
     "data": {
      "text/plain": [
       "65778"
      ]
     },
     "execution_count": 39,
     "metadata": {},
     "output_type": "execute_result"
    }
   ],
   "source": [
    "len(df[df['also_view'].apply(lambda x: x==[])])\n",
    "# 65000개의 null 값 존재"
   ]
  },
  {
   "cell_type": "code",
   "execution_count": 40,
   "id": "323fb671",
   "metadata": {},
   "outputs": [],
   "source": [
    "# 추후 null 값 확인 용이성을 위해,\n",
    "# [] 값을 모두 null 값으로 바꾸겠음\n",
    "df['also_view'] = df['also_view'].apply(lambda x: None if x==[] else x)"
   ]
  },
  {
   "cell_type": "code",
   "execution_count": 41,
   "id": "ed1ece15",
   "metadata": {},
   "outputs": [
    {
     "data": {
      "text/plain": [
       "65778"
      ]
     },
     "execution_count": 41,
     "metadata": {},
     "output_type": "execute_result"
    }
   ],
   "source": [
    "df['also_view'].isnull().sum()"
   ]
  },
  {
   "cell_type": "markdown",
   "id": "0f64dd06",
   "metadata": {},
   "source": [
    "## main_cat"
   ]
  },
  {
   "cell_type": "code",
   "execution_count": 42,
   "id": "398d5dd8",
   "metadata": {
    "scrolled": true
   },
   "outputs": [
    {
     "data": {
      "text/plain": [
       "34"
      ]
     },
     "execution_count": 42,
     "metadata": {},
     "output_type": "execute_result"
    }
   ],
   "source": [
    "df['main_cat'].nunique()"
   ]
  },
  {
   "cell_type": "code",
   "execution_count": 43,
   "id": "f7a1c0f1",
   "metadata": {
    "scrolled": true
   },
   "outputs": [
    {
     "data": {
      "text/plain": [
       "main_cat\n",
       "Sports & Outdoors                                                                                                                                                            83494\n",
       "<img src=\"https://images-na.ssl-images-amazon.com/images/G/01/nav2/images/gui/amazon-fashion-store-new._CB520838675_.png\" class=\"nav-categ-image\" alt=\"AMAZON FASHION\"/>      7076\n",
       "Automotive                                                                                                                                                                    1756\n",
       "Amazon Home                                                                                                                                                                   1747\n",
       "Toys & Games                                                                                                                                                                  1541\n",
       "Tools & Home Improvement                                                                                                                                                      1139\n",
       "Health & Personal Care                                                                                                                                                         754\n",
       "Pet Supplies                                                                                                                                                                   679\n",
       "Camera & Photo                                                                                                                                                                 277\n",
       "Industrial & Scientific                                                                                                                                                        234\n",
       "<img src=\"https://images-na.ssl-images-amazon.com/images/G/01/digital/music/logos/amzn_music_logo_subnav._CB471835632_.png\" class=\"nav-categ-image\" alt=\"Digital Music\"/>      189\n",
       "Cell Phones & Accessories                                                                                                                                                      160\n",
       "All Electronics                                                                                                                                                                151\n",
       "                                                                                                                                                                               134\n",
       "All Beauty                                                                                                                                                                      91\n",
       "Office Products                                                                                                                                                                 78\n",
       "Musical Instruments                                                                                                                                                             65\n",
       "Baby                                                                                                                                                                            64\n",
       "Grocery                                                                                                                                                                         62\n",
       "<img src=\"https://m.media-amazon.com/images/G/01/nav2/images/gui/amazon-fashion-store-new._CB520838675_.png\" class=\"nav-categ-image\" alt=\"AMAZON FASHION\"/>                     58\n",
       "Home Audio & Theater                                                                                                                                                            39\n",
       "Books                                                                                                                                                                           37\n",
       "Arts, Crafts & Sewing                                                                                                                                                           36\n",
       "Sports Collectibles                                                                                                                                                             33\n",
       "Computers                                                                                                                                                                       28\n",
       "Video Games                                                                                                                                                                     18\n",
       "Movies & TV                                                                                                                                                                     16\n",
       "Collectibles & Fine Art                                                                                                                                                         14\n",
       "Software                                                                                                                                                                        13\n",
       "GPS & Navigation                                                                                                                                                                 8\n",
       "Portable Audio & Accessories                                                                                                                                                     4\n",
       "Collectible Coins                                                                                                                                                                2\n",
       "Car Electronics                                                                                                                                                                  2\n",
       "<img src=\"https://m.media-amazon.com/images/G/01/digital/music/logos/amzn_music_logo_subnav._CB471835632_.png\" class=\"nav-categ-image\" alt=\"Digital Music\"/>                     1\n",
       "Name: count, dtype: int64"
      ]
     },
     "execution_count": 43,
     "metadata": {},
     "output_type": "execute_result"
    }
   ],
   "source": [
    "df['main_cat'].value_counts(dropna=False)\n",
    "\n",
    "# 이상한 url 존재하는 것 확인"
   ]
  },
  {
   "cell_type": "code",
   "execution_count": 44,
   "id": "e5d4bc9f",
   "metadata": {},
   "outputs": [],
   "source": [
    "# 이상한 url 값 null 값으로 만들자!\n",
    "df['main_cat'] = df['main_cat'].apply(lambda x: None if x.startswith('<') else x)"
   ]
  },
  {
   "cell_type": "code",
   "execution_count": 45,
   "id": "1ed23af5",
   "metadata": {},
   "outputs": [],
   "source": [
    "df['main_cat'] = df['main_cat'].apply(lambda x: None if x=='' else x)"
   ]
  },
  {
   "cell_type": "code",
   "execution_count": 46,
   "id": "720bc8c7",
   "metadata": {},
   "outputs": [
    {
     "data": {
      "text/plain": [
       "main_cat\n",
       "Sports & Outdoors               83494\n",
       "None                             7458\n",
       "Automotive                       1756\n",
       "Amazon Home                      1747\n",
       "Toys & Games                     1541\n",
       "Tools & Home Improvement         1139\n",
       "Health & Personal Care            754\n",
       "Pet Supplies                      679\n",
       "Camera & Photo                    277\n",
       "Industrial & Scientific           234\n",
       "Cell Phones & Accessories         160\n",
       "All Electronics                   151\n",
       "All Beauty                         91\n",
       "Office Products                    78\n",
       "Musical Instruments                65\n",
       "Baby                               64\n",
       "Grocery                            62\n",
       "Home Audio & Theater               39\n",
       "Books                              37\n",
       "Arts, Crafts & Sewing              36\n",
       "Sports Collectibles                33\n",
       "Computers                          28\n",
       "Video Games                        18\n",
       "Movies & TV                        16\n",
       "Collectibles & Fine Art            14\n",
       "Software                           13\n",
       "GPS & Navigation                    8\n",
       "Portable Audio & Accessories        4\n",
       "Collectible Coins                   2\n",
       "Car Electronics                     2\n",
       "Name: count, dtype: int64"
      ]
     },
     "execution_count": 46,
     "metadata": {},
     "output_type": "execute_result"
    }
   ],
   "source": [
    "df['main_cat'].value_counts(dropna=False)"
   ]
  },
  {
   "cell_type": "code",
   "execution_count": 47,
   "id": "4b6be5cd",
   "metadata": {},
   "outputs": [
    {
     "data": {
      "text/plain": [
       "7458"
      ]
     },
     "execution_count": 47,
     "metadata": {},
     "output_type": "execute_result"
    }
   ],
   "source": [
    "df['main_cat'].isnull().sum()"
   ]
  },
  {
   "cell_type": "markdown",
   "id": "de7ce169",
   "metadata": {},
   "source": [
    "## similar_item"
   ]
  },
  {
   "cell_type": "code",
   "execution_count": 48,
   "id": "578f3faf",
   "metadata": {},
   "outputs": [
    {
     "data": {
      "text/plain": [
       "0         \n",
       "1         \n",
       "2         \n",
       "3         \n",
       "4         \n",
       "        ..\n",
       "99995     \n",
       "99996     \n",
       "99997     \n",
       "99998     \n",
       "99999     \n",
       "Name: similar_item, Length: 100000, dtype: object"
      ]
     },
     "execution_count": 48,
     "metadata": {},
     "output_type": "execute_result"
    }
   ],
   "source": [
    "df['similar_item']"
   ]
  },
  {
   "cell_type": "code",
   "execution_count": 49,
   "id": "61958cf4",
   "metadata": {},
   "outputs": [
    {
     "data": {
      "text/plain": [
       "97009"
      ]
     },
     "execution_count": 49,
     "metadata": {},
     "output_type": "execute_result"
    }
   ],
   "source": [
    "len(df[df['similar_item'].apply(lambda x:x=='')])\n",
    "# '' 로 채워진 빈 값이 97009개 존재"
   ]
  },
  {
   "cell_type": "code",
   "execution_count": 50,
   "id": "1876bda4",
   "metadata": {},
   "outputs": [],
   "source": [
    "# 추후 null 값 확인 용이성 위해, ''를 모두 null 값으로 바꾸겟음\n",
    "df['similar_item'] = df['similar_item'].apply(lambda x: None if x==''else x)"
   ]
  },
  {
   "cell_type": "code",
   "execution_count": 51,
   "id": "b008b132",
   "metadata": {},
   "outputs": [
    {
     "data": {
      "text/plain": [
       "97009"
      ]
     },
     "execution_count": 51,
     "metadata": {},
     "output_type": "execute_result"
    }
   ],
   "source": [
    "df['similar_item'].isnull().sum()"
   ]
  },
  {
   "cell_type": "markdown",
   "id": "85c0cae6",
   "metadata": {},
   "source": [
    "# date"
   ]
  },
  {
   "cell_type": "code",
   "execution_count": 52,
   "id": "2a6b2844",
   "metadata": {},
   "outputs": [],
   "source": [
    "from datetime import datetime\n"
   ]
  },
  {
   "cell_type": "code",
   "execution_count": 53,
   "id": "a1181968",
   "metadata": {
    "scrolled": true
   },
   "outputs": [
    {
     "data": {
      "text/plain": [
       "99950                    \n",
       "99951                    \n",
       "99952                    \n",
       "99953                    \n",
       "99954                    \n",
       "99955                    \n",
       "99956                    \n",
       "99957                    \n",
       "99958                    \n",
       "99959                    \n",
       "99960                    \n",
       "99961                    \n",
       "99962                    \n",
       "99963                    \n",
       "99964                    \n",
       "99965                    \n",
       "99966                    \n",
       "99967                    \n",
       "99968                    \n",
       "99969                    \n",
       "99970                    \n",
       "99971                    \n",
       "99972                    \n",
       "99973                    \n",
       "99974                    \n",
       "99975                    \n",
       "99976                    \n",
       "99977                    \n",
       "99978                    \n",
       "99979                    \n",
       "99980                    \n",
       "99981                    \n",
       "99982                    \n",
       "99983                    \n",
       "99984                    \n",
       "99985                    \n",
       "99986                    \n",
       "99987                    \n",
       "99988      August 6, 2003\n",
       "99989                    \n",
       "99990                    \n",
       "99991                    \n",
       "99992                    \n",
       "99993                    \n",
       "99994    October 15, 2009\n",
       "99995                    \n",
       "99996                    \n",
       "99997                    \n",
       "99998                    \n",
       "99999                    \n",
       "Name: date, dtype: object"
      ]
     },
     "execution_count": 53,
     "metadata": {},
     "output_type": "execute_result"
    }
   ],
   "source": [
    "df['date'].tail(50)"
   ]
  },
  {
   "cell_type": "code",
   "execution_count": 54,
   "id": "0145c7ca",
   "metadata": {
    "scrolled": true
   },
   "outputs": [
    {
     "data": {
      "text/plain": [
       "date\n",
       "                                                                                                                                                                                                                                                                                                                                                                                                                                                                                                                                                                                                                                                                                                                                                                                                                                                                                                                                                                                                                                                                       87827\n",
       "<div class=\"a-fixed-left-grid a-spacing-none\"><div class=\"a-fixed-left-grid-inner\" style=\"padding-left:280px\"><div class=\"a-fixed-left-grid-col a-col-left\" style=\"width:280px;margin-left:-280px;float:left;\"><span class=\"a-declarative\" data-action=\"reviews:filter-action:push-state\" data-reviews:filter-action:push-state=\"{&quot;scrollToSelector&quot;:&quot;#reviews-filter-info&quot;,&quot;allowLinkDefault&quot;:&quot;1&quot;}\"><table id=\"histogramTable\" class=\"a-normal a-align-middle a-spacing-base\" role=\"presentation\"><tr class=\"a-histogram-row\"><td class=\"aok-nowrap\"><span aria-hidden=\"true\" class=\"a-size-base\">5 star</span><span class=\"a-offscreen\">5 star (0%)</span><span class=\"a-letter-space\"></span>                                                                                                                                                                                                                                                                                                                                1201\n",
       "Invicta                                                                                                                                                                                                                                                                                                                                                                                                                                                                                                                                                                                                                                                                                                                                                                                                                                                                                                                                                                                                                                                                  304\n",
       "Timex                                                                                                                                                                                                                                                                                                                                                                                                                                                                                                                                                                                                                                                                                                                                                                                                                                                                                                                                                                                                                                                                    272\n",
       "Casio                                                                                                                                                                                                                                                                                                                                                                                                                                                                                                                                                                                                                                                                                                                                                                                                                                                                                                                                                                                                                                                                    237\n",
       "                                                                                                                                                                                                                                                                                                                                                                                                                                                                                                                                                                                                                                                                                                                                                                                                                                                                                                                                                                                                                                                                       ...  \n",
       "January 4, 2012                                                                                                                                                                                                                                                                                                                                                                                                                                                                                                                                                                                                                                                                                                                                                                                                                                                                                                                                                                                                                                                            1\n",
       "<div class=\"a-fixed-left-grid a-spacing-none\"><div class=\"a-fixed-left-grid-inner\" style=\"padding-left:280px\"><div class=\"a-fixed-left-grid-col a-col-left\" style=\"width:280px;margin-left:-280px;float:left;\"><span class=\"a-declarative\" data-action=\"reviews:filter-action:push-state\" data-reviews:filter-action:push-state=\"{&quot;scrollToSelector&quot;:&quot;#reviews-filter-info&quot;,&quot;allowLinkDefault&quot;:&quot;1&quot;}\"><table id=\"histogramTable\" class=\"a-normal a-align-middle a-spacing-base\" role=\"presentation\"><tr data-reftag=\"cm_cr_dp_d_hist_5\" data-reviews-state-param=\"{&quot;filterByStar&quot;:&quot;five_star&quot;,&quot;pageNumber&quot;:&quot;1&quot;}\" class=\"a-histogram-row\"><td class=\"aok-nowrap\"><a aria-label=\"5 star (72%)\" class=\"a-size-base a-link-normal 5star\" title=\"5 star\" href=\"/SmartWool-Liner-Gloves-Adult-Large/product-reviews/B000O5TS04/ref=cm_cr_dp_d_hist_5?ie=UTF8&amp;filterByStar=five_star&amp;reviewerType=all_reviews#reviews-filter-bar\">5 star</a><span class=\"a-letter-space\"></span>           1\n",
       "May 11, 2010                                                                                                                                                                                                                                                                                                                                                                                                                                                                                                                                                                                                                                                                                                                                                                                                                                                                                                                                                                                                                                                               1\n",
       "<div class=\"a-fixed-left-grid a-spacing-none\"><div class=\"a-fixed-left-grid-inner\" style=\"padding-left:280px\"><div class=\"a-fixed-left-grid-col a-col-left\" style=\"width:280px;margin-left:-280px;float:left;\"><span class=\"a-declarative\" data-action=\"reviews:filter-action:push-state\" data-reviews:filter-action:push-state=\"{&quot;scrollToSelector&quot;:&quot;#reviews-filter-info&quot;,&quot;allowLinkDefault&quot;:&quot;1&quot;}\"><table id=\"histogramTable\" class=\"a-normal a-align-middle a-spacing-base\" role=\"presentation\"><tr data-reftag=\"cm_cr_dp_d_hist_5\" data-reviews-state-param=\"{&quot;filterByStar&quot;:&quot;five_star&quot;,&quot;pageNumber&quot;:&quot;1&quot;}\" class=\"a-histogram-row\"><td class=\"aok-nowrap\"><a aria-label=\"5 star (100%)\" class=\"a-size-base a-link-normal 5star\" title=\"5 star\" href=\"/Reebok-Summer-Time-Flip-Flops-Orange/product-reviews/B000O7SUBA/ref=cm_cr_dp_d_hist_5?ie=UTF8&amp;filterByStar=five_star&amp;reviewerType=all_reviews#reviews-filter-bar\">5 star</a><span class=\"a-letter-space\"></span>        1\n",
       "October 15, 2009                                                                                                                                                                                                                                                                                                                                                                                                                                                                                                                                                                                                                                                                                                                                                                                                                                                                                                                                                                                                                                                           1\n",
       "Name: count, Length: 5126, dtype: int64"
      ]
     },
     "execution_count": 54,
     "metadata": {},
     "output_type": "execute_result"
    }
   ],
   "source": [
    "df['date'].value_counts()\n",
    "\n",
    "# html , 시계 브랜드, null 값 등 처리 방법 곤란..\n",
    "# '' 값, 즉 빈값이 87,000개\n",
    "# 이상한값도 존재\n",
    "# 시계 브랜드로 보이는 값도 존재"
   ]
  },
  {
   "cell_type": "code",
   "execution_count": 60,
   "id": "23dec56e",
   "metadata": {},
   "outputs": [
    {
     "data": {
      "text/plain": [
       "4227"
      ]
     },
     "execution_count": 60,
     "metadata": {},
     "output_type": "execute_result"
    }
   ],
   "source": [
    "# 날짜 형식의 데이터 갯수 파악\n",
    "count = df['date'].str.contains(r'[A-Za-z]+\\s\\d+,\\s\\d+').sum()\n",
    "count"
   ]
  },
  {
   "cell_type": "code",
   "execution_count": 61,
   "id": "95faf71e",
   "metadata": {},
   "outputs": [],
   "source": [
    "# 날짜 전처리\n",
    "pattern = r'[A-Za-z]+\\s\\d+,\\s\\d+'\n",
    "df['date'] = df['date'].apply(lambda x: re.search(pattern, x).group() if re.search(pattern, x) else None)\n",
    "df['date'] = pd.to_datetime(df['date'], format='%B %d, %Y')"
   ]
  },
  {
   "cell_type": "code",
   "execution_count": 62,
   "id": "797c7e99",
   "metadata": {
    "scrolled": false
   },
   "outputs": [
    {
     "data": {
      "text/plain": [
       "date\n",
       "NaT           95773\n",
       "2005-06-08      136\n",
       "2007-01-30      117\n",
       "2003-09-15      105\n",
       "2007-02-06       98\n",
       "              ...  \n",
       "2005-05-23        1\n",
       "2007-09-22        1\n",
       "2005-11-04        1\n",
       "2010-08-03        1\n",
       "2009-10-15        1\n",
       "Name: count, Length: 1201, dtype: int64"
      ]
     },
     "execution_count": 62,
     "metadata": {},
     "output_type": "execute_result"
    }
   ],
   "source": [
    "df['date'].value_counts(dropna=False)"
   ]
  },
  {
   "cell_type": "code",
   "execution_count": 70,
   "id": "2c746075",
   "metadata": {},
   "outputs": [],
   "source": [
    "# 연도 & 월 칼럼 생성\n",
    "df['year'] = pd.to_datetime(df['date']).dt.year\n",
    "df['month'] = pd.to_datetime(df['date']).dt.month"
   ]
  },
  {
   "cell_type": "code",
   "execution_count": 72,
   "id": "3e8aa787",
   "metadata": {},
   "outputs": [
    {
     "data": {
      "text/html": [
       "<div>\n",
       "<style scoped>\n",
       "    .dataframe tbody tr th:only-of-type {\n",
       "        vertical-align: middle;\n",
       "    }\n",
       "\n",
       "    .dataframe tbody tr th {\n",
       "        vertical-align: top;\n",
       "    }\n",
       "\n",
       "    .dataframe thead th {\n",
       "        text-align: right;\n",
       "    }\n",
       "</style>\n",
       "<table border=\"1\" class=\"dataframe\">\n",
       "  <thead>\n",
       "    <tr style=\"text-align: right;\">\n",
       "      <th></th>\n",
       "      <th>description</th>\n",
       "      <th>title</th>\n",
       "      <th>also_buy</th>\n",
       "      <th>brand</th>\n",
       "      <th>feature</th>\n",
       "      <th>rank</th>\n",
       "      <th>also_view</th>\n",
       "      <th>main_cat</th>\n",
       "      <th>similar_item</th>\n",
       "      <th>date</th>\n",
       "      <th>price</th>\n",
       "      <th>asin</th>\n",
       "      <th>imageURL</th>\n",
       "      <th>imageURLHighRes</th>\n",
       "      <th>details</th>\n",
       "      <th>category_big</th>\n",
       "      <th>category_mid</th>\n",
       "      <th>category_small</th>\n",
       "      <th>new_rank</th>\n",
       "      <th>year</th>\n",
       "      <th>month</th>\n",
       "    </tr>\n",
       "  </thead>\n",
       "  <tbody>\n",
       "    <tr>\n",
       "      <th>26</th>\n",
       "      <td>[Rely on delorme ATLAS &amp; gazetteer paper maps for the utmost in trip Planning and backcountry access. It's available in paperback (11-inches x 15.5-Inches) for all 50 States.]</td>\n",
       "      <td>Garmin DeLorme Atlas &amp;amp; Gazetteer Paper Maps- Arizona, AA-000005-000</td>\n",
       "      <td>[0899334482, 0899334474, 0899333834, 1946494100, 0899332889, 1934838195, 1946494011, 0929591186, 0899333346, 1946494062, 1932082468, 0899332552, 0899334369, 194649402X, 1597750867, 0899333176, 194...</td>\n",
       "      <td>Garmin</td>\n",
       "      <td>[Amazingly detailed and beautifully crafted, large-format paper maps for all 50 States, Topographic maps with elevation contours, Major highways and roads, dirt roads, trails and land use data, Ga...</td>\n",
       "      <td>[&gt;#84,484 in Office Products (See top 100), &gt;#8 in Sports &amp; Outdoors &gt; Outdoor Recreation &gt; Camping &amp; Hiking &gt; Navigation &amp; Electronics &gt; Topographic Maps]</td>\n",
       "      <td>None</td>\n",
       "      <td>Office Products</td>\n",
       "      <td>None</td>\n",
       "      <td>2003-08-04</td>\n",
       "      <td>21.96</td>\n",
       "      <td>0899333257</td>\n",
       "      <td>[https://images-na.ssl-images-amazon.com/images/I/51abpgbthqL._SS40_.jpg, https://images-na.ssl-images-amazon.com/images/I/418Wc2O8drL._SS40_.jpg]</td>\n",
       "      <td>[https://images-na.ssl-images-amazon.com/images/I/51abpgbthqL.jpg, https://images-na.ssl-images-amazon.com/images/I/418Wc2O8drL.jpg]</td>\n",
       "      <td>NaN</td>\n",
       "      <td>Sports &amp; Outdoors</td>\n",
       "      <td>Outdoor Recreation</td>\n",
       "      <td>Camping &amp; Hiking</td>\n",
       "      <td>NaN</td>\n",
       "      <td>2003.0</td>\n",
       "      <td>8.0</td>\n",
       "    </tr>\n",
       "    <tr>\n",
       "      <th>109</th>\n",
       "      <td>[PVC Waterproof Bag With Compass ,Armband ,Neck Strap for 4 inch 5 inch cellphone underwater dry bag]</td>\n",
       "      <td>OBiDi - PVC Waterproof Bag With Compass ,Armband ,Neck Strap for 4 inch 5 inch cellphone underwater dry bag</td>\n",
       "      <td>None</td>\n",
       "      <td>OBiDi</td>\n",
       "      <td>[Soft material, reliable and eco-friendly, Secures tightly and prevents water from seeping in, Waterproof to a depth of 20 meters, IPX 8 standard, Comes with armband &amp; neck strap for easy carrying...</td>\n",
       "      <td>[]</td>\n",
       "      <td>None</td>\n",
       "      <td>All Electronics</td>\n",
       "      <td>None</td>\n",
       "      <td>2015-04-02</td>\n",
       "      <td>10.99</td>\n",
       "      <td>589113229X</td>\n",
       "      <td>[https://images-na.ssl-images-amazon.com/images/I/414wXW9M59L._SS40_.jpg, https://images-na.ssl-images-amazon.com/images/I/41pHt8DURNL._SS40_.jpg, https://images-na.ssl-images-amazon.com/images/I/...</td>\n",
       "      <td>[https://images-na.ssl-images-amazon.com/images/I/414wXW9M59L.jpg, https://images-na.ssl-images-amazon.com/images/I/41pHt8DURNL.jpg, https://images-na.ssl-images-amazon.com/images/I/51nfacVUv%2BL....</td>\n",
       "      <td>NaN</td>\n",
       "      <td>Sports &amp; Outdoors</td>\n",
       "      <td>Sports &amp; Fitness</td>\n",
       "      <td>Boating &amp; Sailing</td>\n",
       "      <td>NaN</td>\n",
       "      <td>2015.0</td>\n",
       "      <td>4.0</td>\n",
       "    </tr>\n",
       "    <tr>\n",
       "      <th>113</th>\n",
       "      <td>[Practice Level Guide: &lt;br&gt; Levels Sizes of Rope &lt;br&gt; Junior &lt;br&gt; 30ft x 1.5in Poly Dacron Battle Rope &lt;br&gt; Beginner &lt;br&gt; 40ft x 1.5in Poly Dacron Battle Rope &lt;br&gt; Intermediate &lt;br&gt; 50ft x 1.5in P...</td>\n",
       "      <td>ZENY 1.5&amp;quot;x30ft Battle Rope Workout Training Undulation Rope Fitness Rope Exercise</td>\n",
       "      <td>[B01LXL27XI, B00V7P459E]</td>\n",
       "      <td>ZENY</td>\n",
       "      <td>[Color Optional: Black Size Optional (1.5\" Diam.): 30Ft, Material: 100% Poly Dacron, Wear Resistant and Durable, 3-Strand Twisted PolyDac Strong Construction, Orange / Yellow Tracking Line, Conven...</td>\n",
       "      <td>[&gt;#460,033 in Health &amp; Household (See top 100), &gt;#98,503 in Sports &amp; Outdoors &gt; Sports &amp; Fitness &gt; Exercise &amp; Fitness]</td>\n",
       "      <td>[B07BVTCFTY, B07BVZGN59, B07DFJRX3Z, B073CRCDFS, B07KYXNS4D, B079GVXYJ7, B01G22Q9E0, B00S0QDD8C, B00N9SQQL2]</td>\n",
       "      <td>Health &amp; Personal Care</td>\n",
       "      <td>None</td>\n",
       "      <td>2012-07-23</td>\n",
       "      <td>34.89</td>\n",
       "      <td>6025006571</td>\n",
       "      <td>[]</td>\n",
       "      <td>[]</td>\n",
       "      <td>NaN</td>\n",
       "      <td>Sports &amp; Outdoors</td>\n",
       "      <td>Sports &amp; Fitness</td>\n",
       "      <td>Exercise &amp; Fitness</td>\n",
       "      <td>NaN</td>\n",
       "      <td>2012.0</td>\n",
       "      <td>7.0</td>\n",
       "    </tr>\n",
       "    <tr>\n",
       "      <th>158</th>\n",
       "      <td>[TUPPERWARE AQUASAFE 750 ML water bottle with flip top,convenient to drink water while on the move for kids as well as elders]</td>\n",
       "      <td>Tupperware Aquaslim Flip Top Water Bottle 750ml - 4pcs set (multicolor)</td>\n",
       "      <td>None</td>\n",
       "      <td>Tupperware</td>\n",
       "      <td>[Tupperware Flip Top Water Bottle, Water Bottle, Bottle, Flip Top Water Bottle, Drink Water Bottle]</td>\n",
       "      <td>[&gt;#391,748 in Kitchen &amp; Dining (See Top 100 in Kitchen &amp; Dining), &gt;#8,980 in Home &amp; Kitchen &gt; Kitchen &amp; Dining &gt; Travel &amp; To-Go Drinkware &gt; Water Bottles, &gt;#57,985 in Sports &amp; Outdoors &gt; Sports &amp; ...</td>\n",
       "      <td>[B00G9ZXS7C, B019XLSSIC, B00MJNTD3G, B0122T548Y, B00MA2S1Y8, B0713M5ZQR, B00O2Y7YJ0, B0748NJT4F, B00MA2S23I, B013BJKQBO, B00MA7A0DS, B00GQUTL9O, B019XLSQ5M, B01MQW8LM5, B00MA7A0AG, B00GQUTMFC, B07...</td>\n",
       "      <td>Amazon Home</td>\n",
       "      <td>None</td>\n",
       "      <td>2015-05-10</td>\n",
       "      <td>28.99</td>\n",
       "      <td>7348999816</td>\n",
       "      <td>[https://images-na.ssl-images-amazon.com/images/I/31RMqf7IpqL._SS40_.jpg]</td>\n",
       "      <td>[https://images-na.ssl-images-amazon.com/images/I/31RMqf7IpqL.jpg]</td>\n",
       "      <td>{}</td>\n",
       "      <td>Sports &amp; Outdoors</td>\n",
       "      <td>Sports &amp; Fitness</td>\n",
       "      <td>Accessories</td>\n",
       "      <td>NaN</td>\n",
       "      <td>2015.0</td>\n",
       "      <td>5.0</td>\n",
       "    </tr>\n",
       "    <tr>\n",
       "      <th>218</th>\n",
       "      <td>[Protect and personalize your phone with this Case. This accessory provides protection by preventing scratches and its perfect fit makes the phone look as slim as if it acted as an invisible shiel...</td>\n",
       "      <td>Green Snap on Hard Skin Cover Case for Samsung Instinct S30 +Clip</td>\n",
       "      <td>None</td>\n",
       "      <td>Green</td>\n",
       "      <td>None</td>\n",
       "      <td>[&gt;#1,753,153 in Electronics (See Top 100 in Electronics), &gt;#266,413 in Sports &amp; Outdoors &gt; Fan Shop &gt; Cell Phone Accessories]</td>\n",
       "      <td>None</td>\n",
       "      <td>All Electronics</td>\n",
       "      <td>None</td>\n",
       "      <td>2009-05-20</td>\n",
       "      <td>.a-box-inner{background-color:#fff}#alohaBuyBoxWidget .selected{background-color:#fffbf3;border-color:#e77600;box-shadow:0 0 3px rgba(228,121,17,.5)}#alohaBuyBoxWidget .contract-not-available{colo...</td>\n",
       "      <td>9861152261</td>\n",
       "      <td>[]</td>\n",
       "      <td>[]</td>\n",
       "      <td>{}</td>\n",
       "      <td>Sports &amp; Outdoors</td>\n",
       "      <td>Fan Shop</td>\n",
       "      <td>Cell Phone Accessories</td>\n",
       "      <td>NaN</td>\n",
       "      <td>2009.0</td>\n",
       "      <td>5.0</td>\n",
       "    </tr>\n",
       "    <tr>\n",
       "      <th>...</th>\n",
       "      <td>...</td>\n",
       "      <td>...</td>\n",
       "      <td>...</td>\n",
       "      <td>...</td>\n",
       "      <td>...</td>\n",
       "      <td>...</td>\n",
       "      <td>...</td>\n",
       "      <td>...</td>\n",
       "      <td>...</td>\n",
       "      <td>...</td>\n",
       "      <td>...</td>\n",
       "      <td>...</td>\n",
       "      <td>...</td>\n",
       "      <td>...</td>\n",
       "      <td>...</td>\n",
       "      <td>...</td>\n",
       "      <td>...</td>\n",
       "      <td>...</td>\n",
       "      <td>...</td>\n",
       "      <td>...</td>\n",
       "      <td>...</td>\n",
       "    </tr>\n",
       "    <tr>\n",
       "      <th>99918</th>\n",
       "      <td>[Primocon Aerosol Primer is an anticorrosive primer formulated for underwater metal areas including aluminum lower units and I/O's, stainless steel and bronze props and shafts prior to the applica...</td>\n",
       "      <td>Interlux YPA985N/16 Primocon Aerosol Primer - 16 oz.</td>\n",
       "      <td>None</td>\n",
       "      <td>Interlux</td>\n",
       "      <td>[A non-bleeding, anti-corrosive primer, Provides a barrier on underwater metal surfaces, reducing galvanic corrosion, For use on aluminum outdrives and outboards, stainless steel, bronze props and...</td>\n",
       "      <td>[&gt;#255,769 in Automotive (See top 100), &gt;#80 in Sports &amp; Outdoors &gt; Sports &amp; Fitness &gt; Boating &amp; Sailing &gt; Boating &gt; Maintenance Supplies &gt; Painting Supplies, &gt;#1,129 in Automotive &gt; Motorcycle &amp; ...</td>\n",
       "      <td>[B003E21MRG, B07H42MZ1B, B00C9OSME6, B00PE3WXNK, B00OJMXTHG, B00LLIKSOS, B000XBBK2S, B003E1Y31O, B0053HR0T4, B00C9OTRE0, B001IWP5DQ, B006ZKMKSO, B0017KMI48, B000N9RRRW, B001TIYL7K, B000N9NF96]</td>\n",
       "      <td>Automotive</td>\n",
       "      <td>None</td>\n",
       "      <td>2010-02-28</td>\n",
       "      <td>33.01</td>\n",
       "      <td>B001HX8YDO</td>\n",
       "      <td>[https://images-na.ssl-images-amazon.com/images/I/41ztNvrXFAL._SS40_.jpg, https://images-na.ssl-images-amazon.com/images/I/41m2LmP0NaL._SS40_.jpg, https://images-na.ssl-images-amazon.com/images/I/...</td>\n",
       "      <td>[https://images-na.ssl-images-amazon.com/images/I/41ztNvrXFAL.jpg, https://images-na.ssl-images-amazon.com/images/I/41m2LmP0NaL.jpg, https://images-na.ssl-images-amazon.com/images/I/31KVOA6R%2B-L....</td>\n",
       "      <td>{}</td>\n",
       "      <td>Sports &amp; Outdoors</td>\n",
       "      <td>Sports &amp; Fitness</td>\n",
       "      <td>Boating &amp; Sailing</td>\n",
       "      <td>NaN</td>\n",
       "      <td>2010.0</td>\n",
       "      <td>2.0</td>\n",
       "    </tr>\n",
       "    <tr>\n",
       "      <th>99922</th>\n",
       "      <td>[MicronCSC uses Micron Technology to provide excellent, long lasting antifouling protection against all types of fouling. MicronCSC wears away (polishes) at a controlled rate, resulting in a reduc...</td>\n",
       "      <td>Interlux Y5583/1 Micron CSC Antifouling Paint (Black), 128. Fluid_Ounces</td>\n",
       "      <td>[B0000C6HOI, B001444VMO, B000XBBD8E, B0007TR47G, B003E21MRG, B0000AXVCB, B000O89BCQ, B000XBH0AE, B0000AXNNA, B000O8DA3M, B0000AY1W7, B00029CYRG, B004XADA9Q, B00KMYYQ36, B00C9OTRE0, B001HX8YDO, B00...</td>\n",
       "      <td>Interlux</td>\n",
       "      <td>[Controlled polishing, Multi-seasonal performance, Proven performance for 20 years, Uses less copper more efficiently, Paint Color: Black]</td>\n",
       "      <td>[&gt;#621,754 in Automotive (See top 100), &gt;#167 in Sports &amp; Outdoors &gt; Sports &amp; Fitness &gt; Boating &amp; Sailing &gt; Boating &gt; Maintenance Supplies &gt; Painting Supplies, &gt;#20,830 in Sports &amp; Outdoors &gt; Spor...</td>\n",
       "      <td>[B000XBBGKY, B0053HQPZY, B000XBH0AE, B07CNV2YHH, B0182PI1VY, B00LLIKSOS, B000C0140S, B001HX6JQ8, B007ILA25C, B01AS18SMC, B00J2YWBW0, B0046J47ZU, B01N5JMIBY, B001H55NMM, B001TIYL7K, B000XBBGP4, B00...</td>\n",
       "      <td>Automotive</td>\n",
       "      <td>None</td>\n",
       "      <td>2007-02-06</td>\n",
       "      <td>249.18</td>\n",
       "      <td>B001HXBVRK</td>\n",
       "      <td>[https://images-na.ssl-images-amazon.com/images/I/51ceHh50qEL._SS36_.jpg, https://images-na.ssl-images-amazon.com/images/I/512IWXdTVAL._SS36_.jpg, https://images-na.ssl-images-amazon.com/images/I/...</td>\n",
       "      <td>[https://images-na.ssl-images-amazon.com/images/I/51ceHh50qEL.jpg, https://images-na.ssl-images-amazon.com/images/I/512IWXdTVAL.jpg, https://images-na.ssl-images-amazon.com/images/I/512IWXdTVAL.jp...</td>\n",
       "      <td>{}</td>\n",
       "      <td>Sports &amp; Outdoors</td>\n",
       "      <td>Sports &amp; Fitness</td>\n",
       "      <td>Boating &amp; Sailing</td>\n",
       "      <td>NaN</td>\n",
       "      <td>2007.0</td>\n",
       "      <td>2.0</td>\n",
       "    </tr>\n",
       "    <tr>\n",
       "      <th>99934</th>\n",
       "      <td>[Armada's Carnauba Wash &amp; Wax cleans, shines and protects in one easy step. This non-toxic and biodegradable wash and wax is a premium grade cleaner for fiberglass, metal and painted surfaces and ...</td>\n",
       "      <td>Camco 40922 Armada Carnauba Wash &amp;amp; Wax - 32 oz</td>\n",
       "      <td>None</td>\n",
       "      <td>Camco</td>\n",
       "      <td>[Cleans, shines and protects in one easy step, Non-toxic and biodegradable is a premium grade cleaner for fiberglass, metal and painted soap, Only boat soap available with real carnauba wax, Reple...</td>\n",
       "      <td>[&gt;#271,850 in Automotive (See top 100), &gt;#212 in Sports &amp; Outdoors &gt; Sports &amp; Fitness &gt; Boating &amp; Sailing &gt; Boating &gt; Maintenance Supplies &gt; Cleaners, &gt;#509 in Automotive &gt; Car Care &gt; Exterior Car...</td>\n",
       "      <td>None</td>\n",
       "      <td>Automotive</td>\n",
       "      <td>None</td>\n",
       "      <td>2007-02-06</td>\n",
       "      <td>18.84</td>\n",
       "      <td>B001HXXWGS</td>\n",
       "      <td>[]</td>\n",
       "      <td>[]</td>\n",
       "      <td>{}</td>\n",
       "      <td>Sports &amp; Outdoors</td>\n",
       "      <td>Sports &amp; Fitness</td>\n",
       "      <td>Boating &amp; Sailing</td>\n",
       "      <td>NaN</td>\n",
       "      <td>2007.0</td>\n",
       "      <td>2.0</td>\n",
       "    </tr>\n",
       "    <tr>\n",
       "      <th>99988</th>\n",
       "      <td>[This versatile Dual-Lit lamp is the perfect addition to any fan's bedroom, game room or office! This multifunctional lamp can be lit three ways: top light only, top and base lights or base light ...</td>\n",
       "      <td>Minnesota Twins Dual-Lit Accent Lamp</td>\n",
       "      <td>None</td>\n",
       "      <td>Football Fanatics</td>\n",
       "      <td>None</td>\n",
       "      <td>[&gt;#3,727,681 in Tools &amp; Home Improvement (See top 100), &gt;#1,715 in Sports &amp; Outdoors &gt; Fan Shop &gt; Home &amp; Kitchen &gt; Furniture &gt; Lamps, &gt;#9,967 in Sports &amp; Outdoors &gt; Fan Shop &gt; Tools &amp; Home Improve...</td>\n",
       "      <td>None</td>\n",
       "      <td>Tools &amp; Home Improvement</td>\n",
       "      <td>None</td>\n",
       "      <td>2003-08-06</td>\n",
       "      <td>None</td>\n",
       "      <td>B001HYEYDM</td>\n",
       "      <td>[]</td>\n",
       "      <td>[]</td>\n",
       "      <td>{}</td>\n",
       "      <td>Sports &amp; Outdoors</td>\n",
       "      <td>Fan Shop</td>\n",
       "      <td>Home &amp; Kitchen</td>\n",
       "      <td>NaN</td>\n",
       "      <td>2003.0</td>\n",
       "      <td>8.0</td>\n",
       "    </tr>\n",
       "    <tr>\n",
       "      <th>99994</th>\n",
       "      <td>[18/8 Stainless Steel 3 Cup Coffee Percolator, Volume: 710mL, Weight: 13 ounces]</td>\n",
       "      <td>Chinook Timberline Stainless Steel 3 Cup Coffee Percolator</td>\n",
       "      <td>None</td>\n",
       "      <td>Chinook</td>\n",
       "      <td>[Stainless Steel Coffee percolator 3-cup (710mL), 18/8 polished Stainless Steel construction, Heat insulating permawood handle, Has precision-fitting, seamless parts, Dishwasher-safe]</td>\n",
       "      <td>[&gt;#149,338 in Kitchen &amp; Dining (See Top 100 in Kitchen &amp; Dining), &gt;#70 in Sports &amp; Outdoors &gt; Outdoor Recreation &gt; Camping &amp; Hiking &gt; Camp Kitchen &gt; Coffee &amp; Tea Pots]</td>\n",
       "      <td>[B00005NCWQ, B000QOM6P2, B078HC2D7M, B001J2HFX8, B000BI8EJK, B0018BLHES, B01HZYPQVG, B0018EA7AA, B000LNRP3G, B001LF3I2K, B01EOOHEAQ, B0009PUQSM, B000P9GZNM, B001DC5HG6, B000VP7HQ4, B07LG4TCN9, B00...</td>\n",
       "      <td>Amazon Home</td>\n",
       "      <td>None</td>\n",
       "      <td>2009-10-15</td>\n",
       "      <td>5.94</td>\n",
       "      <td>B001HYTPSQ</td>\n",
       "      <td>[https://images-na.ssl-images-amazon.com/images/I/41338t1vVSL._SS40_.jpg, https://images-na.ssl-images-amazon.com/images/I/51pcfT1OKeL._SS40_.jpg]</td>\n",
       "      <td>[https://images-na.ssl-images-amazon.com/images/I/41338t1vVSL.jpg, https://images-na.ssl-images-amazon.com/images/I/51pcfT1OKeL.jpg]</td>\n",
       "      <td>{}</td>\n",
       "      <td>Sports &amp; Outdoors</td>\n",
       "      <td>Outdoor Recreation</td>\n",
       "      <td>Camping &amp; Hiking</td>\n",
       "      <td>NaN</td>\n",
       "      <td>2009.0</td>\n",
       "      <td>10.0</td>\n",
       "    </tr>\n",
       "  </tbody>\n",
       "</table>\n",
       "<p>4227 rows × 21 columns</p>\n",
       "</div>"
      ],
      "text/plain": [
       "                                                                                                                                                                                                   description  \\\n",
       "26                             [Rely on delorme ATLAS & gazetteer paper maps for the utmost in trip Planning and backcountry access. It's available in paperback (11-inches x 15.5-Inches) for all 50 States.]   \n",
       "109                                                                                                      [PVC Waterproof Bag With Compass ,Armband ,Neck Strap for 4 inch 5 inch cellphone underwater dry bag]   \n",
       "113    [Practice Level Guide: <br> Levels Sizes of Rope <br> Junior <br> 30ft x 1.5in Poly Dacron Battle Rope <br> Beginner <br> 40ft x 1.5in Poly Dacron Battle Rope <br> Intermediate <br> 50ft x 1.5in P...   \n",
       "158                                                                             [TUPPERWARE AQUASAFE 750 ML water bottle with flip top,convenient to drink water while on the move for kids as well as elders]   \n",
       "218    [Protect and personalize your phone with this Case. This accessory provides protection by preventing scratches and its perfect fit makes the phone look as slim as if it acted as an invisible shiel...   \n",
       "...                                                                                                                                                                                                        ...   \n",
       "99918  [Primocon Aerosol Primer is an anticorrosive primer formulated for underwater metal areas including aluminum lower units and I/O's, stainless steel and bronze props and shafts prior to the applica...   \n",
       "99922  [MicronCSC uses Micron Technology to provide excellent, long lasting antifouling protection against all types of fouling. MicronCSC wears away (polishes) at a controlled rate, resulting in a reduc...   \n",
       "99934  [Armada's Carnauba Wash & Wax cleans, shines and protects in one easy step. This non-toxic and biodegradable wash and wax is a premium grade cleaner for fiberglass, metal and painted surfaces and ...   \n",
       "99988  [This versatile Dual-Lit lamp is the perfect addition to any fan's bedroom, game room or office! This multifunctional lamp can be lit three ways: top light only, top and base lights or base light ...   \n",
       "99994                                                                                                                         [18/8 Stainless Steel 3 Cup Coffee Percolator, Volume: 710mL, Weight: 13 ounces]   \n",
       "\n",
       "                                                                                                             title  \\\n",
       "26                                         Garmin DeLorme Atlas &amp; Gazetteer Paper Maps- Arizona, AA-000005-000   \n",
       "109    OBiDi - PVC Waterproof Bag With Compass ,Armband ,Neck Strap for 4 inch 5 inch cellphone underwater dry bag   \n",
       "113                         ZENY 1.5&quot;x30ft Battle Rope Workout Training Undulation Rope Fitness Rope Exercise   \n",
       "158                                        Tupperware Aquaslim Flip Top Water Bottle 750ml - 4pcs set (multicolor)   \n",
       "218                                              Green Snap on Hard Skin Cover Case for Samsung Instinct S30 +Clip   \n",
       "...                                                                                                            ...   \n",
       "99918                                                         Interlux YPA985N/16 Primocon Aerosol Primer - 16 oz.   \n",
       "99922                                     Interlux Y5583/1 Micron CSC Antifouling Paint (Black), 128. Fluid_Ounces   \n",
       "99934                                                           Camco 40922 Armada Carnauba Wash &amp; Wax - 32 oz   \n",
       "99988                                                                         Minnesota Twins Dual-Lit Accent Lamp   \n",
       "99994                                                   Chinook Timberline Stainless Steel 3 Cup Coffee Percolator   \n",
       "\n",
       "                                                                                                                                                                                                      also_buy  \\\n",
       "26     [0899334482, 0899334474, 0899333834, 1946494100, 0899332889, 1934838195, 1946494011, 0929591186, 0899333346, 1946494062, 1932082468, 0899332552, 0899334369, 194649402X, 1597750867, 0899333176, 194...   \n",
       "109                                                                                                                                                                                                       None   \n",
       "113                                                                                                                                                                                   [B01LXL27XI, B00V7P459E]   \n",
       "158                                                                                                                                                                                                       None   \n",
       "218                                                                                                                                                                                                       None   \n",
       "...                                                                                                                                                                                                        ...   \n",
       "99918                                                                                                                                                                                                     None   \n",
       "99922  [B0000C6HOI, B001444VMO, B000XBBD8E, B0007TR47G, B003E21MRG, B0000AXVCB, B000O89BCQ, B000XBH0AE, B0000AXNNA, B000O8DA3M, B0000AY1W7, B00029CYRG, B004XADA9Q, B00KMYYQ36, B00C9OTRE0, B001HX8YDO, B00...   \n",
       "99934                                                                                                                                                                                                     None   \n",
       "99988                                                                                                                                                                                                     None   \n",
       "99994                                                                                                                                                                                                     None   \n",
       "\n",
       "                   brand  \\\n",
       "26                Garmin   \n",
       "109                OBiDi   \n",
       "113                 ZENY   \n",
       "158           Tupperware   \n",
       "218                Green   \n",
       "...                  ...   \n",
       "99918           Interlux   \n",
       "99922           Interlux   \n",
       "99934              Camco   \n",
       "99988  Football Fanatics   \n",
       "99994            Chinook   \n",
       "\n",
       "                                                                                                                                                                                                       feature  \\\n",
       "26     [Amazingly detailed and beautifully crafted, large-format paper maps for all 50 States, Topographic maps with elevation contours, Major highways and roads, dirt roads, trails and land use data, Ga...   \n",
       "109    [Soft material, reliable and eco-friendly, Secures tightly and prevents water from seeping in, Waterproof to a depth of 20 meters, IPX 8 standard, Comes with armband & neck strap for easy carrying...   \n",
       "113    [Color Optional: Black Size Optional (1.5\" Diam.): 30Ft, Material: 100% Poly Dacron, Wear Resistant and Durable, 3-Strand Twisted PolyDac Strong Construction, Orange / Yellow Tracking Line, Conven...   \n",
       "158                                                                                                        [Tupperware Flip Top Water Bottle, Water Bottle, Bottle, Flip Top Water Bottle, Drink Water Bottle]   \n",
       "218                                                                                                                                                                                                       None   \n",
       "...                                                                                                                                                                                                        ...   \n",
       "99918  [A non-bleeding, anti-corrosive primer, Provides a barrier on underwater metal surfaces, reducing galvanic corrosion, For use on aluminum outdrives and outboards, stainless steel, bronze props and...   \n",
       "99922                                                               [Controlled polishing, Multi-seasonal performance, Proven performance for 20 years, Uses less copper more efficiently, Paint Color: Black]   \n",
       "99934  [Cleans, shines and protects in one easy step, Non-toxic and biodegradable is a premium grade cleaner for fiberglass, metal and painted soap, Only boat soap available with real carnauba wax, Reple...   \n",
       "99988                                                                                                                                                                                                     None   \n",
       "99994                  [Stainless Steel Coffee percolator 3-cup (710mL), 18/8 polished Stainless Steel construction, Heat insulating permawood handle, Has precision-fitting, seamless parts, Dishwasher-safe]   \n",
       "\n",
       "                                                                                                                                                                                                          rank  \\\n",
       "26                                                 [>#84,484 in Office Products (See top 100), >#8 in Sports & Outdoors > Outdoor Recreation > Camping & Hiking > Navigation & Electronics > Topographic Maps]   \n",
       "109                                                                                                                                                                                                         []   \n",
       "113                                                                                     [>#460,033 in Health & Household (See top 100), >#98,503 in Sports & Outdoors > Sports & Fitness > Exercise & Fitness]   \n",
       "158    [>#391,748 in Kitchen & Dining (See Top 100 in Kitchen & Dining), >#8,980 in Home & Kitchen > Kitchen & Dining > Travel & To-Go Drinkware > Water Bottles, >#57,985 in Sports & Outdoors > Sports & ...   \n",
       "218                                                                              [>#1,753,153 in Electronics (See Top 100 in Electronics), >#266,413 in Sports & Outdoors > Fan Shop > Cell Phone Accessories]   \n",
       "...                                                                                                                                                                                                        ...   \n",
       "99918  [>#255,769 in Automotive (See top 100), >#80 in Sports & Outdoors > Sports & Fitness > Boating & Sailing > Boating > Maintenance Supplies > Painting Supplies, >#1,129 in Automotive > Motorcycle & ...   \n",
       "99922  [>#621,754 in Automotive (See top 100), >#167 in Sports & Outdoors > Sports & Fitness > Boating & Sailing > Boating > Maintenance Supplies > Painting Supplies, >#20,830 in Sports & Outdoors > Spor...   \n",
       "99934  [>#271,850 in Automotive (See top 100), >#212 in Sports & Outdoors > Sports & Fitness > Boating & Sailing > Boating > Maintenance Supplies > Cleaners, >#509 in Automotive > Car Care > Exterior Car...   \n",
       "99988  [>#3,727,681 in Tools & Home Improvement (See top 100), >#1,715 in Sports & Outdoors > Fan Shop > Home & Kitchen > Furniture > Lamps, >#9,967 in Sports & Outdoors > Fan Shop > Tools & Home Improve...   \n",
       "99994                                  [>#149,338 in Kitchen & Dining (See Top 100 in Kitchen & Dining), >#70 in Sports & Outdoors > Outdoor Recreation > Camping & Hiking > Camp Kitchen > Coffee & Tea Pots]   \n",
       "\n",
       "                                                                                                                                                                                                     also_view  \\\n",
       "26                                                                                                                                                                                                        None   \n",
       "109                                                                                                                                                                                                       None   \n",
       "113                                                                                               [B07BVTCFTY, B07BVZGN59, B07DFJRX3Z, B073CRCDFS, B07KYXNS4D, B079GVXYJ7, B01G22Q9E0, B00S0QDD8C, B00N9SQQL2]   \n",
       "158    [B00G9ZXS7C, B019XLSSIC, B00MJNTD3G, B0122T548Y, B00MA2S1Y8, B0713M5ZQR, B00O2Y7YJ0, B0748NJT4F, B00MA2S23I, B013BJKQBO, B00MA7A0DS, B00GQUTL9O, B019XLSQ5M, B01MQW8LM5, B00MA7A0AG, B00GQUTMFC, B07...   \n",
       "218                                                                                                                                                                                                       None   \n",
       "...                                                                                                                                                                                                        ...   \n",
       "99918         [B003E21MRG, B07H42MZ1B, B00C9OSME6, B00PE3WXNK, B00OJMXTHG, B00LLIKSOS, B000XBBK2S, B003E1Y31O, B0053HR0T4, B00C9OTRE0, B001IWP5DQ, B006ZKMKSO, B0017KMI48, B000N9RRRW, B001TIYL7K, B000N9NF96]   \n",
       "99922  [B000XBBGKY, B0053HQPZY, B000XBH0AE, B07CNV2YHH, B0182PI1VY, B00LLIKSOS, B000C0140S, B001HX6JQ8, B007ILA25C, B01AS18SMC, B00J2YWBW0, B0046J47ZU, B01N5JMIBY, B001H55NMM, B001TIYL7K, B000XBBGP4, B00...   \n",
       "99934                                                                                                                                                                                                     None   \n",
       "99988                                                                                                                                                                                                     None   \n",
       "99994  [B00005NCWQ, B000QOM6P2, B078HC2D7M, B001J2HFX8, B000BI8EJK, B0018BLHES, B01HZYPQVG, B0018EA7AA, B000LNRP3G, B001LF3I2K, B01EOOHEAQ, B0009PUQSM, B000P9GZNM, B001DC5HG6, B000VP7HQ4, B07LG4TCN9, B00...   \n",
       "\n",
       "                       main_cat similar_item       date  \\\n",
       "26              Office Products         None 2003-08-04   \n",
       "109             All Electronics         None 2015-04-02   \n",
       "113      Health & Personal Care         None 2012-07-23   \n",
       "158                 Amazon Home         None 2015-05-10   \n",
       "218             All Electronics         None 2009-05-20   \n",
       "...                         ...          ...        ...   \n",
       "99918                Automotive         None 2010-02-28   \n",
       "99922                Automotive         None 2007-02-06   \n",
       "99934                Automotive         None 2007-02-06   \n",
       "99988  Tools & Home Improvement         None 2003-08-06   \n",
       "99994               Amazon Home         None 2009-10-15   \n",
       "\n",
       "                                                                                                                                                                                                         price  \\\n",
       "26                                                                                                                                                                                                       21.96   \n",
       "109                                                                                                                                                                                                      10.99   \n",
       "113                                                                                                                                                                                                      34.89   \n",
       "158                                                                                                                                                                                                      28.99   \n",
       "218    .a-box-inner{background-color:#fff}#alohaBuyBoxWidget .selected{background-color:#fffbf3;border-color:#e77600;box-shadow:0 0 3px rgba(228,121,17,.5)}#alohaBuyBoxWidget .contract-not-available{colo...   \n",
       "...                                                                                                                                                                                                        ...   \n",
       "99918                                                                                                                                                                                                    33.01   \n",
       "99922                                                                                                                                                                                                   249.18   \n",
       "99934                                                                                                                                                                                                    18.84   \n",
       "99988                                                                                                                                                                                                     None   \n",
       "99994                                                                                                                                                                                                     5.94   \n",
       "\n",
       "             asin  \\\n",
       "26     0899333257   \n",
       "109    589113229X   \n",
       "113    6025006571   \n",
       "158    7348999816   \n",
       "218    9861152261   \n",
       "...           ...   \n",
       "99918  B001HX8YDO   \n",
       "99922  B001HXBVRK   \n",
       "99934  B001HXXWGS   \n",
       "99988  B001HYEYDM   \n",
       "99994  B001HYTPSQ   \n",
       "\n",
       "                                                                                                                                                                                                      imageURL  \\\n",
       "26                                                          [https://images-na.ssl-images-amazon.com/images/I/51abpgbthqL._SS40_.jpg, https://images-na.ssl-images-amazon.com/images/I/418Wc2O8drL._SS40_.jpg]   \n",
       "109    [https://images-na.ssl-images-amazon.com/images/I/414wXW9M59L._SS40_.jpg, https://images-na.ssl-images-amazon.com/images/I/41pHt8DURNL._SS40_.jpg, https://images-na.ssl-images-amazon.com/images/I/...   \n",
       "113                                                                                                                                                                                                         []   \n",
       "158                                                                                                                                  [https://images-na.ssl-images-amazon.com/images/I/31RMqf7IpqL._SS40_.jpg]   \n",
       "218                                                                                                                                                                                                         []   \n",
       "...                                                                                                                                                                                                        ...   \n",
       "99918  [https://images-na.ssl-images-amazon.com/images/I/41ztNvrXFAL._SS40_.jpg, https://images-na.ssl-images-amazon.com/images/I/41m2LmP0NaL._SS40_.jpg, https://images-na.ssl-images-amazon.com/images/I/...   \n",
       "99922  [https://images-na.ssl-images-amazon.com/images/I/51ceHh50qEL._SS36_.jpg, https://images-na.ssl-images-amazon.com/images/I/512IWXdTVAL._SS36_.jpg, https://images-na.ssl-images-amazon.com/images/I/...   \n",
       "99934                                                                                                                                                                                                       []   \n",
       "99988                                                                                                                                                                                                       []   \n",
       "99994                                                       [https://images-na.ssl-images-amazon.com/images/I/41338t1vVSL._SS40_.jpg, https://images-na.ssl-images-amazon.com/images/I/51pcfT1OKeL._SS40_.jpg]   \n",
       "\n",
       "                                                                                                                                                                                               imageURLHighRes  \\\n",
       "26                                                                        [https://images-na.ssl-images-amazon.com/images/I/51abpgbthqL.jpg, https://images-na.ssl-images-amazon.com/images/I/418Wc2O8drL.jpg]   \n",
       "109    [https://images-na.ssl-images-amazon.com/images/I/414wXW9M59L.jpg, https://images-na.ssl-images-amazon.com/images/I/41pHt8DURNL.jpg, https://images-na.ssl-images-amazon.com/images/I/51nfacVUv%2BL....   \n",
       "113                                                                                                                                                                                                         []   \n",
       "158                                                                                                                                         [https://images-na.ssl-images-amazon.com/images/I/31RMqf7IpqL.jpg]   \n",
       "218                                                                                                                                                                                                         []   \n",
       "...                                                                                                                                                                                                        ...   \n",
       "99918  [https://images-na.ssl-images-amazon.com/images/I/41ztNvrXFAL.jpg, https://images-na.ssl-images-amazon.com/images/I/41m2LmP0NaL.jpg, https://images-na.ssl-images-amazon.com/images/I/31KVOA6R%2B-L....   \n",
       "99922  [https://images-na.ssl-images-amazon.com/images/I/51ceHh50qEL.jpg, https://images-na.ssl-images-amazon.com/images/I/512IWXdTVAL.jpg, https://images-na.ssl-images-amazon.com/images/I/512IWXdTVAL.jp...   \n",
       "99934                                                                                                                                                                                                       []   \n",
       "99988                                                                                                                                                                                                       []   \n",
       "99994                                                                     [https://images-na.ssl-images-amazon.com/images/I/41338t1vVSL.jpg, https://images-na.ssl-images-amazon.com/images/I/51pcfT1OKeL.jpg]   \n",
       "\n",
       "      details       category_big        category_mid          category_small  \\\n",
       "26        NaN  Sports & Outdoors  Outdoor Recreation        Camping & Hiking   \n",
       "109       NaN  Sports & Outdoors    Sports & Fitness       Boating & Sailing   \n",
       "113       NaN  Sports & Outdoors    Sports & Fitness      Exercise & Fitness   \n",
       "158        {}  Sports & Outdoors    Sports & Fitness             Accessories   \n",
       "218        {}  Sports & Outdoors            Fan Shop  Cell Phone Accessories   \n",
       "...       ...                ...                 ...                     ...   \n",
       "99918      {}  Sports & Outdoors    Sports & Fitness       Boating & Sailing   \n",
       "99922      {}  Sports & Outdoors    Sports & Fitness       Boating & Sailing   \n",
       "99934      {}  Sports & Outdoors    Sports & Fitness       Boating & Sailing   \n",
       "99988      {}  Sports & Outdoors            Fan Shop          Home & Kitchen   \n",
       "99994      {}  Sports & Outdoors  Outdoor Recreation        Camping & Hiking   \n",
       "\n",
       "      new_rank    year  month  \n",
       "26         NaN  2003.0    8.0  \n",
       "109        NaN  2015.0    4.0  \n",
       "113        NaN  2012.0    7.0  \n",
       "158        NaN  2015.0    5.0  \n",
       "218        NaN  2009.0    5.0  \n",
       "...        ...     ...    ...  \n",
       "99918      NaN  2010.0    2.0  \n",
       "99922      NaN  2007.0    2.0  \n",
       "99934      NaN  2007.0    2.0  \n",
       "99988      NaN  2003.0    8.0  \n",
       "99994      NaN  2009.0   10.0  \n",
       "\n",
       "[4227 rows x 21 columns]"
      ]
     },
     "execution_count": 72,
     "metadata": {},
     "output_type": "execute_result"
    }
   ],
   "source": [
    "df[df['year'].notnull()]"
   ]
  },
  {
   "cell_type": "markdown",
   "id": "4f711728",
   "metadata": {},
   "source": [
    "# price"
   ]
  },
  {
   "cell_type": "code",
   "execution_count": null,
   "id": "2489a8d6",
   "metadata": {},
   "outputs": [],
   "source": []
  },
  {
   "cell_type": "code",
   "execution_count": 55,
   "id": "959ed97b",
   "metadata": {
    "scrolled": true
   },
   "outputs": [
    {
     "data": {
      "text/plain": [
       "99950                $1.51\n",
       "99951               $10.01\n",
       "99952                     \n",
       "99953               $44.97\n",
       "99954                     \n",
       "99955                     \n",
       "99956               $11.18\n",
       "99957                $1.80\n",
       "99958                     \n",
       "99959                     \n",
       "99960                     \n",
       "99961               $10.62\n",
       "99962                $5.00\n",
       "99963                $7.39\n",
       "99964               $13.19\n",
       "99965               $37.21\n",
       "99966                $7.49\n",
       "99967                $7.28\n",
       "99968                $7.95\n",
       "99969                $7.99\n",
       "99970               $14.95\n",
       "99971     $51.21 - $104.94\n",
       "99972                     \n",
       "99973               $10.63\n",
       "99974               $17.95\n",
       "99975                $5.99\n",
       "99976    $124.95 - $294.23\n",
       "99977                $6.50\n",
       "99978                $8.67\n",
       "99979                $4.02\n",
       "99980               $15.99\n",
       "99981                $4.74\n",
       "99982                     \n",
       "99983                $6.99\n",
       "99984               $14.41\n",
       "99985                     \n",
       "99986                     \n",
       "99987      $12.95 - $30.90\n",
       "99988                     \n",
       "99989              $193.95\n",
       "99990               $25.95\n",
       "99991                $3.98\n",
       "99992                     \n",
       "99993                $9.64\n",
       "99994                $5.94\n",
       "99995                     \n",
       "99996                $9.99\n",
       "99997              $420.95\n",
       "99998               $15.00\n",
       "99999               $60.00\n",
       "Name: price, dtype: object"
      ]
     },
     "execution_count": 55,
     "metadata": {},
     "output_type": "execute_result"
    }
   ],
   "source": [
    "df['price'].tail(50)"
   ]
  },
  {
   "cell_type": "code",
   "execution_count": 56,
   "id": "ad0a79d3",
   "metadata": {},
   "outputs": [
    {
     "data": {
      "text/plain": [
       "0"
      ]
     },
     "execution_count": 56,
     "metadata": {},
     "output_type": "execute_result"
    }
   ],
   "source": [
    "df['price'].isnull().sum()"
   ]
  },
  {
   "cell_type": "code",
   "execution_count": 57,
   "id": "ff694977",
   "metadata": {
    "scrolled": true
   },
   "outputs": [
    {
     "data": {
      "text/plain": [
       "price\n",
       "                                                                                                                                                                                                                                                                                                                                                                                                                                                                                                                                                                                                                                                                                                                                                                                                                                                                                                                                                                                                                                                                                                                                                                                                                                                                                                                                                                                                                                                                                                                                                                                                                                                                                                                                                                                                                                                                                                                                                                                                                                                                                                                                                                                                                                                                                                                                                                                                                                                                                                                                                                                                                                                                                                                                                                                                                                                                                                                                                                                                                                                                                                                                                                                                                                                                                                                                                                                                                                                                                                                                                                                                                                                                                                                                                                                                                                                                                                                                                                                                                                                                                                                                                                                                                                                                                                                                                                                                                                                                                                                                                                                                                                                                                                                                                                                                                                            54721\n",
       ".a-box-inner{background-color:#fff}#alohaBuyBoxWidget .selected{background-color:#fffbf3;border-color:#e77600;box-shadow:0 0 3px rgba(228,121,17,.5)}#alohaBuyBoxWidget .contract-not-available{color:gray}#aloha-cart-popover .aloha-cart{height:auto;overflow:hidden}#aloha-cart-popover #aloha-cartInfo{float:left}#aloha-cart-popover #aloha-cart-details{float:right;margin-top:1em}#aloha-cart-popover .deviceContainer{width:160px;float:left;padding-right:10px;border-right:1px solid #ddd}#aloha-cart-popover li:last-child{border-right:0}#aloha-cart-popover .aloha-device-title{height:3em;overflow:hidden}#aloha-cart-popover .aloha-thumbnail-container{height:100px;margin-bottom:1em;text-align:center}#aloha-cart-popover .aloha-price-container{text-align:center}#aloha-cart-popover .aloha-thumbnail-container img{height:inherit}#aloha-cart-popover .aloha-cart{border-top:1px solid #ddd;border-bottom:1px solid #ddd}#aloha-cart-popover #aloha-cart-info{margin-right:0}#alohaBuyBoxWidget .without-contract-subheading{margin-right:0}#aloha-bb-help-nodes .aloha-bb-contract-term-heading{color:gray;font-family:arial;margin-top:.5em;text-align:center;height:.7em;border-bottom:1px solid gray;margin-bottom:1.6em}#aloha-bb-help-nodes .aloha-bb-contract-term-heading span{background-color:#fff;padding:0 10px 0 10px}#alohaAvailabilityUS_feature_div .availability a{text-decoration:none}#alohaPricingWidget a{text-decoration:none}#alohaAvailabilityUS_feature_div .availability{margin-top:-4px;margin-bottom:0}#alohaBuyBoxWidget .select-transaction-alert .a-icon-alert{top:18px;left:3px}#alohaBuyBoxWidget .select-transaction-alert .a-alert-container{padding-left:39px;width:290px}#alohaBuyBoxUS_feature_div #alohaBuyBoxWidget .contract-container .contract-term-heading a{text-decoration:none}#alohaBuyBoxUS_feature_div #alohaBuyBoxWidget .annual-contract-box .a-icon-popover{display:none}#alohaBuyBoxUS_feature_div #alohaBuyBoxWidget .contract-container .annual-contract-box{cursor:pointer;cursor:hand}#alohaBuyBoxUS_feature_div #alohaBuyBoxWidget .aloha-buybox-price{font-size:15px}#alohaBuyBoxUS_feature_div #alohaBuyBoxWidget #linkOffSection a{text-decoration:none}#alohaBuyBoxUS_feature_div .lockedUsedBuyboxContainer{padding-left:3.5%}#alohaBuyBoxUS_feature_div .alohaBuyboxUtilsNoWrap{white-space:nowrap}.hidden{display:none}.simo-no-padding{padding:0}.carrier-reviews-cell{padding-left:10px}.carrier-reviews-bordered-cell{border:1px dotted #ccc}.carrier-reviews-selected-cell{background-color:#ffd}#aloha-carrier-compatibility-modal-table-description{margin-top:10px;margin-bottom:14px}.aloha-carrier-compatibility-sortable-header.carrier{min-width:97px}.aloha-carrier-compatibility-sortable-header.compatibility{min-width:156px}.aloha-carrier-compatibility-sortable-header div{float:left}.aloha-carrier-compatibility-sortable-header i.a-icon{margin-left:10px;margin-top:4px}#aloha-carrier-compatibility-overview-table.a-bordered.a-vertical-stripes td:nth-child(2n),#aloha-carrier-compatibility-overview-table.a-bordered.a-vertical-stripes th:nth-child(2n){background-color:initial}#aloha-carrier-compatibility-modal-table.a-bordered.a-vertical-stripes td:nth-child(2n),#aloha-carrier-compatibility-modal-table.a-bordered.a-vertical-stripes th:nth-child(2n){background-color:initial}#aloha-carrier-compatibility-table.a-bordered.a-vertical-stripes th:nth-child(2n),.aloha-carrier-compatibility-table.a-bordered.a-vertical-stripes td:nth-child(2n){background-color:transparent}.aloha-carrier-compatibility-column-gray{background-color:#f6f6f6}.aloha-carrier-compatibility-modal-table-row .aloha-carrier-compatibility-tech-text,.aloha-carrier-compatibility-modal-table-row .carrier-name,.aloha-carrier-compatibility-modal-table-row .carrier-rating-summary{min-height:27px;display:inline-block;cursor:default}.aloha-carrier-compatibility-modal-table-row .aloha-carrier-compatibility-tech-text:first-line,.aloha-carrier-compatibility-modal-table-row .carrier-name:first-line,.aloha-carrier-compatibility-modal-table-row .carrier-rating-summary:first-line{line-height:27px}.aloha-carrier-compatibility-modal-table-row .aloha-carrier-compatibility-icon{margin-top:6px}.aloha-carrier-compatibility-check-icon{width:30px;height:27px;background-position:-318px -35px;background-image:url(https://images-na.ssl-images-amazon.com/images/G/01/AUIClients/AmazonUIBaseCSS-sprite_2x-8e7ef370dc28a214b3f490c9620f4ac501d5a864._V2_.png);background-repeat:no-repeat;background-size:400px 650px;display:inline-block;vertical-align:top}.aloha-carrier-compatibility-hidden{display:none}.aloha-buybox-spaced-link{margin-top:12px;margin-bottom:7px;text-align:center}.popover-tab     2461\n",
       "$19.99                                                                                                                                                                                                                                                                                                                                                                                                                                                                                                                                                                                                                                                                                                                                                                                                                                                                                                                                                                                                                                                                                                                                                                                                                                                                                                                                                                                                                                                                                                                                                                                                                                                                                                                                                                                                                                                                                                                                                                                                                                                                                                                                                                                                                                                                                                                                                                                                                                                                                                                                                                                                                                                                                                                                                                                                                                                                                                                                                                                                                                                                                                                                                                                                                                                                                                                                                                                                                                                                                                                                                                                                                                                                                                                                                                                                                                                                                                                                                                                                                                                                                                                                                                                                                                                                                                                                                                                                                                                                                                                                                                                                                                                                                                                                                                                                                                        479\n",
       "$9.99                                                                                                                                                                                                                                                                                                                                                                                                                                                                                                                                                                                                                                                                                                                                                                                                                                                                                                                                                                                                                                                                                                                                                                                                                                                                                                                                                                                                                                                                                                                                                                                                                                                                                                                                                                                                                                                                                                                                                                                                                                                                                                                                                                                                                                                                                                                                                                                                                                                                                                                                                                                                                                                                                                                                                                                                                                                                                                                                                                                                                                                                                                                                                                                                                                                                                                                                                                                                                                                                                                                                                                                                                                                                                                                                                                                                                                                                                                                                                                                                                                                                                                                                                                                                                                                                                                                                                                                                                                                                                                                                                                                                                                                                                                                                                                                                                                         467\n",
       "$7.99                                                                                                                                                                                                                                                                                                                                                                                                                                                                                                                                                                                                                                                                                                                                                                                                                                                                                                                                                                                                                                                                                                                                                                                                                                                                                                                                                                                                                                                                                                                                                                                                                                                                                                                                                                                                                                                                                                                                                                                                                                                                                                                                                                                                                                                                                                                                                                                                                                                                                                                                                                                                                                                                                                                                                                                                                                                                                                                                                                                                                                                                                                                                                                                                                                                                                                                                                                                                                                                                                                                                                                                                                                                                                                                                                                                                                                                                                                                                                                                                                                                                                                                                                                                                                                                                                                                                                                                                                                                                                                                                                                                                                                                                                                                                                                                                                                         324\n",
       "                                                                                                                                                                                                                                                                                                                                                                                                                                                                                                                                                                                                                                                                                                                                                                                                                                                                                                                                                                                                                                                                                                                                                                                                                                                                                                                                                                                                                                                                                                                                                                                                                                                                                                                                                                                                                                                                                                                                                                                                                                                                                                                                                                                                                                                                                                                                                                                                                                                                                                                                                                                                                                                                                                                                                                                                                                                                                                                                                                                                                                                                                                                                                                                                                                                                                                                                                                                                                                                                                                                                                                                                                                                                                                                                                                                                                                                                                                                                                                                                                                                                                                                                                                                                                                                                                                                                                                                                                                                                                                                                                                                                                                                                                                                                                                                                                                            ...  \n",
       "$41.93                                                                                                                                                                                                                                                                                                                                                                                                                                                                                                                                                                                                                                                                                                                                                                                                                                                                                                                                                                                                                                                                                                                                                                                                                                                                                                                                                                                                                                                                                                                                                                                                                                                                                                                                                                                                                                                                                                                                                                                                                                                                                                                                                                                                                                                                                                                                                                                                                                                                                                                                                                                                                                                                                                                                                                                                                                                                                                                                                                                                                                                                                                                                                                                                                                                                                                                                                                                                                                                                                                                                                                                                                                                                                                                                                                                                                                                                                                                                                                                                                                                                                                                                                                                                                                                                                                                                                                                                                                                                                                                                                                                                                                                                                                                                                                                                                                          1\n",
       "$181.62                                                                                                                                                                                                                                                                                                                                                                                                                                                                                                                                                                                                                                                                                                                                                                                                                                                                                                                                                                                                                                                                                                                                                                                                                                                                                                                                                                                                                                                                                                                                                                                                                                                                                                                                                                                                                                                                                                                                                                                                                                                                                                                                                                                                                                                                                                                                                                                                                                                                                                                                                                                                                                                                                                                                                                                                                                                                                                                                                                                                                                                                                                                                                                                                                                                                                                                                                                                                                                                                                                                                                                                                                                                                                                                                                                                                                                                                                                                                                                                                                                                                                                                                                                                                                                                                                                                                                                                                                                                                                                                                                                                                                                                                                                                                                                                                                                         1\n",
       "$827.20                                                                                                                                                                                                                                                                                                                                                                                                                                                                                                                                                                                                                                                                                                                                                                                                                                                                                                                                                                                                                                                                                                                                                                                                                                                                                                                                                                                                                                                                                                                                                                                                                                                                                                                                                                                                                                                                                                                                                                                                                                                                                                                                                                                                                                                                                                                                                                                                                                                                                                                                                                                                                                                                                                                                                                                                                                                                                                                                                                                                                                                                                                                                                                                                                                                                                                                                                                                                                                                                                                                                                                                                                                                                                                                                                                                                                                                                                                                                                                                                                                                                                                                                                                                                                                                                                                                                                                                                                                                                                                                                                                                                                                                                                                                                                                                                                                         1\n",
       "$50.80                                                                                                                                                                                                                                                                                                                                                                                                                                                                                                                                                                                                                                                                                                                                                                                                                                                                                                                                                                                                                                                                                                                                                                                                                                                                                                                                                                                                                                                                                                                                                                                                                                                                                                                                                                                                                                                                                                                                                                                                                                                                                                                                                                                                                                                                                                                                                                                                                                                                                                                                                                                                                                                                                                                                                                                                                                                                                                                                                                                                                                                                                                                                                                                                                                                                                                                                                                                                                                                                                                                                                                                                                                                                                                                                                                                                                                                                                                                                                                                                                                                                                                                                                                                                                                                                                                                                                                                                                                                                                                                                                                                                                                                                                                                                                                                                                                          1\n",
       "$420.95                                                                                                                                                                                                                                                                                                                                                                                                                                                                                                                                                                                                                                                                                                                                                                                                                                                                                                                                                                                                                                                                                                                                                                                                                                                                                                                                                                                                                                                                                                                                                                                                                                                                                                                                                                                                                                                                                                                                                                                                                                                                                                                                                                                                                                                                                                                                                                                                                                                                                                                                                                                                                                                                                                                                                                                                                                                                                                                                                                                                                                                                                                                                                                                                                                                                                                                                                                                                                                                                                                                                                                                                                                                                                                                                                                                                                                                                                                                                                                                                                                                                                                                                                                                                                                                                                                                                                                                                                                                                                                                                                                                                                                                                                                                                                                                                                                         1\n",
       "Name: count, Length: 11542, dtype: int64"
      ]
     },
     "execution_count": 57,
     "metadata": {},
     "output_type": "execute_result"
    }
   ],
   "source": [
    "df['price'].value_counts()\n",
    "\n",
    "# '' 값, 이상한 값, 범주형 값 처리 방법 고민 필요\n",
    "# '' 값, 즉 빈값만 54,721개 들어가있음\n",
    "# 이상한 값은 2461개\n",
    "# 범주형 값은 몇개인지 파악못하겠음"
   ]
  },
  {
   "cell_type": "code",
   "execution_count": 58,
   "id": "a38f5de9",
   "metadata": {
    "scrolled": true
   },
   "outputs": [
    {
     "ename": "TypeError",
     "evalue": "argument of type 'NoneType' is not iterable",
     "output_type": "error",
     "traceback": [
      "\u001b[1;31m---------------------------------------------------------------------------\u001b[0m",
      "\u001b[1;31mTypeError\u001b[0m                                 Traceback (most recent call last)",
      "Cell \u001b[1;32mIn[58], line 8\u001b[0m\n\u001b[0;32m      5\u001b[0m df[\u001b[38;5;124m'\u001b[39m\u001b[38;5;124mprice\u001b[39m\u001b[38;5;124m'\u001b[39m] \u001b[38;5;241m=\u001b[39m df[\u001b[38;5;124m'\u001b[39m\u001b[38;5;124mprice\u001b[39m\u001b[38;5;124m'\u001b[39m]\u001b[38;5;241m.\u001b[39mapply(\u001b[38;5;28;01mlambda\u001b[39;00m x: re\u001b[38;5;241m.\u001b[39msub(\u001b[38;5;124mr\u001b[39m\u001b[38;5;124m'\u001b[39m\u001b[38;5;124m\\\u001b[39m\u001b[38;5;124m$\u001b[39m\u001b[38;5;124m'\u001b[39m, \u001b[38;5;124m'\u001b[39m\u001b[38;5;124m'\u001b[39m, x) \u001b[38;5;28;01mif\u001b[39;00m \u001b[38;5;28misinstance\u001b[39m(x, \u001b[38;5;28mstr\u001b[39m) \u001b[38;5;28;01melse\u001b[39;00m x)\n\u001b[0;32m      7\u001b[0m \u001b[38;5;66;03m# 범주형 값 처리 (두 값의 평균으로 대체)\u001b[39;00m\n\u001b[1;32m----> 8\u001b[0m df[\u001b[38;5;124m'\u001b[39m\u001b[38;5;124mprice\u001b[39m\u001b[38;5;124m'\u001b[39m] \u001b[38;5;241m=\u001b[39m df[\u001b[38;5;124m'\u001b[39m\u001b[38;5;124mprice\u001b[39m\u001b[38;5;124m'\u001b[39m]\u001b[38;5;241m.\u001b[39mapply(\u001b[38;5;28;01mlambda\u001b[39;00m x: x\u001b[38;5;241m.\u001b[39msplit(\u001b[38;5;124m'\u001b[39m\u001b[38;5;124m - \u001b[39m\u001b[38;5;124m'\u001b[39m)[\u001b[38;5;241m0\u001b[39m] \u001b[38;5;28;01mif\u001b[39;00m \u001b[38;5;124m'\u001b[39m\u001b[38;5;124m - \u001b[39m\u001b[38;5;124m'\u001b[39m \u001b[38;5;129;01min\u001b[39;00m x \u001b[38;5;28;01melse\u001b[39;00m x)\n\u001b[0;32m      9\u001b[0m df[\u001b[38;5;124m'\u001b[39m\u001b[38;5;124mprice\u001b[39m\u001b[38;5;124m'\u001b[39m] \u001b[38;5;241m=\u001b[39m df[\u001b[38;5;124m'\u001b[39m\u001b[38;5;124mprice\u001b[39m\u001b[38;5;124m'\u001b[39m]\u001b[38;5;241m.\u001b[39mapply(\u001b[38;5;28;01mlambda\u001b[39;00m x: (\u001b[38;5;28mfloat\u001b[39m(x\u001b[38;5;241m.\u001b[39msplit(\u001b[38;5;124m'\u001b[39m\u001b[38;5;124m - \u001b[39m\u001b[38;5;124m'\u001b[39m)[\u001b[38;5;241m0\u001b[39m]) \u001b[38;5;241m+\u001b[39m \u001b[38;5;28mfloat\u001b[39m(x\u001b[38;5;241m.\u001b[39msplit(\u001b[38;5;124m'\u001b[39m\u001b[38;5;124m - \u001b[39m\u001b[38;5;124m'\u001b[39m)[\u001b[38;5;241m1\u001b[39m])) \u001b[38;5;241m/\u001b[39m \u001b[38;5;241m2\u001b[39m \u001b[38;5;28;01mif\u001b[39;00m \u001b[38;5;124m'\u001b[39m\u001b[38;5;124m - \u001b[39m\u001b[38;5;124m'\u001b[39m \u001b[38;5;129;01min\u001b[39;00m x \u001b[38;5;28;01melse\u001b[39;00m x)\n",
      "File \u001b[1;32m~\\anaconda3\\Lib\\site-packages\\pandas\\core\\series.py:4764\u001b[0m, in \u001b[0;36mSeries.apply\u001b[1;34m(self, func, convert_dtype, args, by_row, **kwargs)\u001b[0m\n\u001b[0;32m   4629\u001b[0m \u001b[38;5;28;01mdef\u001b[39;00m \u001b[38;5;21mapply\u001b[39m(\n\u001b[0;32m   4630\u001b[0m     \u001b[38;5;28mself\u001b[39m,\n\u001b[0;32m   4631\u001b[0m     func: AggFuncType,\n\u001b[1;32m   (...)\u001b[0m\n\u001b[0;32m   4636\u001b[0m     \u001b[38;5;241m*\u001b[39m\u001b[38;5;241m*\u001b[39mkwargs,\n\u001b[0;32m   4637\u001b[0m ) \u001b[38;5;241m-\u001b[39m\u001b[38;5;241m>\u001b[39m DataFrame \u001b[38;5;241m|\u001b[39m Series:\n\u001b[0;32m   4638\u001b[0m \u001b[38;5;250m    \u001b[39m\u001b[38;5;124;03m\"\"\"\u001b[39;00m\n\u001b[0;32m   4639\u001b[0m \u001b[38;5;124;03m    Invoke function on values of Series.\u001b[39;00m\n\u001b[0;32m   4640\u001b[0m \n\u001b[1;32m   (...)\u001b[0m\n\u001b[0;32m   4755\u001b[0m \u001b[38;5;124;03m    dtype: float64\u001b[39;00m\n\u001b[0;32m   4756\u001b[0m \u001b[38;5;124;03m    \"\"\"\u001b[39;00m\n\u001b[0;32m   4757\u001b[0m     \u001b[38;5;28;01mreturn\u001b[39;00m SeriesApply(\n\u001b[0;32m   4758\u001b[0m         \u001b[38;5;28mself\u001b[39m,\n\u001b[0;32m   4759\u001b[0m         func,\n\u001b[0;32m   4760\u001b[0m         convert_dtype\u001b[38;5;241m=\u001b[39mconvert_dtype,\n\u001b[0;32m   4761\u001b[0m         by_row\u001b[38;5;241m=\u001b[39mby_row,\n\u001b[0;32m   4762\u001b[0m         args\u001b[38;5;241m=\u001b[39margs,\n\u001b[0;32m   4763\u001b[0m         kwargs\u001b[38;5;241m=\u001b[39mkwargs,\n\u001b[1;32m-> 4764\u001b[0m     )\u001b[38;5;241m.\u001b[39mapply()\n",
      "File \u001b[1;32m~\\anaconda3\\Lib\\site-packages\\pandas\\core\\apply.py:1209\u001b[0m, in \u001b[0;36mSeriesApply.apply\u001b[1;34m(self)\u001b[0m\n\u001b[0;32m   1206\u001b[0m     \u001b[38;5;28;01mreturn\u001b[39;00m \u001b[38;5;28mself\u001b[39m\u001b[38;5;241m.\u001b[39mapply_compat()\n\u001b[0;32m   1208\u001b[0m \u001b[38;5;66;03m# self.func is Callable\u001b[39;00m\n\u001b[1;32m-> 1209\u001b[0m \u001b[38;5;28;01mreturn\u001b[39;00m \u001b[38;5;28mself\u001b[39m\u001b[38;5;241m.\u001b[39mapply_standard()\n",
      "File \u001b[1;32m~\\anaconda3\\Lib\\site-packages\\pandas\\core\\apply.py:1289\u001b[0m, in \u001b[0;36mSeriesApply.apply_standard\u001b[1;34m(self)\u001b[0m\n\u001b[0;32m   1283\u001b[0m \u001b[38;5;66;03m# row-wise access\u001b[39;00m\n\u001b[0;32m   1284\u001b[0m \u001b[38;5;66;03m# apply doesn't have a `na_action` keyword and for backward compat reasons\u001b[39;00m\n\u001b[0;32m   1285\u001b[0m \u001b[38;5;66;03m# we need to give `na_action=\"ignore\"` for categorical data.\u001b[39;00m\n\u001b[0;32m   1286\u001b[0m \u001b[38;5;66;03m# TODO: remove the `na_action=\"ignore\"` when that default has been changed in\u001b[39;00m\n\u001b[0;32m   1287\u001b[0m \u001b[38;5;66;03m#  Categorical (GH51645).\u001b[39;00m\n\u001b[0;32m   1288\u001b[0m action \u001b[38;5;241m=\u001b[39m \u001b[38;5;124m\"\u001b[39m\u001b[38;5;124mignore\u001b[39m\u001b[38;5;124m\"\u001b[39m \u001b[38;5;28;01mif\u001b[39;00m \u001b[38;5;28misinstance\u001b[39m(obj\u001b[38;5;241m.\u001b[39mdtype, CategoricalDtype) \u001b[38;5;28;01melse\u001b[39;00m \u001b[38;5;28;01mNone\u001b[39;00m\n\u001b[1;32m-> 1289\u001b[0m mapped \u001b[38;5;241m=\u001b[39m obj\u001b[38;5;241m.\u001b[39m_map_values(\n\u001b[0;32m   1290\u001b[0m     mapper\u001b[38;5;241m=\u001b[39mcurried, na_action\u001b[38;5;241m=\u001b[39maction, convert\u001b[38;5;241m=\u001b[39m\u001b[38;5;28mself\u001b[39m\u001b[38;5;241m.\u001b[39mconvert_dtype\n\u001b[0;32m   1291\u001b[0m )\n\u001b[0;32m   1293\u001b[0m \u001b[38;5;28;01mif\u001b[39;00m \u001b[38;5;28mlen\u001b[39m(mapped) \u001b[38;5;129;01mand\u001b[39;00m \u001b[38;5;28misinstance\u001b[39m(mapped[\u001b[38;5;241m0\u001b[39m], ABCSeries):\n\u001b[0;32m   1294\u001b[0m     \u001b[38;5;66;03m# GH#43986 Need to do list(mapped) in order to get treated as nested\u001b[39;00m\n\u001b[0;32m   1295\u001b[0m     \u001b[38;5;66;03m#  See also GH#25959 regarding EA support\u001b[39;00m\n\u001b[0;32m   1296\u001b[0m     \u001b[38;5;28;01mreturn\u001b[39;00m obj\u001b[38;5;241m.\u001b[39m_constructor_expanddim(\u001b[38;5;28mlist\u001b[39m(mapped), index\u001b[38;5;241m=\u001b[39mobj\u001b[38;5;241m.\u001b[39mindex)\n",
      "File \u001b[1;32m~\\anaconda3\\Lib\\site-packages\\pandas\\core\\base.py:921\u001b[0m, in \u001b[0;36mIndexOpsMixin._map_values\u001b[1;34m(self, mapper, na_action, convert)\u001b[0m\n\u001b[0;32m    918\u001b[0m \u001b[38;5;28;01mif\u001b[39;00m \u001b[38;5;28misinstance\u001b[39m(arr, ExtensionArray):\n\u001b[0;32m    919\u001b[0m     \u001b[38;5;28;01mreturn\u001b[39;00m arr\u001b[38;5;241m.\u001b[39mmap(mapper, na_action\u001b[38;5;241m=\u001b[39mna_action)\n\u001b[1;32m--> 921\u001b[0m \u001b[38;5;28;01mreturn\u001b[39;00m algorithms\u001b[38;5;241m.\u001b[39mmap_array(arr, mapper, na_action\u001b[38;5;241m=\u001b[39mna_action, convert\u001b[38;5;241m=\u001b[39mconvert)\n",
      "File \u001b[1;32m~\\anaconda3\\Lib\\site-packages\\pandas\\core\\algorithms.py:1814\u001b[0m, in \u001b[0;36mmap_array\u001b[1;34m(arr, mapper, na_action, convert)\u001b[0m\n\u001b[0;32m   1812\u001b[0m values \u001b[38;5;241m=\u001b[39m arr\u001b[38;5;241m.\u001b[39mastype(\u001b[38;5;28mobject\u001b[39m, copy\u001b[38;5;241m=\u001b[39m\u001b[38;5;28;01mFalse\u001b[39;00m)\n\u001b[0;32m   1813\u001b[0m \u001b[38;5;28;01mif\u001b[39;00m na_action \u001b[38;5;129;01mis\u001b[39;00m \u001b[38;5;28;01mNone\u001b[39;00m:\n\u001b[1;32m-> 1814\u001b[0m     \u001b[38;5;28;01mreturn\u001b[39;00m lib\u001b[38;5;241m.\u001b[39mmap_infer(values, mapper, convert\u001b[38;5;241m=\u001b[39mconvert)\n\u001b[0;32m   1815\u001b[0m \u001b[38;5;28;01melse\u001b[39;00m:\n\u001b[0;32m   1816\u001b[0m     \u001b[38;5;28;01mreturn\u001b[39;00m lib\u001b[38;5;241m.\u001b[39mmap_infer_mask(\n\u001b[0;32m   1817\u001b[0m         values, mapper, mask\u001b[38;5;241m=\u001b[39misna(values)\u001b[38;5;241m.\u001b[39mview(np\u001b[38;5;241m.\u001b[39muint8), convert\u001b[38;5;241m=\u001b[39mconvert\n\u001b[0;32m   1818\u001b[0m     )\n",
      "File \u001b[1;32mlib.pyx:2926\u001b[0m, in \u001b[0;36mpandas._libs.lib.map_infer\u001b[1;34m()\u001b[0m\n",
      "Cell \u001b[1;32mIn[58], line 8\u001b[0m, in \u001b[0;36m<lambda>\u001b[1;34m(x)\u001b[0m\n\u001b[0;32m      5\u001b[0m df[\u001b[38;5;124m'\u001b[39m\u001b[38;5;124mprice\u001b[39m\u001b[38;5;124m'\u001b[39m] \u001b[38;5;241m=\u001b[39m df[\u001b[38;5;124m'\u001b[39m\u001b[38;5;124mprice\u001b[39m\u001b[38;5;124m'\u001b[39m]\u001b[38;5;241m.\u001b[39mapply(\u001b[38;5;28;01mlambda\u001b[39;00m x: re\u001b[38;5;241m.\u001b[39msub(\u001b[38;5;124mr\u001b[39m\u001b[38;5;124m'\u001b[39m\u001b[38;5;124m\\\u001b[39m\u001b[38;5;124m$\u001b[39m\u001b[38;5;124m'\u001b[39m, \u001b[38;5;124m'\u001b[39m\u001b[38;5;124m'\u001b[39m, x) \u001b[38;5;28;01mif\u001b[39;00m \u001b[38;5;28misinstance\u001b[39m(x, \u001b[38;5;28mstr\u001b[39m) \u001b[38;5;28;01melse\u001b[39;00m x)\n\u001b[0;32m      7\u001b[0m \u001b[38;5;66;03m# 범주형 값 처리 (두 값의 평균으로 대체)\u001b[39;00m\n\u001b[1;32m----> 8\u001b[0m df[\u001b[38;5;124m'\u001b[39m\u001b[38;5;124mprice\u001b[39m\u001b[38;5;124m'\u001b[39m] \u001b[38;5;241m=\u001b[39m df[\u001b[38;5;124m'\u001b[39m\u001b[38;5;124mprice\u001b[39m\u001b[38;5;124m'\u001b[39m]\u001b[38;5;241m.\u001b[39mapply(\u001b[38;5;28;01mlambda\u001b[39;00m x: x\u001b[38;5;241m.\u001b[39msplit(\u001b[38;5;124m'\u001b[39m\u001b[38;5;124m - \u001b[39m\u001b[38;5;124m'\u001b[39m)[\u001b[38;5;241m0\u001b[39m] \u001b[38;5;28;01mif\u001b[39;00m \u001b[38;5;124m'\u001b[39m\u001b[38;5;124m - \u001b[39m\u001b[38;5;124m'\u001b[39m \u001b[38;5;129;01min\u001b[39;00m x \u001b[38;5;28;01melse\u001b[39;00m x)\n\u001b[0;32m      9\u001b[0m df[\u001b[38;5;124m'\u001b[39m\u001b[38;5;124mprice\u001b[39m\u001b[38;5;124m'\u001b[39m] \u001b[38;5;241m=\u001b[39m df[\u001b[38;5;124m'\u001b[39m\u001b[38;5;124mprice\u001b[39m\u001b[38;5;124m'\u001b[39m]\u001b[38;5;241m.\u001b[39mapply(\u001b[38;5;28;01mlambda\u001b[39;00m x: (\u001b[38;5;28mfloat\u001b[39m(x\u001b[38;5;241m.\u001b[39msplit(\u001b[38;5;124m'\u001b[39m\u001b[38;5;124m - \u001b[39m\u001b[38;5;124m'\u001b[39m)[\u001b[38;5;241m0\u001b[39m]) \u001b[38;5;241m+\u001b[39m \u001b[38;5;28mfloat\u001b[39m(x\u001b[38;5;241m.\u001b[39msplit(\u001b[38;5;124m'\u001b[39m\u001b[38;5;124m - \u001b[39m\u001b[38;5;124m'\u001b[39m)[\u001b[38;5;241m1\u001b[39m])) \u001b[38;5;241m/\u001b[39m \u001b[38;5;241m2\u001b[39m \u001b[38;5;28;01mif\u001b[39;00m \u001b[38;5;124m'\u001b[39m\u001b[38;5;124m - \u001b[39m\u001b[38;5;124m'\u001b[39m \u001b[38;5;129;01min\u001b[39;00m x \u001b[38;5;28;01melse\u001b[39;00m x)\n",
      "\u001b[1;31mTypeError\u001b[0m: argument of type 'NoneType' is not iterable"
     ]
    }
   ],
   "source": [
    "# null 값 처리\n",
    "df['price'] = df['price'].apply(lambda x: None if x=='' else x) # None을 빈 문자열로 대체\n",
    "\n",
    "# $ 제거하여 숫자만 남기기\n",
    "df['price'] = df['price'].apply(lambda x: re.sub(r'\\$', '', x) if isinstance(x, str) else x)\n",
    "\n",
    "# 범주형 값 처리 (두 값의 평균으로 대체)\n",
    "df['price'] = df['price'].apply(lambda x: x.split(' - ')[0] if ' - ' in x else x)\n",
    "df['price'] = df['price'].apply(lambda x: (float(x.split(' - ')[0]) + float(x.split(' - ')[1])) / 2 if ' - ' in x else x)\n"
   ]
  },
  {
   "cell_type": "code",
   "execution_count": 73,
   "id": "c56057c1",
   "metadata": {
    "scrolled": true
   },
   "outputs": [
    {
     "data": {
      "text/plain": [
       "99950               1.51\n",
       "99951              10.01\n",
       "99952               None\n",
       "99953              44.97\n",
       "99954               None\n",
       "99955               None\n",
       "99956              11.18\n",
       "99957               1.80\n",
       "99958               None\n",
       "99959               None\n",
       "99960               None\n",
       "99961              10.62\n",
       "99962               5.00\n",
       "99963               7.39\n",
       "99964              13.19\n",
       "99965              37.21\n",
       "99966               7.49\n",
       "99967               7.28\n",
       "99968               7.95\n",
       "99969               7.99\n",
       "99970              14.95\n",
       "99971     51.21 - 104.94\n",
       "99972               None\n",
       "99973              10.63\n",
       "99974              17.95\n",
       "99975               5.99\n",
       "99976    124.95 - 294.23\n",
       "99977               6.50\n",
       "99978               8.67\n",
       "99979               4.02\n",
       "99980              15.99\n",
       "99981               4.74\n",
       "99982               None\n",
       "99983               6.99\n",
       "99984              14.41\n",
       "99985               None\n",
       "99986               None\n",
       "99987      12.95 - 30.90\n",
       "99988               None\n",
       "99989             193.95\n",
       "99990              25.95\n",
       "99991               3.98\n",
       "99992               None\n",
       "99993               9.64\n",
       "99994               5.94\n",
       "99995               None\n",
       "99996               9.99\n",
       "99997             420.95\n",
       "99998              15.00\n",
       "99999              60.00\n",
       "Name: price, dtype: object"
      ]
     },
     "execution_count": 73,
     "metadata": {},
     "output_type": "execute_result"
    }
   ],
   "source": [
    "df['price'].tail(50)"
   ]
  },
  {
   "cell_type": "markdown",
   "id": "d9af92bc",
   "metadata": {},
   "source": [
    "# asin"
   ]
  },
  {
   "cell_type": "code",
   "execution_count": 74,
   "id": "ea6051d4",
   "metadata": {
    "scrolled": true
   },
   "outputs": [
    {
     "data": {
      "text/plain": [
       "99950    B001HYEMMA\n",
       "99951    B001HYFES6\n",
       "99952    B001HY9SZQ\n",
       "99953    B001HYDNIE\n",
       "99954    B001HYI30W\n",
       "99955    B001HY4EI2\n",
       "99956    B001HYIFV4\n",
       "99957    B001HYHCO0\n",
       "99958    B001HYD8UC\n",
       "99959    B001HYGDN6\n",
       "99960    B001HYM6H8\n",
       "99961    B001HYI0P0\n",
       "99962    B001HYGBR4\n",
       "99963    B001HYLLP6\n",
       "99964    B001HYK166\n",
       "99965    B001HYKD8M\n",
       "99966    B001HYHMD6\n",
       "99967    B001HYN8SY\n",
       "99968    B001HYKB2U\n",
       "99969    B001HYJZT0\n",
       "99970    B001HYRDGM\n",
       "99971    B001HYAY0Y\n",
       "99972    B001HYDEDS\n",
       "99973    B001HYGAQQ\n",
       "99974    B001HYN7G2\n",
       "99975    B001HYS4UQ\n",
       "99976    B001HYNSNO\n",
       "99977    B001HYKASU\n",
       "99978    B001HYIC5I\n",
       "99979    B001HYIHGC\n",
       "99980    B001HYTE5U\n",
       "99981    B001HYKUTY\n",
       "99982    B001HYRQCS\n",
       "99983    B001HYS546\n",
       "99984    B001HYTQPS\n",
       "99985    B001HYD4F6\n",
       "99986    B001HYQ5I4\n",
       "99987    B001HYEKQ8\n",
       "99988    B001HYEYDM\n",
       "99989    B001HYW3XK\n",
       "99990    B001HYOA0Y\n",
       "99991    B001HYM4JI\n",
       "99992    B001HYKRPG\n",
       "99993    B001HYY1IA\n",
       "99994    B001HYTPSQ\n",
       "99995    B001HYKE2W\n",
       "99996    B001HZ07KK\n",
       "99997    B001HYYC4S\n",
       "99998    B001HYOBPI\n",
       "99999    B001HZ0CIM\n",
       "Name: asin, dtype: object"
      ]
     },
     "execution_count": 74,
     "metadata": {},
     "output_type": "execute_result"
    }
   ],
   "source": [
    "df['asin'].tail(50)"
   ]
  },
  {
   "cell_type": "code",
   "execution_count": 75,
   "id": "d74bba06",
   "metadata": {},
   "outputs": [
    {
     "data": {
      "text/plain": [
       "94917"
      ]
     },
     "execution_count": 75,
     "metadata": {},
     "output_type": "execute_result"
    }
   ],
   "source": [
    "df['asin'].nunique()"
   ]
  },
  {
   "cell_type": "code",
   "execution_count": 76,
   "id": "53f80788",
   "metadata": {},
   "outputs": [
    {
     "data": {
      "text/plain": [
       "asin\n",
       "B0004JQXEY    2\n",
       "B00021P7DC    2\n",
       "B00021LLPU    2\n",
       "B00021LLXM    2\n",
       "B00021LT0M    2\n",
       "             ..\n",
       "B000N58I5G    1\n",
       "B000N56UJC    1\n",
       "B000N58I1K    1\n",
       "B000N58I42    1\n",
       "B001HZ0CIM    1\n",
       "Name: count, Length: 94917, dtype: int64"
      ]
     },
     "execution_count": 76,
     "metadata": {},
     "output_type": "execute_result"
    }
   ],
   "source": [
    "df['asin'].value_counts()"
   ]
  },
  {
   "cell_type": "code",
   "execution_count": 77,
   "id": "429e6d9e",
   "metadata": {},
   "outputs": [
    {
     "data": {
      "text/plain": [
       "0"
      ]
     },
     "execution_count": 77,
     "metadata": {},
     "output_type": "execute_result"
    }
   ],
   "source": [
    "len(df[df['asin'].apply(lambda x:x=='')])"
   ]
  },
  {
   "cell_type": "markdown",
   "id": "657797a8",
   "metadata": {},
   "source": [
    "# imageURL"
   ]
  },
  {
   "cell_type": "code",
   "execution_count": 78,
   "id": "f6ae60ba",
   "metadata": {
    "scrolled": true
   },
   "outputs": [
    {
     "data": {
      "text/plain": [
       "0                                                                                                                                                                                                          []\n",
       "1                                                                                                                                                                                                          []\n",
       "2                                                                                                                                                                                                          []\n",
       "3                                                                                                                                                                                                          []\n",
       "4                                                                                                                                                                                                          []\n",
       "5                                                                                                                                                                                                          []\n",
       "6                                                          [https://images-na.ssl-images-amazon.com/images/I/41mxTGc1tML._SS40_.jpg, https://images-na.ssl-images-amazon.com/images/I/41sHOSFCHqL._SS40_.jpg]\n",
       "7                                                                                                                                                                                                          []\n",
       "8                                                                                                                                                                                                          []\n",
       "9                                                                                                                                                                                                          []\n",
       "10                                                                                                                                                                                                         []\n",
       "11                                                         [https://images-na.ssl-images-amazon.com/images/I/51ltbpiBcBL._SS40_.jpg, https://images-na.ssl-images-amazon.com/images/I/41JNZHXppSL._SS40_.jpg]\n",
       "12                                                                                                                                                                                                         []\n",
       "13    [https://images-na.ssl-images-amazon.com/images/I/41NCrRZUVfL._SS40_.jpg, https://images-na.ssl-images-amazon.com/images/I/41t2K0NasfL._SS40_.jpg, https://images-na.ssl-images-amazon.com/images/I/...\n",
       "14                                                                                                                                                                                                         []\n",
       "15                                                                                                                                                                                                         []\n",
       "16                                                                                                                                                                                                         []\n",
       "17                                                                                                                                                                                                         []\n",
       "18                                                                                                                                                                                                         []\n",
       "19                                                                                                                                                                                                         []\n",
       "20                                                                                                                                                                                                         []\n",
       "21                                                                                                                                                                                                         []\n",
       "22                                                                                                                                                                                                         []\n",
       "23                                                                                                                                                                                                         []\n",
       "24                                                                                                                                                                                                         []\n",
       "25                                                         [https://images-na.ssl-images-amazon.com/images/I/51eXt4FThxL._SS40_.jpg, https://images-na.ssl-images-amazon.com/images/I/31bqMEqwU3L._SS40_.jpg]\n",
       "26                                                         [https://images-na.ssl-images-amazon.com/images/I/51abpgbthqL._SS40_.jpg, https://images-na.ssl-images-amazon.com/images/I/418Wc2O8drL._SS40_.jpg]\n",
       "27                                                                                                                                                                                                         []\n",
       "28                                                                                                                                  [https://images-na.ssl-images-amazon.com/images/I/51fdJjGkSoL._SS40_.jpg]\n",
       "29                                                                                                                                                                                                         []\n",
       "30                                                         [https://images-na.ssl-images-amazon.com/images/I/51PMBCMWnUL._SS40_.jpg, https://images-na.ssl-images-amazon.com/images/I/41WZjTpzvpL._SS40_.jpg]\n",
       "31                                                                                                                                                                                                         []\n",
       "32                                                                                                                                                                                                         []\n",
       "33                                                                                                                                                                                                         []\n",
       "34                                                                                                                                                                                                         []\n",
       "35                                                                                                                                                                                                         []\n",
       "36                                                                                                                                                                                                         []\n",
       "37                                                                                                                                                                                                         []\n",
       "38                                                                                                                                                                                                         []\n",
       "39                                                                                                                                                                                                         []\n",
       "40                                                                                                                                                                                                         []\n",
       "41                                                                                                                                                                                                         []\n",
       "42                                                                                                                                  [https://images-na.ssl-images-amazon.com/images/I/61DcfvqCx1L._SS40_.jpg]\n",
       "43                                                                                                                                  [https://images-na.ssl-images-amazon.com/images/I/611XZ9Hj3qL._SS40_.jpg]\n",
       "44                                                                                                                                                                                                         []\n",
       "45                                                                                                                                                                                                         []\n",
       "46                                                                                                                                                                                                         []\n",
       "47                                                         [https://images-na.ssl-images-amazon.com/images/I/61-VndErlZL._SS40_.jpg, https://images-na.ssl-images-amazon.com/images/I/41Dkc5IDFQL._SS40_.jpg]\n",
       "48    [https://images-na.ssl-images-amazon.com/images/I/41dmQ5r1AvL._SS40_.jpg, https://images-na.ssl-images-amazon.com/images/I/41rA045I71L._SS40_.jpg, https://images-na.ssl-images-amazon.com/images/I/...\n",
       "49                                                                                                                                                                                                         []\n",
       "Name: imageURL, dtype: object"
      ]
     },
     "execution_count": 78,
     "metadata": {},
     "output_type": "execute_result"
    }
   ],
   "source": [
    "df['imageURL'].head(50)"
   ]
  },
  {
   "cell_type": "code",
   "execution_count": 79,
   "id": "7b903629",
   "metadata": {},
   "outputs": [
    {
     "data": {
      "text/plain": [
       "68983"
      ]
     },
     "execution_count": 79,
     "metadata": {},
     "output_type": "execute_result"
    }
   ],
   "source": [
    "# [] 로 채워져 있는 빈값 약 7만개\n",
    "len(df[df['imageURL'].apply(lambda x:x==[])])"
   ]
  },
  {
   "cell_type": "code",
   "execution_count": 80,
   "id": "989b9bb1",
   "metadata": {},
   "outputs": [],
   "source": [
    "# [] 들 모두 null 로 바꾸기\n",
    "df['imageURL'] = df['imageURL'].apply(lambda x: None if x==[] else x)"
   ]
  },
  {
   "cell_type": "code",
   "execution_count": 81,
   "id": "edb5b619",
   "metadata": {},
   "outputs": [
    {
     "data": {
      "text/plain": [
       "31017"
      ]
     },
     "execution_count": 81,
     "metadata": {},
     "output_type": "execute_result"
    }
   ],
   "source": [
    "count = sum(df['imageURL'].apply(lambda x: str(x).startswith('[')))\n",
    "count"
   ]
  },
  {
   "cell_type": "markdown",
   "id": "917ad029",
   "metadata": {},
   "source": [
    "# imageURLHighRes"
   ]
  },
  {
   "cell_type": "code",
   "execution_count": 82,
   "id": "8c3d23e6",
   "metadata": {},
   "outputs": [
    {
     "data": {
      "text/plain": [
       "0                                                                        []\n",
       "1                                                                        []\n",
       "2                                                                        []\n",
       "3                                                                        []\n",
       "4                                                                        []\n",
       "                                        ...                                \n",
       "99995                                                                    []\n",
       "99996                                                                    []\n",
       "99997    [https://images-na.ssl-images-amazon.com/images/I/51kZsOvOBSL.jpg]\n",
       "99998                                                                    []\n",
       "99999                                                                    []\n",
       "Name: imageURLHighRes, Length: 100000, dtype: object"
      ]
     },
     "execution_count": 82,
     "metadata": {},
     "output_type": "execute_result"
    }
   ],
   "source": [
    "df['imageURLHighRes']"
   ]
  },
  {
   "cell_type": "code",
   "execution_count": 83,
   "id": "17e776d6",
   "metadata": {},
   "outputs": [
    {
     "data": {
      "text/plain": [
       "68983"
      ]
     },
     "execution_count": 83,
     "metadata": {},
     "output_type": "execute_result"
    }
   ],
   "source": [
    "# [] 로 채워져 있는 빈값 약 7만개\n",
    "len(df[df['imageURLHighRes'].apply(lambda x:x==[])])"
   ]
  },
  {
   "cell_type": "code",
   "execution_count": 84,
   "id": "e020595c",
   "metadata": {},
   "outputs": [],
   "source": [
    "df['imageURLHighRes'] = df['imageURLHighRes'].apply(lambda x: None if x==[] else x)"
   ]
  },
  {
   "cell_type": "markdown",
   "id": "dd4d53b7",
   "metadata": {},
   "source": [
    "# details"
   ]
  },
  {
   "cell_type": "code",
   "execution_count": 85,
   "id": "8e71a400",
   "metadata": {},
   "outputs": [
    {
     "data": {
      "text/plain": [
       "138"
      ]
     },
     "execution_count": 85,
     "metadata": {},
     "output_type": "execute_result"
    }
   ],
   "source": [
    "df['details'].isnull().sum()"
   ]
  },
  {
   "cell_type": "code",
   "execution_count": 86,
   "id": "cbdba7ac",
   "metadata": {
    "scrolled": true
   },
   "outputs": [
    {
     "data": {
      "text/plain": [
       "99950    {'\n",
       "    Product Dimensions: \n",
       "    ': '5 x 4 x 6 inches ; 6.7 ounces', 'Shipping Weight:': '12.8 ounces (', 'Domestic Shipping: ': 'Currently, item can be shipped only within the U.S. and to APO/FPO ...\n",
       "99951                                                                                                                                               {'Shipping Weight:': '0.5 ounces (', 'ASIN: ': 'B001HYFES6'}\n",
       "99952                                                                                                                                                {'Shipping Weight:': '19.1 pounds', 'ASIN: ': 'B001HY9SZQ'}\n",
       "99953                                                                                                       {'\n",
       "    Item Weight: \n",
       "    ': '3.99 pounds', 'Shipping Weight:': '4 pounds (', 'ASIN: ': 'B001HYDNIE'}\n",
       "99954    {'\n",
       "    Product Dimensions: \n",
       "    ': '2.8 x 0.6 x 0.6 inches', 'Shipping Weight:': '0.2 ounces', 'Domestic Shipping: ': 'Currently, item can be shipped only within the U.S. and to APO/FPO addresses....\n",
       "99955                                           {'\n",
       "    Product Dimensions: \n",
       "    ': '14 x 11 x 4 inches ; 3.04 ounces', 'Shipping Weight:': '6.8 pounds', 'ASIN: ': 'B001HY4EI2', 'Item model number:': '540127'}\n",
       "99956    {'\n",
       "    Product Dimensions: \n",
       "    ': '10 x 1 x 15 inches ; 1.76 ounces', 'Shipping Weight:': '2.4 ounces (', 'Domestic Shipping: ': 'Currently, item can be shipped only within the U.S. and to APO/FP...\n",
       "99957                                                        {'\n",
       "    Product Dimensions: \n",
       "    ': '13 x 1 x 1 inches', 'Shipping Weight:': '0.3 ounces (', 'ASIN: ': 'B001HYHCO0', 'Item model number:': 'USFE37'}\n",
       "99958                                                                                                                                                   {'Shipping Weight:': '1 pounds', 'ASIN: ': 'B001HYD8UC'}\n",
       "99959                                                                                                                                                                                   {'ASIN: ': 'B001HYGDN6'}\n",
       "99960    {'\n",
       "    Product Dimensions: \n",
       "    ': '11.8 x 8.5 x 3.9 inches ; 0.32 ounces', 'Shipping Weight:': '0.3 ounces', 'ASIN: ': 'B001HYM6H8', 'Item model number:': 'Grivel', 'Discontinued by manufacturer:...\n",
       "99961    {'\n",
       "    Product Dimensions: \n",
       "    ': '3.2 x 0.8 x 0.9 inches', 'Shipping Weight:': '0.8 ounces (', 'Domestic Shipping: ': 'Currently, item can be shipped only within the U.S. and to APO/FPO addresse...\n",
       "99962    {'\n",
       "    Product Dimensions: \n",
       "    ': '11 x 6 x 1 inches ; 9.6 ounces', 'Shipping Weight:': '10.6 ounces (', 'Domestic Shipping: ': 'Item can be shipped within U.S.', 'International Shipping: ': 'Thi...\n",
       "99963    {'Shipping Weight:': '0.3 ounces (', 'Domestic Shipping: ': 'Currently, item can be shipped only within the U.S. and to APO/FPO addresses. For APO/FPO shipments, please check with the manufacturer...\n",
       "99964    {'\n",
       "    Product Dimensions: \n",
       "    ': '3.2 x 0.8 x 0.9 inches', 'Shipping Weight:': '0.8 ounces (', 'Domestic Shipping: ': 'Currently, item can be shipped only within the U.S. and to APO/FPO addresse...\n",
       "99965    {'\n",
       "    Product Dimensions: \n",
       "    ': '1 x 1 x 1 inches ; 12 ounces', 'Shipping Weight:': '13.6 ounces (', 'Domestic Shipping: ': 'Item can be shipped within U.S.', 'International Shipping: ': 'This ...\n",
       "99966    {'\n",
       "    Product Dimensions: \n",
       "    ': '1 x 1 x 1 inches', 'Shipping Weight:': '0.8 ounces (', 'Domestic Shipping: ': 'Currently, item can be shipped only within the U.S. and to APO/FPO addresses. For...\n",
       "99967    {'\n",
       "    Product Dimensions: \n",
       "    ': '1 x 1 x 1 inches ; 5.3 ounces', 'Shipping Weight:': '7.2 ounces (', 'Domestic Shipping: ': 'Currently, item can be shipped only within the U.S. and to APO/FPO a...\n",
       "99968    {'\n",
       "    Product Dimensions: \n",
       "    ': '1 x 1 x 1 inches ; 0.8 ounces', 'Shipping Weight:': '1.6 ounces (', 'Domestic Shipping: ': 'Item can be shipped within U.S.', 'International Shipping: ': 'This ...\n",
       "99969    {'Shipping Weight:': '4.8 ounces (', 'Domestic Shipping: ': 'Currently, item can be shipped only within the U.S. and to APO/FPO addresses. For APO/FPO shipments, please check with the manufacturer...\n",
       "99970                                         {'\n",
       "    Product Dimensions: \n",
       "    ': '10 x 6 x 1 inches ; 13.4 ounces', 'Shipping Weight:': '13.4 ounces (', 'ASIN: ': 'B002IAF9N8', 'Item model number:': 'Grivel'}\n",
       "99971    {'Domestic Shipping: ': 'Item can be shipped within U.S.', 'International Shipping: ': 'This item is not eligible for international shipping.', 'ASIN: ': 'B00M6Q7FEA', 'Item model number:': 'S 206...\n",
       "99972                                                                                                                                                                                   {'ASIN: ': 'B001HYDEDS'}\n",
       "99973    {'\n",
       "    Product Dimensions: \n",
       "    ': '1 x 1 x 1 inches ; 5.6 ounces', 'Shipping Weight:': '5.6 ounces (', 'Domestic Shipping: ': 'Currently, item can be shipped only within the U.S. and to APO/FPO a...\n",
       "99974                                                                                                                                                                                                         {}\n",
       "99975    {'\n",
       "    Product Dimensions: \n",
       "    ': '3.2 x 0.6 x 0.6 inches ; 0.64 ounces', 'Shipping Weight:': '4.8 ounces (', 'Domestic Shipping: ': 'Item can be shipped within U.S.', 'International Shipping: ':...\n",
       "99976                                                                                                          {'\n",
       "    Item Weight: \n",
       "    ': '1 pounds', 'Shipping Weight:': '1 pounds (', 'ASIN: ': 'B076FVQQ1F'}\n",
       "99977    {'\n",
       "    Product Dimensions: \n",
       "    ': '7 x 3 x 1 inches', 'Shipping Weight:': '0.3 ounces (', 'Domestic Shipping: ': 'Currently, item can be shipped only within the U.S. and to APO/FPO addresses. For...\n",
       "99978    {'\n",
       "    Product Dimensions: \n",
       "    ': '9 x 14 x 23 inches ; 2.2 pounds', 'Shipping Weight:': '2.4 pounds (', 'Domestic Shipping: ': 'Item can be shipped within U.S.', 'International Shipping: ': 'Thi...\n",
       "99979    {'\n",
       "    Product Dimensions: \n",
       "    ': '5.2 x 3.8 x 1.5 inches ; 12.6 ounces', 'Shipping Weight:': '15.5 ounces (', 'Domestic Shipping: ': 'Currently, item can be shipped only within the U.S. and to A...\n",
       "99980    {'Shipping Weight:': '1 ounces (', 'Domestic Shipping: ': 'Item can be shipped within U.S.', 'International Shipping: ': 'This item is not eligible for international shipping.', 'ASIN: ': 'B001HYT...\n",
       "99981                                                      {'\n",
       "    Product Dimensions: \n",
       "    ': '13 x 1 x 1 inches', 'Shipping Weight:': '0.8 ounces (', 'ASIN: ': 'B001HYKUTY', 'Item model number:': 'UNI8E377'}\n",
       "99982    {'\n",
       "    Product Dimensions: \n",
       "    ': '22.4 x 7.9 x 7.9 inches ; 9 pounds', 'Shipping Weight:': '9.4 pounds', 'Domestic Shipping: ': 'Item can be shipped within U.S.', 'International Shipping: ': 'Th...\n",
       "99983    {'\n",
       "    Product Dimensions: \n",
       "    ': '3.6 x 1 x 1.1 inches', 'Shipping Weight:': '1.1 ounces (', 'Domestic Shipping: ': 'Currently, item can be shipped only within the U.S. and to APO/FPO addresses....\n",
       "99984                                          {'\n",
       "    Product Dimensions: \n",
       "    ': '87 x 4 x 30 inches ; 10.6 ounces', 'Shipping Weight:': '2.2 pounds (', 'ASIN: ': 'B001HYTQPS', 'Item model number:': '91078'}\n",
       "99985                                                                   {'\n",
       "    Item Weight: \n",
       "    ': '2.08 ounces', 'Shipping Weight:': '2.1 ounces', 'ASIN: ': 'B001HYD4F6', 'Item model number:': 'CA1699404N'}\n",
       "99986                                                                           {'\n",
       "    Product Dimensions: \n",
       "    ': '3.9 x 2 x 3.9 inches ; 12.3 ounces', 'Shipping Weight:': '1 pounds', 'ASIN: ': 'B001HYQ5I4'}\n",
       "99987    {'\n",
       "    Product Dimensions: \n",
       "    ': '10.8 x 9.6 x 6.2 inches ; 4 ounces', 'Shipping Weight:': '4.8 ounces (', 'Domestic Shipping: ': 'Item can be shipped within U.S.', 'International Shipping: ': '...\n",
       "99988                                                                                                                                                                                                         {}\n",
       "99989                                                                                                                                                 {'Shipping Weight:': '6 pounds (', 'ASIN: ': 'B001HYW3XK'}\n",
       "99990                                          {'\n",
       "    Product Dimensions: \n",
       "    ': '11 x 1 x 1 inches ; 0.32 ounces', 'Shipping Weight:': '0.3 ounces (', 'ASIN: ': 'B001HYOA0Y', 'Item model number:': 'Grivel'}\n",
       "99991                                             {'\n",
       "    Product Dimensions: \n",
       "    ': '9 x 5 x 3 inches ; 13.4 ounces', 'Shipping Weight:': '1 pounds (', 'ASIN: ': 'B001DGXC8W', 'Item model number:': 'Grivel'}\n",
       "99992    {'Shipping Weight:': '3.5 ounces', 'Domestic Shipping: ': 'Currently, item can be shipped only within the U.S. and to APO/FPO addresses. For APO/FPO shipments, please check with the manufacturer r...\n",
       "99993    {'Shipping Weight:': '0.2 ounces (', 'Domestic Shipping: ': 'Currently, item can be shipped only within the U.S. and to APO/FPO addresses. For APO/FPO shipments, please check with the manufacturer...\n",
       "99994                                                                                                                                                                                                         {}\n",
       "99995                                                                                                                 {'Shipping Weight:': '1.4 pounds', 'ASIN: ': 'B001HYKE2W', 'Item model number:': '056417'}\n",
       "99996    {'\n",
       "    Product Dimensions: \n",
       "    ': '2 x 0.4 x 0.4 inches ; 0.64 ounces', 'Shipping Weight:': '0.8 ounces (', 'Domestic Shipping: ': 'Currently, item can be shipped only within the U.S. and to APO/...\n",
       "99997                                                                                                                                                                                                         {}\n",
       "99998                                                         {'\n",
       "    Product Dimensions: \n",
       "    ': '8 x 5 x 2 inches', 'Shipping Weight:': '0.3 ounces (', 'ASIN: ': 'B001HYOBPI', 'Item model number:': 'Grivel'}\n",
       "99999                                           {'\n",
       "    Product Dimensions: \n",
       "    ': '24 x 9 x 3 inches ; 6.7 ounces', 'Shipping Weight:': '9.1 ounces (', 'ASIN: ': 'B001HZ0CIM', 'Item model number:': 'Brodin'}\n",
       "Name: details, dtype: object"
      ]
     },
     "execution_count": 86,
     "metadata": {},
     "output_type": "execute_result"
    }
   ],
   "source": [
    "df['details'].tail(50)\n",
    "# 불필요한 내용으로 삭제해도 될 것으로 보임"
   ]
  },
  {
   "cell_type": "code",
   "execution_count": 87,
   "id": "28991382",
   "metadata": {},
   "outputs": [],
   "source": [
    "df.drop('details', axis=1, inplace=True)"
   ]
  },
  {
   "cell_type": "code",
   "execution_count": null,
   "id": "ca1a076b",
   "metadata": {},
   "outputs": [],
   "source": []
  },
  {
   "cell_type": "code",
   "execution_count": 88,
   "id": "1a110e30",
   "metadata": {},
   "outputs": [
    {
     "name": "stdout",
     "output_type": "stream",
     "text": [
      "<class 'pandas.core.frame.DataFrame'>\n",
      "RangeIndex: 100000 entries, 0 to 99999\n",
      "Data columns (total 20 columns):\n",
      " #   Column           Non-Null Count   Dtype         \n",
      "---  ------           --------------   -----         \n",
      " 0   description      89647 non-null   object        \n",
      " 1   title            100000 non-null  object        \n",
      " 2   also_buy         29368 non-null   object        \n",
      " 3   brand            93652 non-null   object        \n",
      " 4   feature          82674 non-null   object        \n",
      " 5   rank             100000 non-null  object        \n",
      " 6   also_view        34222 non-null   object        \n",
      " 7   main_cat         92542 non-null   object        \n",
      " 8   similar_item     2991 non-null    object        \n",
      " 9   date             4227 non-null    datetime64[ns]\n",
      " 10  price            45279 non-null   object        \n",
      " 11  asin             100000 non-null  object        \n",
      " 12  imageURL         31017 non-null   object        \n",
      " 13  imageURLHighRes  31017 non-null   object        \n",
      " 14  category_big     94369 non-null   object        \n",
      " 15  category_mid     94369 non-null   object        \n",
      " 16  category_small   93861 non-null   object        \n",
      " 17  new_rank         80422 non-null   object        \n",
      " 18  year             4227 non-null    float64       \n",
      " 19  month            4227 non-null    float64       \n",
      "dtypes: datetime64[ns](1), float64(2), object(17)\n",
      "memory usage: 15.3+ MB\n"
     ]
    }
   ],
   "source": [
    "df.info()"
   ]
  },
  {
   "cell_type": "code",
   "execution_count": null,
   "id": "115e9516",
   "metadata": {},
   "outputs": [],
   "source": []
  }
 ],
 "metadata": {
  "kernelspec": {
   "display_name": "Python 3 (ipykernel)",
   "language": "python",
   "name": "python3"
  },
  "language_info": {
   "codemirror_mode": {
    "name": "ipython",
    "version": 3
   },
   "file_extension": ".py",
   "mimetype": "text/x-python",
   "name": "python",
   "nbconvert_exporter": "python",
   "pygments_lexer": "ipython3",
   "version": "3.11.5"
  }
 },
 "nbformat": 4,
 "nbformat_minor": 5
}
